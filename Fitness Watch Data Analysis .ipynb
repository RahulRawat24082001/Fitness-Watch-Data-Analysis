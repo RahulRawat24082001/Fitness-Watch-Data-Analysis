{
 "cells": [
  {
   "cell_type": "markdown",
   "id": "586dc02c",
   "metadata": {},
   "source": [
    "# Fitness Watch Data Analysis "
   ]
  },
  {
   "cell_type": "code",
   "execution_count": 1,
   "id": "e9bb6453",
   "metadata": {},
   "outputs": [],
   "source": [
    "import pandas as pd\n",
    "import seaborn as sns\n",
    "import matplotlib.pyplot as plt "
   ]
  },
  {
   "cell_type": "markdown",
   "id": "db32924a",
   "metadata": {},
   "source": [
    "## Importing the fitness watch data : \n"
   ]
  },
  {
   "cell_type": "code",
   "execution_count": 3,
   "id": "00e46a2f",
   "metadata": {},
   "outputs": [],
   "source": [
    "data = pd.read_csv(r\"Apple-Fitness-Data.csv\")"
   ]
  },
  {
   "cell_type": "code",
   "execution_count": 4,
   "id": "a9d30d4e",
   "metadata": {},
   "outputs": [
    {
     "data": {
      "text/html": [
       "<div>\n",
       "<style scoped>\n",
       "    .dataframe tbody tr th:only-of-type {\n",
       "        vertical-align: middle;\n",
       "    }\n",
       "\n",
       "    .dataframe tbody tr th {\n",
       "        vertical-align: top;\n",
       "    }\n",
       "\n",
       "    .dataframe thead th {\n",
       "        text-align: right;\n",
       "    }\n",
       "</style>\n",
       "<table border=\"1\" class=\"dataframe\">\n",
       "  <thead>\n",
       "    <tr style=\"text-align: right;\">\n",
       "      <th></th>\n",
       "      <th>Date</th>\n",
       "      <th>Time</th>\n",
       "      <th>Step Count</th>\n",
       "      <th>Distance</th>\n",
       "      <th>Energy Burned</th>\n",
       "      <th>Flights Climbed</th>\n",
       "      <th>Walking Double Support Percentage</th>\n",
       "      <th>Walking Speed</th>\n",
       "    </tr>\n",
       "  </thead>\n",
       "  <tbody>\n",
       "    <tr>\n",
       "      <th>0</th>\n",
       "      <td>2023-03-21</td>\n",
       "      <td>16:01:23</td>\n",
       "      <td>46</td>\n",
       "      <td>0.02543</td>\n",
       "      <td>14.620</td>\n",
       "      <td>3</td>\n",
       "      <td>0.304</td>\n",
       "      <td>3.060</td>\n",
       "    </tr>\n",
       "    <tr>\n",
       "      <th>1</th>\n",
       "      <td>2023-03-21</td>\n",
       "      <td>16:18:37</td>\n",
       "      <td>645</td>\n",
       "      <td>0.40041</td>\n",
       "      <td>14.722</td>\n",
       "      <td>3</td>\n",
       "      <td>0.309</td>\n",
       "      <td>3.852</td>\n",
       "    </tr>\n",
       "    <tr>\n",
       "      <th>2</th>\n",
       "      <td>2023-03-21</td>\n",
       "      <td>16:31:38</td>\n",
       "      <td>14</td>\n",
       "      <td>0.00996</td>\n",
       "      <td>14.603</td>\n",
       "      <td>4</td>\n",
       "      <td>0.278</td>\n",
       "      <td>3.996</td>\n",
       "    </tr>\n",
       "    <tr>\n",
       "      <th>3</th>\n",
       "      <td>2023-03-21</td>\n",
       "      <td>16:45:37</td>\n",
       "      <td>13</td>\n",
       "      <td>0.00901</td>\n",
       "      <td>14.811</td>\n",
       "      <td>3</td>\n",
       "      <td>0.278</td>\n",
       "      <td>5.040</td>\n",
       "    </tr>\n",
       "    <tr>\n",
       "      <th>4</th>\n",
       "      <td>2023-03-21</td>\n",
       "      <td>17:10:30</td>\n",
       "      <td>17</td>\n",
       "      <td>0.00904</td>\n",
       "      <td>15.153</td>\n",
       "      <td>3</td>\n",
       "      <td>0.281</td>\n",
       "      <td>5.184</td>\n",
       "    </tr>\n",
       "  </tbody>\n",
       "</table>\n",
       "</div>"
      ],
      "text/plain": [
       "         Date       Time  Step Count  Distance  Energy Burned  \\\n",
       "0  2023-03-21  16:01:23           46   0.02543         14.620   \n",
       "1  2023-03-21  16:18:37          645   0.40041         14.722   \n",
       "2  2023-03-21  16:31:38           14   0.00996         14.603   \n",
       "3  2023-03-21  16:45:37           13   0.00901         14.811   \n",
       "4  2023-03-21  17:10:30           17   0.00904         15.153   \n",
       "\n",
       "   Flights Climbed  Walking Double Support Percentage  Walking Speed  \n",
       "0                3                              0.304          3.060  \n",
       "1                3                              0.309          3.852  \n",
       "2                4                              0.278          3.996  \n",
       "3                3                              0.278          5.040  \n",
       "4                3                              0.281          5.184  "
      ]
     },
     "execution_count": 4,
     "metadata": {},
     "output_type": "execute_result"
    }
   ],
   "source": [
    "data.head()"
   ]
  },
  {
   "cell_type": "markdown",
   "id": "f770341a",
   "metadata": {},
   "source": [
    "### Checking for null and duplicated values in our dataset : "
   ]
  },
  {
   "cell_type": "code",
   "execution_count": 5,
   "id": "587f1b73",
   "metadata": {},
   "outputs": [
    {
     "data": {
      "text/plain": [
       "Date                                 0\n",
       "Time                                 0\n",
       "Step Count                           0\n",
       "Distance                             0\n",
       "Energy Burned                        0\n",
       "Flights Climbed                      0\n",
       "Walking Double Support Percentage    0\n",
       "Walking Speed                        0\n",
       "dtype: int64"
      ]
     },
     "execution_count": 5,
     "metadata": {},
     "output_type": "execute_result"
    }
   ],
   "source": [
    "data.isnull().sum()"
   ]
  },
  {
   "cell_type": "code",
   "execution_count": 7,
   "id": "89c66dcb",
   "metadata": {},
   "outputs": [
    {
     "data": {
      "text/plain": [
       "0"
      ]
     },
     "execution_count": 7,
     "metadata": {},
     "output_type": "execute_result"
    }
   ],
   "source": [
    "data.duplicated().sum()"
   ]
  },
  {
   "cell_type": "markdown",
   "id": "753f9c22",
   "metadata": {},
   "source": [
    "## Step Count Over Time : "
   ]
  },
  {
   "cell_type": "code",
   "execution_count": 29,
   "id": "4fafdadb",
   "metadata": {},
   "outputs": [
    {
     "data": {
      "application/vnd.plotly.v1+json": {
       "config": {
        "plotlyServerURL": "https://plot.ly"
       },
       "data": [
        {
         "hovertemplate": "Time=%{x}<br>Step Count=%{y}<extra></extra>",
         "legendgroup": "",
         "line": {
          "color": "#636efa",
          "dash": "solid"
         },
         "marker": {
          "symbol": "circle"
         },
         "mode": "lines",
         "name": "",
         "orientation": "v",
         "showlegend": false,
         "type": "scatter",
         "x": [
          "16:01:23 ",
          "16:18:37 ",
          "16:31:38 ",
          "16:45:37 ",
          "17:10:30 ",
          "18:14:45 ",
          "19:02:31 ",
          "19:10:51 ",
          "19:20:57 ",
          "21:04:23 ",
          "21:25:23 ",
          "00:32:15 ",
          "01:20:54 ",
          "08:22:57 ",
          "10:34:49 ",
          "10:52:38 ",
          "13:04:47 ",
          "13:42:14 ",
          "13:42:14 ",
          "13:55:27 ",
          "14:14:39 ",
          "14:52:20 ",
          "14:57:40 ",
          "15:15:35 ",
          "15:23:52 ",
          "15:40:24 ",
          "15:45:00 ",
          "16:13:03 ",
          "16:59:35 ",
          "17:06:48 ",
          "17:17:33 ",
          "17:27:35 ",
          "18:02:17 ",
          "18:11:29 ",
          "18:19:35 ",
          "18:29:34 ",
          "19:00:43 ",
          "19:07:33 ",
          "19:15:01 ",
          "19:25:32 ",
          "23:29:50 ",
          "09:15:52 ",
          "16:51:23 ",
          "17:01:33 ",
          "17:23:21 ",
          "19:00:57 ",
          "20:11:46 ",
          "20:52:19 ",
          "22:53:29 ",
          "14:20:45 ",
          "16:26:41 ",
          "16:51:38 ",
          "19:02:12 ",
          "20:11:48 ",
          "22:12:26 ",
          "13:11:57 ",
          "15:14:00 ",
          "15:38:12 ",
          "17:08:09 ",
          "18:46:46 ",
          "18:58:27 ",
          "19:10:59 ",
          "19:27:00 ",
          "23:24:27 ",
          "07:07:48 ",
          "15:53:25 ",
          "16:08:01 ",
          "17:24:18 ",
          "19:12:48 ",
          "19:28:30 ",
          "21:10:46 ",
          "21:23:31 ",
          "21:34:56 ",
          "22:16:26 ",
          "23:19:50 ",
          "08:58:35 ",
          "13:27:30 ",
          "13:48:15 ",
          "14:10:38 ",
          "18:32:19 ",
          "18:42:59 ",
          "20:36:57 ",
          "21:23:57 ",
          "11:44:10 ",
          "11:52:21 ",
          "19:44:18 ",
          "20:15:46 ",
          "20:30:22 ",
          "21:03:51 ",
          "22:59:31 ",
          "22:59:35 ",
          "22:59:36 ",
          "22:59:46 ",
          "22:59:49 ",
          "23:10:35 ",
          "01:13:15 ",
          "01:31:53 ",
          "09:22:39 ",
          "13:11:20 ",
          "13:21:19 ",
          "13:31:19 ",
          "13:43:01 ",
          "14:05:27 ",
          "17:48:37 ",
          "17:58:50 ",
          "18:08:49 ",
          "19:09:25 ",
          "19:26:54 ",
          "19:37:06 ",
          "19:47:06 ",
          "19:57:23 ",
          "20:07:33 ",
          "21:14:20 ",
          "21:58:14 ",
          "12:22:40 ",
          "14:12:11 ",
          "17:09:16 ",
          "18:17:50 ",
          "19:40:16 ",
          "19:43:17 ",
          "20:19:18 ",
          "20:29:18 ",
          "20:42:52 ",
          "23:06:23 ",
          "23:21:50 ",
          "14:47:58 ",
          "15:27:44 ",
          "16:55:16 ",
          "16:58:56 ",
          "17:13:05 ",
          "17:27:34 ",
          "17:44:36 ",
          "17:55:55 ",
          "18:11:50 ",
          "18:23:45 ",
          "18:34:38 ",
          "23:05:40 ",
          "00:08:20 ",
          "08:45:13 ",
          "10:26:24 ",
          "11:00:51 ",
          "12:57:00 ",
          "14:24:46 ",
          "15:05:42 ",
          "16:04:23 ",
          "16:33:18 ",
          "16:49:49 ",
          "17:09:06 ",
          "17:47:07 "
         ],
         "xaxis": "x",
         "y": [
          46,
          645,
          14,
          13,
          17,
          8,
          564,
          153,
          16,
          22,
          16,
          37,
          14,
          22,
          206,
          44,
          122,
          839,
          118,
          590,
          425,
          260,
          838,
          959,
          89,
          472,
          117,
          30,
          492,
          431,
          502,
          708,
          587,
          496,
          395,
          401,
          384,
          161,
          736,
          142,
          10,
          17,
          675,
          58,
          27,
          8,
          6,
          56,
          26,
          81,
          6,
          50,
          1,
          236,
          14,
          78,
          96,
          132,
          33,
          504,
          60,
          54,
          77,
          19,
          24,
          91,
          16,
          501,
          189,
          31,
          84,
          76,
          41,
          37,
          21,
          26,
          240,
          20,
          8,
          50,
          10,
          22,
          15,
          110,
          2,
          79,
          454,
          465,
          11,
          365,
          377,
          5,
          9,
          2,
          86,
          9,
          13,
          10,
          185,
          144,
          526,
          46,
          118,
          230,
          293,
          42,
          332,
          185,
          290,
          215,
          258,
          266,
          54,
          6,
          12,
          9,
          41,
          349,
          980,
          726,
          1065,
          831,
          126,
          62,
          25,
          22,
          15,
          485,
          1046,
          159,
          260,
          248,
          1082,
          543,
          393,
          197,
          16,
          36,
          99,
          3,
          31,
          275,
          276,
          149,
          87,
          37,
          969,
          640,
          1081
         ],
         "yaxis": "y"
        }
       ],
       "layout": {
        "legend": {
         "tracegroupgap": 0
        },
        "template": {
         "data": {
          "bar": [
           {
            "error_x": {
             "color": "#2a3f5f"
            },
            "error_y": {
             "color": "#2a3f5f"
            },
            "marker": {
             "line": {
              "color": "white",
              "width": 0.5
             },
             "pattern": {
              "fillmode": "overlay",
              "size": 10,
              "solidity": 0.2
             }
            },
            "type": "bar"
           }
          ],
          "barpolar": [
           {
            "marker": {
             "line": {
              "color": "white",
              "width": 0.5
             },
             "pattern": {
              "fillmode": "overlay",
              "size": 10,
              "solidity": 0.2
             }
            },
            "type": "barpolar"
           }
          ],
          "carpet": [
           {
            "aaxis": {
             "endlinecolor": "#2a3f5f",
             "gridcolor": "#C8D4E3",
             "linecolor": "#C8D4E3",
             "minorgridcolor": "#C8D4E3",
             "startlinecolor": "#2a3f5f"
            },
            "baxis": {
             "endlinecolor": "#2a3f5f",
             "gridcolor": "#C8D4E3",
             "linecolor": "#C8D4E3",
             "minorgridcolor": "#C8D4E3",
             "startlinecolor": "#2a3f5f"
            },
            "type": "carpet"
           }
          ],
          "choropleth": [
           {
            "colorbar": {
             "outlinewidth": 0,
             "ticks": ""
            },
            "type": "choropleth"
           }
          ],
          "contour": [
           {
            "colorbar": {
             "outlinewidth": 0,
             "ticks": ""
            },
            "colorscale": [
             [
              0,
              "#0d0887"
             ],
             [
              0.1111111111111111,
              "#46039f"
             ],
             [
              0.2222222222222222,
              "#7201a8"
             ],
             [
              0.3333333333333333,
              "#9c179e"
             ],
             [
              0.4444444444444444,
              "#bd3786"
             ],
             [
              0.5555555555555556,
              "#d8576b"
             ],
             [
              0.6666666666666666,
              "#ed7953"
             ],
             [
              0.7777777777777778,
              "#fb9f3a"
             ],
             [
              0.8888888888888888,
              "#fdca26"
             ],
             [
              1,
              "#f0f921"
             ]
            ],
            "type": "contour"
           }
          ],
          "contourcarpet": [
           {
            "colorbar": {
             "outlinewidth": 0,
             "ticks": ""
            },
            "type": "contourcarpet"
           }
          ],
          "heatmap": [
           {
            "colorbar": {
             "outlinewidth": 0,
             "ticks": ""
            },
            "colorscale": [
             [
              0,
              "#0d0887"
             ],
             [
              0.1111111111111111,
              "#46039f"
             ],
             [
              0.2222222222222222,
              "#7201a8"
             ],
             [
              0.3333333333333333,
              "#9c179e"
             ],
             [
              0.4444444444444444,
              "#bd3786"
             ],
             [
              0.5555555555555556,
              "#d8576b"
             ],
             [
              0.6666666666666666,
              "#ed7953"
             ],
             [
              0.7777777777777778,
              "#fb9f3a"
             ],
             [
              0.8888888888888888,
              "#fdca26"
             ],
             [
              1,
              "#f0f921"
             ]
            ],
            "type": "heatmap"
           }
          ],
          "heatmapgl": [
           {
            "colorbar": {
             "outlinewidth": 0,
             "ticks": ""
            },
            "colorscale": [
             [
              0,
              "#0d0887"
             ],
             [
              0.1111111111111111,
              "#46039f"
             ],
             [
              0.2222222222222222,
              "#7201a8"
             ],
             [
              0.3333333333333333,
              "#9c179e"
             ],
             [
              0.4444444444444444,
              "#bd3786"
             ],
             [
              0.5555555555555556,
              "#d8576b"
             ],
             [
              0.6666666666666666,
              "#ed7953"
             ],
             [
              0.7777777777777778,
              "#fb9f3a"
             ],
             [
              0.8888888888888888,
              "#fdca26"
             ],
             [
              1,
              "#f0f921"
             ]
            ],
            "type": "heatmapgl"
           }
          ],
          "histogram": [
           {
            "marker": {
             "pattern": {
              "fillmode": "overlay",
              "size": 10,
              "solidity": 0.2
             }
            },
            "type": "histogram"
           }
          ],
          "histogram2d": [
           {
            "colorbar": {
             "outlinewidth": 0,
             "ticks": ""
            },
            "colorscale": [
             [
              0,
              "#0d0887"
             ],
             [
              0.1111111111111111,
              "#46039f"
             ],
             [
              0.2222222222222222,
              "#7201a8"
             ],
             [
              0.3333333333333333,
              "#9c179e"
             ],
             [
              0.4444444444444444,
              "#bd3786"
             ],
             [
              0.5555555555555556,
              "#d8576b"
             ],
             [
              0.6666666666666666,
              "#ed7953"
             ],
             [
              0.7777777777777778,
              "#fb9f3a"
             ],
             [
              0.8888888888888888,
              "#fdca26"
             ],
             [
              1,
              "#f0f921"
             ]
            ],
            "type": "histogram2d"
           }
          ],
          "histogram2dcontour": [
           {
            "colorbar": {
             "outlinewidth": 0,
             "ticks": ""
            },
            "colorscale": [
             [
              0,
              "#0d0887"
             ],
             [
              0.1111111111111111,
              "#46039f"
             ],
             [
              0.2222222222222222,
              "#7201a8"
             ],
             [
              0.3333333333333333,
              "#9c179e"
             ],
             [
              0.4444444444444444,
              "#bd3786"
             ],
             [
              0.5555555555555556,
              "#d8576b"
             ],
             [
              0.6666666666666666,
              "#ed7953"
             ],
             [
              0.7777777777777778,
              "#fb9f3a"
             ],
             [
              0.8888888888888888,
              "#fdca26"
             ],
             [
              1,
              "#f0f921"
             ]
            ],
            "type": "histogram2dcontour"
           }
          ],
          "mesh3d": [
           {
            "colorbar": {
             "outlinewidth": 0,
             "ticks": ""
            },
            "type": "mesh3d"
           }
          ],
          "parcoords": [
           {
            "line": {
             "colorbar": {
              "outlinewidth": 0,
              "ticks": ""
             }
            },
            "type": "parcoords"
           }
          ],
          "pie": [
           {
            "automargin": true,
            "type": "pie"
           }
          ],
          "scatter": [
           {
            "fillpattern": {
             "fillmode": "overlay",
             "size": 10,
             "solidity": 0.2
            },
            "type": "scatter"
           }
          ],
          "scatter3d": [
           {
            "line": {
             "colorbar": {
              "outlinewidth": 0,
              "ticks": ""
             }
            },
            "marker": {
             "colorbar": {
              "outlinewidth": 0,
              "ticks": ""
             }
            },
            "type": "scatter3d"
           }
          ],
          "scattercarpet": [
           {
            "marker": {
             "colorbar": {
              "outlinewidth": 0,
              "ticks": ""
             }
            },
            "type": "scattercarpet"
           }
          ],
          "scattergeo": [
           {
            "marker": {
             "colorbar": {
              "outlinewidth": 0,
              "ticks": ""
             }
            },
            "type": "scattergeo"
           }
          ],
          "scattergl": [
           {
            "marker": {
             "colorbar": {
              "outlinewidth": 0,
              "ticks": ""
             }
            },
            "type": "scattergl"
           }
          ],
          "scattermapbox": [
           {
            "marker": {
             "colorbar": {
              "outlinewidth": 0,
              "ticks": ""
             }
            },
            "type": "scattermapbox"
           }
          ],
          "scatterpolar": [
           {
            "marker": {
             "colorbar": {
              "outlinewidth": 0,
              "ticks": ""
             }
            },
            "type": "scatterpolar"
           }
          ],
          "scatterpolargl": [
           {
            "marker": {
             "colorbar": {
              "outlinewidth": 0,
              "ticks": ""
             }
            },
            "type": "scatterpolargl"
           }
          ],
          "scatterternary": [
           {
            "marker": {
             "colorbar": {
              "outlinewidth": 0,
              "ticks": ""
             }
            },
            "type": "scatterternary"
           }
          ],
          "surface": [
           {
            "colorbar": {
             "outlinewidth": 0,
             "ticks": ""
            },
            "colorscale": [
             [
              0,
              "#0d0887"
             ],
             [
              0.1111111111111111,
              "#46039f"
             ],
             [
              0.2222222222222222,
              "#7201a8"
             ],
             [
              0.3333333333333333,
              "#9c179e"
             ],
             [
              0.4444444444444444,
              "#bd3786"
             ],
             [
              0.5555555555555556,
              "#d8576b"
             ],
             [
              0.6666666666666666,
              "#ed7953"
             ],
             [
              0.7777777777777778,
              "#fb9f3a"
             ],
             [
              0.8888888888888888,
              "#fdca26"
             ],
             [
              1,
              "#f0f921"
             ]
            ],
            "type": "surface"
           }
          ],
          "table": [
           {
            "cells": {
             "fill": {
              "color": "#EBF0F8"
             },
             "line": {
              "color": "white"
             }
            },
            "header": {
             "fill": {
              "color": "#C8D4E3"
             },
             "line": {
              "color": "white"
             }
            },
            "type": "table"
           }
          ]
         },
         "layout": {
          "annotationdefaults": {
           "arrowcolor": "#2a3f5f",
           "arrowhead": 0,
           "arrowwidth": 1
          },
          "autotypenumbers": "strict",
          "coloraxis": {
           "colorbar": {
            "outlinewidth": 0,
            "ticks": ""
           }
          },
          "colorscale": {
           "diverging": [
            [
             0,
             "#8e0152"
            ],
            [
             0.1,
             "#c51b7d"
            ],
            [
             0.2,
             "#de77ae"
            ],
            [
             0.3,
             "#f1b6da"
            ],
            [
             0.4,
             "#fde0ef"
            ],
            [
             0.5,
             "#f7f7f7"
            ],
            [
             0.6,
             "#e6f5d0"
            ],
            [
             0.7,
             "#b8e186"
            ],
            [
             0.8,
             "#7fbc41"
            ],
            [
             0.9,
             "#4d9221"
            ],
            [
             1,
             "#276419"
            ]
           ],
           "sequential": [
            [
             0,
             "#0d0887"
            ],
            [
             0.1111111111111111,
             "#46039f"
            ],
            [
             0.2222222222222222,
             "#7201a8"
            ],
            [
             0.3333333333333333,
             "#9c179e"
            ],
            [
             0.4444444444444444,
             "#bd3786"
            ],
            [
             0.5555555555555556,
             "#d8576b"
            ],
            [
             0.6666666666666666,
             "#ed7953"
            ],
            [
             0.7777777777777778,
             "#fb9f3a"
            ],
            [
             0.8888888888888888,
             "#fdca26"
            ],
            [
             1,
             "#f0f921"
            ]
           ],
           "sequentialminus": [
            [
             0,
             "#0d0887"
            ],
            [
             0.1111111111111111,
             "#46039f"
            ],
            [
             0.2222222222222222,
             "#7201a8"
            ],
            [
             0.3333333333333333,
             "#9c179e"
            ],
            [
             0.4444444444444444,
             "#bd3786"
            ],
            [
             0.5555555555555556,
             "#d8576b"
            ],
            [
             0.6666666666666666,
             "#ed7953"
            ],
            [
             0.7777777777777778,
             "#fb9f3a"
            ],
            [
             0.8888888888888888,
             "#fdca26"
            ],
            [
             1,
             "#f0f921"
            ]
           ]
          },
          "colorway": [
           "#636efa",
           "#EF553B",
           "#00cc96",
           "#ab63fa",
           "#FFA15A",
           "#19d3f3",
           "#FF6692",
           "#B6E880",
           "#FF97FF",
           "#FECB52"
          ],
          "font": {
           "color": "#2a3f5f"
          },
          "geo": {
           "bgcolor": "white",
           "lakecolor": "white",
           "landcolor": "white",
           "showlakes": true,
           "showland": true,
           "subunitcolor": "#C8D4E3"
          },
          "hoverlabel": {
           "align": "left"
          },
          "hovermode": "closest",
          "mapbox": {
           "style": "light"
          },
          "paper_bgcolor": "white",
          "plot_bgcolor": "white",
          "polar": {
           "angularaxis": {
            "gridcolor": "#EBF0F8",
            "linecolor": "#EBF0F8",
            "ticks": ""
           },
           "bgcolor": "white",
           "radialaxis": {
            "gridcolor": "#EBF0F8",
            "linecolor": "#EBF0F8",
            "ticks": ""
           }
          },
          "scene": {
           "xaxis": {
            "backgroundcolor": "white",
            "gridcolor": "#DFE8F3",
            "gridwidth": 2,
            "linecolor": "#EBF0F8",
            "showbackground": true,
            "ticks": "",
            "zerolinecolor": "#EBF0F8"
           },
           "yaxis": {
            "backgroundcolor": "white",
            "gridcolor": "#DFE8F3",
            "gridwidth": 2,
            "linecolor": "#EBF0F8",
            "showbackground": true,
            "ticks": "",
            "zerolinecolor": "#EBF0F8"
           },
           "zaxis": {
            "backgroundcolor": "white",
            "gridcolor": "#DFE8F3",
            "gridwidth": 2,
            "linecolor": "#EBF0F8",
            "showbackground": true,
            "ticks": "",
            "zerolinecolor": "#EBF0F8"
           }
          },
          "shapedefaults": {
           "line": {
            "color": "#2a3f5f"
           }
          },
          "ternary": {
           "aaxis": {
            "gridcolor": "#DFE8F3",
            "linecolor": "#A2B1C6",
            "ticks": ""
           },
           "baxis": {
            "gridcolor": "#DFE8F3",
            "linecolor": "#A2B1C6",
            "ticks": ""
           },
           "bgcolor": "white",
           "caxis": {
            "gridcolor": "#DFE8F3",
            "linecolor": "#A2B1C6",
            "ticks": ""
           }
          },
          "title": {
           "x": 0.05
          },
          "xaxis": {
           "automargin": true,
           "gridcolor": "#EBF0F8",
           "linecolor": "#EBF0F8",
           "ticks": "",
           "title": {
            "standoff": 15
           },
           "zerolinecolor": "#EBF0F8",
           "zerolinewidth": 2
          },
          "yaxis": {
           "automargin": true,
           "gridcolor": "#EBF0F8",
           "linecolor": "#EBF0F8",
           "ticks": "",
           "title": {
            "standoff": 15
           },
           "zerolinecolor": "#EBF0F8",
           "zerolinewidth": 2
          }
         }
        },
        "title": {
         "text": "Step Count Over Time"
        },
        "xaxis": {
         "anchor": "y",
         "domain": [
          0,
          1
         ],
         "title": {
          "text": "Time"
         }
        },
        "yaxis": {
         "anchor": "x",
         "domain": [
          0,
          1
         ],
         "title": {
          "text": "Step Count"
         }
        }
       }
      },
      "text/html": [
       "<div>                            <div id=\"e5162a92-af6f-44e3-887d-8450e14dd095\" class=\"plotly-graph-div\" style=\"height:525px; width:100%;\"></div>            <script type=\"text/javascript\">                require([\"plotly\"], function(Plotly) {                    window.PLOTLYENV=window.PLOTLYENV || {};                                    if (document.getElementById(\"e5162a92-af6f-44e3-887d-8450e14dd095\")) {                    Plotly.newPlot(                        \"e5162a92-af6f-44e3-887d-8450e14dd095\",                        [{\"hovertemplate\":\"Time=%{x}<br>Step Count=%{y}<extra></extra>\",\"legendgroup\":\"\",\"line\":{\"color\":\"#636efa\",\"dash\":\"solid\"},\"marker\":{\"symbol\":\"circle\"},\"mode\":\"lines\",\"name\":\"\",\"orientation\":\"v\",\"showlegend\":false,\"x\":[\"16:01:23 \",\"16:18:37 \",\"16:31:38 \",\"16:45:37 \",\"17:10:30 \",\"18:14:45 \",\"19:02:31 \",\"19:10:51 \",\"19:20:57 \",\"21:04:23 \",\"21:25:23 \",\"00:32:15 \",\"01:20:54 \",\"08:22:57 \",\"10:34:49 \",\"10:52:38 \",\"13:04:47 \",\"13:42:14 \",\"13:42:14 \",\"13:55:27 \",\"14:14:39 \",\"14:52:20 \",\"14:57:40 \",\"15:15:35 \",\"15:23:52 \",\"15:40:24 \",\"15:45:00 \",\"16:13:03 \",\"16:59:35 \",\"17:06:48 \",\"17:17:33 \",\"17:27:35 \",\"18:02:17 \",\"18:11:29 \",\"18:19:35 \",\"18:29:34 \",\"19:00:43 \",\"19:07:33 \",\"19:15:01 \",\"19:25:32 \",\"23:29:50 \",\"09:15:52 \",\"16:51:23 \",\"17:01:33 \",\"17:23:21 \",\"19:00:57 \",\"20:11:46 \",\"20:52:19 \",\"22:53:29 \",\"14:20:45 \",\"16:26:41 \",\"16:51:38 \",\"19:02:12 \",\"20:11:48 \",\"22:12:26 \",\"13:11:57 \",\"15:14:00 \",\"15:38:12 \",\"17:08:09 \",\"18:46:46 \",\"18:58:27 \",\"19:10:59 \",\"19:27:00 \",\"23:24:27 \",\"07:07:48 \",\"15:53:25 \",\"16:08:01 \",\"17:24:18 \",\"19:12:48 \",\"19:28:30 \",\"21:10:46 \",\"21:23:31 \",\"21:34:56 \",\"22:16:26 \",\"23:19:50 \",\"08:58:35 \",\"13:27:30 \",\"13:48:15 \",\"14:10:38 \",\"18:32:19 \",\"18:42:59 \",\"20:36:57 \",\"21:23:57 \",\"11:44:10 \",\"11:52:21 \",\"19:44:18 \",\"20:15:46 \",\"20:30:22 \",\"21:03:51 \",\"22:59:31 \",\"22:59:35 \",\"22:59:36 \",\"22:59:46 \",\"22:59:49 \",\"23:10:35 \",\"01:13:15 \",\"01:31:53 \",\"09:22:39 \",\"13:11:20 \",\"13:21:19 \",\"13:31:19 \",\"13:43:01 \",\"14:05:27 \",\"17:48:37 \",\"17:58:50 \",\"18:08:49 \",\"19:09:25 \",\"19:26:54 \",\"19:37:06 \",\"19:47:06 \",\"19:57:23 \",\"20:07:33 \",\"21:14:20 \",\"21:58:14 \",\"12:22:40 \",\"14:12:11 \",\"17:09:16 \",\"18:17:50 \",\"19:40:16 \",\"19:43:17 \",\"20:19:18 \",\"20:29:18 \",\"20:42:52 \",\"23:06:23 \",\"23:21:50 \",\"14:47:58 \",\"15:27:44 \",\"16:55:16 \",\"16:58:56 \",\"17:13:05 \",\"17:27:34 \",\"17:44:36 \",\"17:55:55 \",\"18:11:50 \",\"18:23:45 \",\"18:34:38 \",\"23:05:40 \",\"00:08:20 \",\"08:45:13 \",\"10:26:24 \",\"11:00:51 \",\"12:57:00 \",\"14:24:46 \",\"15:05:42 \",\"16:04:23 \",\"16:33:18 \",\"16:49:49 \",\"17:09:06 \",\"17:47:07 \"],\"xaxis\":\"x\",\"y\":[46,645,14,13,17,8,564,153,16,22,16,37,14,22,206,44,122,839,118,590,425,260,838,959,89,472,117,30,492,431,502,708,587,496,395,401,384,161,736,142,10,17,675,58,27,8,6,56,26,81,6,50,1,236,14,78,96,132,33,504,60,54,77,19,24,91,16,501,189,31,84,76,41,37,21,26,240,20,8,50,10,22,15,110,2,79,454,465,11,365,377,5,9,2,86,9,13,10,185,144,526,46,118,230,293,42,332,185,290,215,258,266,54,6,12,9,41,349,980,726,1065,831,126,62,25,22,15,485,1046,159,260,248,1082,543,393,197,16,36,99,3,31,275,276,149,87,37,969,640,1081],\"yaxis\":\"y\",\"type\":\"scatter\"}],                        {\"template\":{\"data\":{\"histogram2dcontour\":[{\"type\":\"histogram2dcontour\",\"colorbar\":{\"outlinewidth\":0,\"ticks\":\"\"},\"colorscale\":[[0.0,\"#0d0887\"],[0.1111111111111111,\"#46039f\"],[0.2222222222222222,\"#7201a8\"],[0.3333333333333333,\"#9c179e\"],[0.4444444444444444,\"#bd3786\"],[0.5555555555555556,\"#d8576b\"],[0.6666666666666666,\"#ed7953\"],[0.7777777777777778,\"#fb9f3a\"],[0.8888888888888888,\"#fdca26\"],[1.0,\"#f0f921\"]]}],\"choropleth\":[{\"type\":\"choropleth\",\"colorbar\":{\"outlinewidth\":0,\"ticks\":\"\"}}],\"histogram2d\":[{\"type\":\"histogram2d\",\"colorbar\":{\"outlinewidth\":0,\"ticks\":\"\"},\"colorscale\":[[0.0,\"#0d0887\"],[0.1111111111111111,\"#46039f\"],[0.2222222222222222,\"#7201a8\"],[0.3333333333333333,\"#9c179e\"],[0.4444444444444444,\"#bd3786\"],[0.5555555555555556,\"#d8576b\"],[0.6666666666666666,\"#ed7953\"],[0.7777777777777778,\"#fb9f3a\"],[0.8888888888888888,\"#fdca26\"],[1.0,\"#f0f921\"]]}],\"heatmap\":[{\"type\":\"heatmap\",\"colorbar\":{\"outlinewidth\":0,\"ticks\":\"\"},\"colorscale\":[[0.0,\"#0d0887\"],[0.1111111111111111,\"#46039f\"],[0.2222222222222222,\"#7201a8\"],[0.3333333333333333,\"#9c179e\"],[0.4444444444444444,\"#bd3786\"],[0.5555555555555556,\"#d8576b\"],[0.6666666666666666,\"#ed7953\"],[0.7777777777777778,\"#fb9f3a\"],[0.8888888888888888,\"#fdca26\"],[1.0,\"#f0f921\"]]}],\"heatmapgl\":[{\"type\":\"heatmapgl\",\"colorbar\":{\"outlinewidth\":0,\"ticks\":\"\"},\"colorscale\":[[0.0,\"#0d0887\"],[0.1111111111111111,\"#46039f\"],[0.2222222222222222,\"#7201a8\"],[0.3333333333333333,\"#9c179e\"],[0.4444444444444444,\"#bd3786\"],[0.5555555555555556,\"#d8576b\"],[0.6666666666666666,\"#ed7953\"],[0.7777777777777778,\"#fb9f3a\"],[0.8888888888888888,\"#fdca26\"],[1.0,\"#f0f921\"]]}],\"contourcarpet\":[{\"type\":\"contourcarpet\",\"colorbar\":{\"outlinewidth\":0,\"ticks\":\"\"}}],\"contour\":[{\"type\":\"contour\",\"colorbar\":{\"outlinewidth\":0,\"ticks\":\"\"},\"colorscale\":[[0.0,\"#0d0887\"],[0.1111111111111111,\"#46039f\"],[0.2222222222222222,\"#7201a8\"],[0.3333333333333333,\"#9c179e\"],[0.4444444444444444,\"#bd3786\"],[0.5555555555555556,\"#d8576b\"],[0.6666666666666666,\"#ed7953\"],[0.7777777777777778,\"#fb9f3a\"],[0.8888888888888888,\"#fdca26\"],[1.0,\"#f0f921\"]]}],\"surface\":[{\"type\":\"surface\",\"colorbar\":{\"outlinewidth\":0,\"ticks\":\"\"},\"colorscale\":[[0.0,\"#0d0887\"],[0.1111111111111111,\"#46039f\"],[0.2222222222222222,\"#7201a8\"],[0.3333333333333333,\"#9c179e\"],[0.4444444444444444,\"#bd3786\"],[0.5555555555555556,\"#d8576b\"],[0.6666666666666666,\"#ed7953\"],[0.7777777777777778,\"#fb9f3a\"],[0.8888888888888888,\"#fdca26\"],[1.0,\"#f0f921\"]]}],\"mesh3d\":[{\"type\":\"mesh3d\",\"colorbar\":{\"outlinewidth\":0,\"ticks\":\"\"}}],\"scatter\":[{\"fillpattern\":{\"fillmode\":\"overlay\",\"size\":10,\"solidity\":0.2},\"type\":\"scatter\"}],\"parcoords\":[{\"type\":\"parcoords\",\"line\":{\"colorbar\":{\"outlinewidth\":0,\"ticks\":\"\"}}}],\"scatterpolargl\":[{\"type\":\"scatterpolargl\",\"marker\":{\"colorbar\":{\"outlinewidth\":0,\"ticks\":\"\"}}}],\"bar\":[{\"error_x\":{\"color\":\"#2a3f5f\"},\"error_y\":{\"color\":\"#2a3f5f\"},\"marker\":{\"line\":{\"color\":\"white\",\"width\":0.5},\"pattern\":{\"fillmode\":\"overlay\",\"size\":10,\"solidity\":0.2}},\"type\":\"bar\"}],\"scattergeo\":[{\"type\":\"scattergeo\",\"marker\":{\"colorbar\":{\"outlinewidth\":0,\"ticks\":\"\"}}}],\"scatterpolar\":[{\"type\":\"scatterpolar\",\"marker\":{\"colorbar\":{\"outlinewidth\":0,\"ticks\":\"\"}}}],\"histogram\":[{\"marker\":{\"pattern\":{\"fillmode\":\"overlay\",\"size\":10,\"solidity\":0.2}},\"type\":\"histogram\"}],\"scattergl\":[{\"type\":\"scattergl\",\"marker\":{\"colorbar\":{\"outlinewidth\":0,\"ticks\":\"\"}}}],\"scatter3d\":[{\"type\":\"scatter3d\",\"line\":{\"colorbar\":{\"outlinewidth\":0,\"ticks\":\"\"}},\"marker\":{\"colorbar\":{\"outlinewidth\":0,\"ticks\":\"\"}}}],\"scattermapbox\":[{\"type\":\"scattermapbox\",\"marker\":{\"colorbar\":{\"outlinewidth\":0,\"ticks\":\"\"}}}],\"scatterternary\":[{\"type\":\"scatterternary\",\"marker\":{\"colorbar\":{\"outlinewidth\":0,\"ticks\":\"\"}}}],\"scattercarpet\":[{\"type\":\"scattercarpet\",\"marker\":{\"colorbar\":{\"outlinewidth\":0,\"ticks\":\"\"}}}],\"carpet\":[{\"aaxis\":{\"endlinecolor\":\"#2a3f5f\",\"gridcolor\":\"#C8D4E3\",\"linecolor\":\"#C8D4E3\",\"minorgridcolor\":\"#C8D4E3\",\"startlinecolor\":\"#2a3f5f\"},\"baxis\":{\"endlinecolor\":\"#2a3f5f\",\"gridcolor\":\"#C8D4E3\",\"linecolor\":\"#C8D4E3\",\"minorgridcolor\":\"#C8D4E3\",\"startlinecolor\":\"#2a3f5f\"},\"type\":\"carpet\"}],\"table\":[{\"cells\":{\"fill\":{\"color\":\"#EBF0F8\"},\"line\":{\"color\":\"white\"}},\"header\":{\"fill\":{\"color\":\"#C8D4E3\"},\"line\":{\"color\":\"white\"}},\"type\":\"table\"}],\"barpolar\":[{\"marker\":{\"line\":{\"color\":\"white\",\"width\":0.5},\"pattern\":{\"fillmode\":\"overlay\",\"size\":10,\"solidity\":0.2}},\"type\":\"barpolar\"}],\"pie\":[{\"automargin\":true,\"type\":\"pie\"}]},\"layout\":{\"autotypenumbers\":\"strict\",\"colorway\":[\"#636efa\",\"#EF553B\",\"#00cc96\",\"#ab63fa\",\"#FFA15A\",\"#19d3f3\",\"#FF6692\",\"#B6E880\",\"#FF97FF\",\"#FECB52\"],\"font\":{\"color\":\"#2a3f5f\"},\"hovermode\":\"closest\",\"hoverlabel\":{\"align\":\"left\"},\"paper_bgcolor\":\"white\",\"plot_bgcolor\":\"white\",\"polar\":{\"bgcolor\":\"white\",\"angularaxis\":{\"gridcolor\":\"#EBF0F8\",\"linecolor\":\"#EBF0F8\",\"ticks\":\"\"},\"radialaxis\":{\"gridcolor\":\"#EBF0F8\",\"linecolor\":\"#EBF0F8\",\"ticks\":\"\"}},\"ternary\":{\"bgcolor\":\"white\",\"aaxis\":{\"gridcolor\":\"#DFE8F3\",\"linecolor\":\"#A2B1C6\",\"ticks\":\"\"},\"baxis\":{\"gridcolor\":\"#DFE8F3\",\"linecolor\":\"#A2B1C6\",\"ticks\":\"\"},\"caxis\":{\"gridcolor\":\"#DFE8F3\",\"linecolor\":\"#A2B1C6\",\"ticks\":\"\"}},\"coloraxis\":{\"colorbar\":{\"outlinewidth\":0,\"ticks\":\"\"}},\"colorscale\":{\"sequential\":[[0.0,\"#0d0887\"],[0.1111111111111111,\"#46039f\"],[0.2222222222222222,\"#7201a8\"],[0.3333333333333333,\"#9c179e\"],[0.4444444444444444,\"#bd3786\"],[0.5555555555555556,\"#d8576b\"],[0.6666666666666666,\"#ed7953\"],[0.7777777777777778,\"#fb9f3a\"],[0.8888888888888888,\"#fdca26\"],[1.0,\"#f0f921\"]],\"sequentialminus\":[[0.0,\"#0d0887\"],[0.1111111111111111,\"#46039f\"],[0.2222222222222222,\"#7201a8\"],[0.3333333333333333,\"#9c179e\"],[0.4444444444444444,\"#bd3786\"],[0.5555555555555556,\"#d8576b\"],[0.6666666666666666,\"#ed7953\"],[0.7777777777777778,\"#fb9f3a\"],[0.8888888888888888,\"#fdca26\"],[1.0,\"#f0f921\"]],\"diverging\":[[0,\"#8e0152\"],[0.1,\"#c51b7d\"],[0.2,\"#de77ae\"],[0.3,\"#f1b6da\"],[0.4,\"#fde0ef\"],[0.5,\"#f7f7f7\"],[0.6,\"#e6f5d0\"],[0.7,\"#b8e186\"],[0.8,\"#7fbc41\"],[0.9,\"#4d9221\"],[1,\"#276419\"]]},\"xaxis\":{\"gridcolor\":\"#EBF0F8\",\"linecolor\":\"#EBF0F8\",\"ticks\":\"\",\"title\":{\"standoff\":15},\"zerolinecolor\":\"#EBF0F8\",\"automargin\":true,\"zerolinewidth\":2},\"yaxis\":{\"gridcolor\":\"#EBF0F8\",\"linecolor\":\"#EBF0F8\",\"ticks\":\"\",\"title\":{\"standoff\":15},\"zerolinecolor\":\"#EBF0F8\",\"automargin\":true,\"zerolinewidth\":2},\"scene\":{\"xaxis\":{\"backgroundcolor\":\"white\",\"gridcolor\":\"#DFE8F3\",\"linecolor\":\"#EBF0F8\",\"showbackground\":true,\"ticks\":\"\",\"zerolinecolor\":\"#EBF0F8\",\"gridwidth\":2},\"yaxis\":{\"backgroundcolor\":\"white\",\"gridcolor\":\"#DFE8F3\",\"linecolor\":\"#EBF0F8\",\"showbackground\":true,\"ticks\":\"\",\"zerolinecolor\":\"#EBF0F8\",\"gridwidth\":2},\"zaxis\":{\"backgroundcolor\":\"white\",\"gridcolor\":\"#DFE8F3\",\"linecolor\":\"#EBF0F8\",\"showbackground\":true,\"ticks\":\"\",\"zerolinecolor\":\"#EBF0F8\",\"gridwidth\":2}},\"shapedefaults\":{\"line\":{\"color\":\"#2a3f5f\"}},\"annotationdefaults\":{\"arrowcolor\":\"#2a3f5f\",\"arrowhead\":0,\"arrowwidth\":1},\"geo\":{\"bgcolor\":\"white\",\"landcolor\":\"white\",\"subunitcolor\":\"#C8D4E3\",\"showland\":true,\"showlakes\":true,\"lakecolor\":\"white\"},\"title\":{\"x\":0.05},\"mapbox\":{\"style\":\"light\"}}},\"xaxis\":{\"anchor\":\"y\",\"domain\":[0.0,1.0],\"title\":{\"text\":\"Time\"}},\"yaxis\":{\"anchor\":\"x\",\"domain\":[0.0,1.0],\"title\":{\"text\":\"Step Count\"}},\"legend\":{\"tracegroupgap\":0},\"title\":{\"text\":\"Step Count Over Time\"}},                        {\"responsive\": true}                    ).then(function(){\n",
       "                            \n",
       "var gd = document.getElementById('e5162a92-af6f-44e3-887d-8450e14dd095');\n",
       "var x = new MutationObserver(function (mutations, observer) {{\n",
       "        var display = window.getComputedStyle(gd).display;\n",
       "        if (!display || display === 'none') {{\n",
       "            console.log([gd, 'removed!']);\n",
       "            Plotly.purge(gd);\n",
       "            observer.disconnect();\n",
       "        }}\n",
       "}});\n",
       "\n",
       "// Listen for the removal of the full notebook cells\n",
       "var notebookContainer = gd.closest('#notebook-container');\n",
       "if (notebookContainer) {{\n",
       "    x.observe(notebookContainer, {childList: true});\n",
       "}}\n",
       "\n",
       "// Listen for the clearing of the current output cell\n",
       "var outputEl = gd.closest('.output');\n",
       "if (outputEl) {{\n",
       "    x.observe(outputEl, {childList: true});\n",
       "}}\n",
       "\n",
       "                        })                };                });            </script>        </div>"
      ]
     },
     "metadata": {},
     "output_type": "display_data"
    }
   ],
   "source": [
    "import plotly.express as px\n",
    "fig1 = px.line(data, x=\"Time\",\n",
    "               y=\"Step Count\",\n",
    "               title=\"Step Count Over Time\")\n",
    "fig1.show()"
   ]
  },
  {
   "cell_type": "markdown",
   "id": "e657e991",
   "metadata": {},
   "source": [
    "# Distance Covered Over Time : "
   ]
  },
  {
   "cell_type": "code",
   "execution_count": 26,
   "id": "46046898",
   "metadata": {},
   "outputs": [
    {
     "data": {
      "application/vnd.plotly.v1+json": {
       "config": {
        "plotlyServerURL": "https://plot.ly"
       },
       "data": [
        {
         "hovertemplate": "Time=%{x}<br>Distance=%{y}<extra></extra>",
         "legendgroup": "",
         "line": {
          "color": "#636efa",
          "dash": "solid"
         },
         "marker": {
          "symbol": "circle"
         },
         "mode": "lines",
         "name": "",
         "orientation": "v",
         "showlegend": false,
         "type": "scatter",
         "x": [
          "16:01:23 ",
          "16:18:37 ",
          "16:31:38 ",
          "16:45:37 ",
          "17:10:30 ",
          "18:14:45 ",
          "19:02:31 ",
          "19:10:51 ",
          "19:20:57 ",
          "21:04:23 ",
          "21:25:23 ",
          "00:32:15 ",
          "01:20:54 ",
          "08:22:57 ",
          "10:34:49 ",
          "10:52:38 ",
          "13:04:47 ",
          "13:42:14 ",
          "13:42:14 ",
          "13:55:27 ",
          "14:14:39 ",
          "14:52:20 ",
          "14:57:40 ",
          "15:15:35 ",
          "15:23:52 ",
          "15:40:24 ",
          "15:45:00 ",
          "16:13:03 ",
          "16:59:35 ",
          "17:06:48 ",
          "17:17:33 ",
          "17:27:35 ",
          "18:02:17 ",
          "18:11:29 ",
          "18:19:35 ",
          "18:29:34 ",
          "19:00:43 ",
          "19:07:33 ",
          "19:15:01 ",
          "19:25:32 ",
          "23:29:50 ",
          "09:15:52 ",
          "16:51:23 ",
          "17:01:33 ",
          "17:23:21 ",
          "19:00:57 ",
          "20:11:46 ",
          "20:52:19 ",
          "22:53:29 ",
          "14:20:45 ",
          "16:26:41 ",
          "16:51:38 ",
          "19:02:12 ",
          "20:11:48 ",
          "22:12:26 ",
          "13:11:57 ",
          "15:14:00 ",
          "15:38:12 ",
          "17:08:09 ",
          "18:46:46 ",
          "18:58:27 ",
          "19:10:59 ",
          "19:27:00 ",
          "23:24:27 ",
          "07:07:48 ",
          "15:53:25 ",
          "16:08:01 ",
          "17:24:18 ",
          "19:12:48 ",
          "19:28:30 ",
          "21:10:46 ",
          "21:23:31 ",
          "21:34:56 ",
          "22:16:26 ",
          "23:19:50 ",
          "08:58:35 ",
          "13:27:30 ",
          "13:48:15 ",
          "14:10:38 ",
          "18:32:19 ",
          "18:42:59 ",
          "20:36:57 ",
          "21:23:57 ",
          "11:44:10 ",
          "11:52:21 ",
          "19:44:18 ",
          "20:15:46 ",
          "20:30:22 ",
          "21:03:51 ",
          "22:59:31 ",
          "22:59:35 ",
          "22:59:36 ",
          "22:59:46 ",
          "22:59:49 ",
          "23:10:35 ",
          "01:13:15 ",
          "01:31:53 ",
          "09:22:39 ",
          "13:11:20 ",
          "13:21:19 ",
          "13:31:19 ",
          "13:43:01 ",
          "14:05:27 ",
          "17:48:37 ",
          "17:58:50 ",
          "18:08:49 ",
          "19:09:25 ",
          "19:26:54 ",
          "19:37:06 ",
          "19:47:06 ",
          "19:57:23 ",
          "20:07:33 ",
          "21:14:20 ",
          "21:58:14 ",
          "12:22:40 ",
          "14:12:11 ",
          "17:09:16 ",
          "18:17:50 ",
          "19:40:16 ",
          "19:43:17 ",
          "20:19:18 ",
          "20:29:18 ",
          "20:42:52 ",
          "23:06:23 ",
          "23:21:50 ",
          "14:47:58 ",
          "15:27:44 ",
          "16:55:16 ",
          "16:58:56 ",
          "17:13:05 ",
          "17:27:34 ",
          "17:44:36 ",
          "17:55:55 ",
          "18:11:50 ",
          "18:23:45 ",
          "18:34:38 ",
          "23:05:40 ",
          "00:08:20 ",
          "08:45:13 ",
          "10:26:24 ",
          "11:00:51 ",
          "12:57:00 ",
          "14:24:46 ",
          "15:05:42 ",
          "16:04:23 ",
          "16:33:18 ",
          "16:49:49 ",
          "17:09:06 ",
          "17:47:07 "
         ],
         "xaxis": "x",
         "y": [
          0.02543,
          0.40041,
          0.00996,
          0.00901,
          0.00904,
          0.0056,
          0.36089,
          0.09493,
          0.01074,
          0.01526,
          0.0072,
          0.01855,
          0.01026,
          0.01276,
          0.14214,
          0.03036,
          0.08541,
          0.60459,
          0.08607,
          0.37101,
          0.27507,
          0.17774,
          0.53206,
          0.59911,
          0.06556,
          0.29817,
          0.07109,
          0.01634,
          0.31219,
          0.26924,
          0.31676,
          0.44806,
          0.36479,
          0.3112,
          0.26146,
          0.25999,
          0.25378,
          0.47598,
          0.15439,
          0.07679,
          0.0069,
          0.00879,
          0.47259,
          0.03906,
          0.01873,
          0.00584,
          0.0042,
          0.03888,
          0.01828,
          0.05595,
          0.00414,
          0.03425,
          0.00046,
          0.14723,
          0.01037,
          0.04892,
          0.06624,
          0.09116,
          0.02279,
          0.35053,
          0.04182,
          0.03719,
          0.05559,
          0.01248,
          0.0167,
          0.0629,
          0.01104,
          0.35164,
          0.13039,
          0.0214,
          0.05477,
          0.0421,
          0.02487,
          0.02653,
          0.01402,
          0.01767,
          0.16143,
          0.01326,
          0.0056,
          0.0345,
          0.0069,
          0.01167,
          0.01028,
          0.07606,
          0.00138,
          0.05233,
          0.2903,
          0.30205,
          0.00836,
          0.219,
          0.21388,
          0.0024,
          0.00624,
          0.00138,
          0.05934,
          0.00639,
          0.00588,
          0.007,
          0.12805,
          0.09966,
          0.36296,
          0.02891,
          0.08142,
          0.15826,
          0.20287,
          0.02905,
          0.21209,
          0.12802,
          0.19971,
          0.14844,
          0.1783,
          0.18377,
          0.0367,
          0.00432,
          0.00856,
          0.00657,
          0.02752,
          0.24187,
          0.65131,
          0.4686,
          0.6934,
          0.53742,
          0.08264,
          0.04274,
          0.0168,
          0.01356,
          0.01013,
          0.31879,
          0.70118,
          0.10203,
          0.1733,
          0.17382,
          0.69055,
          0.33979,
          0.27446,
          0.13535,
          0.01136,
          0.02504,
          0.0685,
          0.00207,
          0.01585,
          0.19228,
          0.18943,
          0.10281,
          0.05872,
          0.02039,
          0.65379,
          0.42356,
          0.67835
         ],
         "yaxis": "y"
        }
       ],
       "layout": {
        "legend": {
         "tracegroupgap": 0
        },
        "template": {
         "data": {
          "bar": [
           {
            "error_x": {
             "color": "#2a3f5f"
            },
            "error_y": {
             "color": "#2a3f5f"
            },
            "marker": {
             "line": {
              "color": "white",
              "width": 0.5
             },
             "pattern": {
              "fillmode": "overlay",
              "size": 10,
              "solidity": 0.2
             }
            },
            "type": "bar"
           }
          ],
          "barpolar": [
           {
            "marker": {
             "line": {
              "color": "white",
              "width": 0.5
             },
             "pattern": {
              "fillmode": "overlay",
              "size": 10,
              "solidity": 0.2
             }
            },
            "type": "barpolar"
           }
          ],
          "carpet": [
           {
            "aaxis": {
             "endlinecolor": "#2a3f5f",
             "gridcolor": "#C8D4E3",
             "linecolor": "#C8D4E3",
             "minorgridcolor": "#C8D4E3",
             "startlinecolor": "#2a3f5f"
            },
            "baxis": {
             "endlinecolor": "#2a3f5f",
             "gridcolor": "#C8D4E3",
             "linecolor": "#C8D4E3",
             "minorgridcolor": "#C8D4E3",
             "startlinecolor": "#2a3f5f"
            },
            "type": "carpet"
           }
          ],
          "choropleth": [
           {
            "colorbar": {
             "outlinewidth": 0,
             "ticks": ""
            },
            "type": "choropleth"
           }
          ],
          "contour": [
           {
            "colorbar": {
             "outlinewidth": 0,
             "ticks": ""
            },
            "colorscale": [
             [
              0,
              "#0d0887"
             ],
             [
              0.1111111111111111,
              "#46039f"
             ],
             [
              0.2222222222222222,
              "#7201a8"
             ],
             [
              0.3333333333333333,
              "#9c179e"
             ],
             [
              0.4444444444444444,
              "#bd3786"
             ],
             [
              0.5555555555555556,
              "#d8576b"
             ],
             [
              0.6666666666666666,
              "#ed7953"
             ],
             [
              0.7777777777777778,
              "#fb9f3a"
             ],
             [
              0.8888888888888888,
              "#fdca26"
             ],
             [
              1,
              "#f0f921"
             ]
            ],
            "type": "contour"
           }
          ],
          "contourcarpet": [
           {
            "colorbar": {
             "outlinewidth": 0,
             "ticks": ""
            },
            "type": "contourcarpet"
           }
          ],
          "heatmap": [
           {
            "colorbar": {
             "outlinewidth": 0,
             "ticks": ""
            },
            "colorscale": [
             [
              0,
              "#0d0887"
             ],
             [
              0.1111111111111111,
              "#46039f"
             ],
             [
              0.2222222222222222,
              "#7201a8"
             ],
             [
              0.3333333333333333,
              "#9c179e"
             ],
             [
              0.4444444444444444,
              "#bd3786"
             ],
             [
              0.5555555555555556,
              "#d8576b"
             ],
             [
              0.6666666666666666,
              "#ed7953"
             ],
             [
              0.7777777777777778,
              "#fb9f3a"
             ],
             [
              0.8888888888888888,
              "#fdca26"
             ],
             [
              1,
              "#f0f921"
             ]
            ],
            "type": "heatmap"
           }
          ],
          "heatmapgl": [
           {
            "colorbar": {
             "outlinewidth": 0,
             "ticks": ""
            },
            "colorscale": [
             [
              0,
              "#0d0887"
             ],
             [
              0.1111111111111111,
              "#46039f"
             ],
             [
              0.2222222222222222,
              "#7201a8"
             ],
             [
              0.3333333333333333,
              "#9c179e"
             ],
             [
              0.4444444444444444,
              "#bd3786"
             ],
             [
              0.5555555555555556,
              "#d8576b"
             ],
             [
              0.6666666666666666,
              "#ed7953"
             ],
             [
              0.7777777777777778,
              "#fb9f3a"
             ],
             [
              0.8888888888888888,
              "#fdca26"
             ],
             [
              1,
              "#f0f921"
             ]
            ],
            "type": "heatmapgl"
           }
          ],
          "histogram": [
           {
            "marker": {
             "pattern": {
              "fillmode": "overlay",
              "size": 10,
              "solidity": 0.2
             }
            },
            "type": "histogram"
           }
          ],
          "histogram2d": [
           {
            "colorbar": {
             "outlinewidth": 0,
             "ticks": ""
            },
            "colorscale": [
             [
              0,
              "#0d0887"
             ],
             [
              0.1111111111111111,
              "#46039f"
             ],
             [
              0.2222222222222222,
              "#7201a8"
             ],
             [
              0.3333333333333333,
              "#9c179e"
             ],
             [
              0.4444444444444444,
              "#bd3786"
             ],
             [
              0.5555555555555556,
              "#d8576b"
             ],
             [
              0.6666666666666666,
              "#ed7953"
             ],
             [
              0.7777777777777778,
              "#fb9f3a"
             ],
             [
              0.8888888888888888,
              "#fdca26"
             ],
             [
              1,
              "#f0f921"
             ]
            ],
            "type": "histogram2d"
           }
          ],
          "histogram2dcontour": [
           {
            "colorbar": {
             "outlinewidth": 0,
             "ticks": ""
            },
            "colorscale": [
             [
              0,
              "#0d0887"
             ],
             [
              0.1111111111111111,
              "#46039f"
             ],
             [
              0.2222222222222222,
              "#7201a8"
             ],
             [
              0.3333333333333333,
              "#9c179e"
             ],
             [
              0.4444444444444444,
              "#bd3786"
             ],
             [
              0.5555555555555556,
              "#d8576b"
             ],
             [
              0.6666666666666666,
              "#ed7953"
             ],
             [
              0.7777777777777778,
              "#fb9f3a"
             ],
             [
              0.8888888888888888,
              "#fdca26"
             ],
             [
              1,
              "#f0f921"
             ]
            ],
            "type": "histogram2dcontour"
           }
          ],
          "mesh3d": [
           {
            "colorbar": {
             "outlinewidth": 0,
             "ticks": ""
            },
            "type": "mesh3d"
           }
          ],
          "parcoords": [
           {
            "line": {
             "colorbar": {
              "outlinewidth": 0,
              "ticks": ""
             }
            },
            "type": "parcoords"
           }
          ],
          "pie": [
           {
            "automargin": true,
            "type": "pie"
           }
          ],
          "scatter": [
           {
            "fillpattern": {
             "fillmode": "overlay",
             "size": 10,
             "solidity": 0.2
            },
            "type": "scatter"
           }
          ],
          "scatter3d": [
           {
            "line": {
             "colorbar": {
              "outlinewidth": 0,
              "ticks": ""
             }
            },
            "marker": {
             "colorbar": {
              "outlinewidth": 0,
              "ticks": ""
             }
            },
            "type": "scatter3d"
           }
          ],
          "scattercarpet": [
           {
            "marker": {
             "colorbar": {
              "outlinewidth": 0,
              "ticks": ""
             }
            },
            "type": "scattercarpet"
           }
          ],
          "scattergeo": [
           {
            "marker": {
             "colorbar": {
              "outlinewidth": 0,
              "ticks": ""
             }
            },
            "type": "scattergeo"
           }
          ],
          "scattergl": [
           {
            "marker": {
             "colorbar": {
              "outlinewidth": 0,
              "ticks": ""
             }
            },
            "type": "scattergl"
           }
          ],
          "scattermapbox": [
           {
            "marker": {
             "colorbar": {
              "outlinewidth": 0,
              "ticks": ""
             }
            },
            "type": "scattermapbox"
           }
          ],
          "scatterpolar": [
           {
            "marker": {
             "colorbar": {
              "outlinewidth": 0,
              "ticks": ""
             }
            },
            "type": "scatterpolar"
           }
          ],
          "scatterpolargl": [
           {
            "marker": {
             "colorbar": {
              "outlinewidth": 0,
              "ticks": ""
             }
            },
            "type": "scatterpolargl"
           }
          ],
          "scatterternary": [
           {
            "marker": {
             "colorbar": {
              "outlinewidth": 0,
              "ticks": ""
             }
            },
            "type": "scatterternary"
           }
          ],
          "surface": [
           {
            "colorbar": {
             "outlinewidth": 0,
             "ticks": ""
            },
            "colorscale": [
             [
              0,
              "#0d0887"
             ],
             [
              0.1111111111111111,
              "#46039f"
             ],
             [
              0.2222222222222222,
              "#7201a8"
             ],
             [
              0.3333333333333333,
              "#9c179e"
             ],
             [
              0.4444444444444444,
              "#bd3786"
             ],
             [
              0.5555555555555556,
              "#d8576b"
             ],
             [
              0.6666666666666666,
              "#ed7953"
             ],
             [
              0.7777777777777778,
              "#fb9f3a"
             ],
             [
              0.8888888888888888,
              "#fdca26"
             ],
             [
              1,
              "#f0f921"
             ]
            ],
            "type": "surface"
           }
          ],
          "table": [
           {
            "cells": {
             "fill": {
              "color": "#EBF0F8"
             },
             "line": {
              "color": "white"
             }
            },
            "header": {
             "fill": {
              "color": "#C8D4E3"
             },
             "line": {
              "color": "white"
             }
            },
            "type": "table"
           }
          ]
         },
         "layout": {
          "annotationdefaults": {
           "arrowcolor": "#2a3f5f",
           "arrowhead": 0,
           "arrowwidth": 1
          },
          "autotypenumbers": "strict",
          "coloraxis": {
           "colorbar": {
            "outlinewidth": 0,
            "ticks": ""
           }
          },
          "colorscale": {
           "diverging": [
            [
             0,
             "#8e0152"
            ],
            [
             0.1,
             "#c51b7d"
            ],
            [
             0.2,
             "#de77ae"
            ],
            [
             0.3,
             "#f1b6da"
            ],
            [
             0.4,
             "#fde0ef"
            ],
            [
             0.5,
             "#f7f7f7"
            ],
            [
             0.6,
             "#e6f5d0"
            ],
            [
             0.7,
             "#b8e186"
            ],
            [
             0.8,
             "#7fbc41"
            ],
            [
             0.9,
             "#4d9221"
            ],
            [
             1,
             "#276419"
            ]
           ],
           "sequential": [
            [
             0,
             "#0d0887"
            ],
            [
             0.1111111111111111,
             "#46039f"
            ],
            [
             0.2222222222222222,
             "#7201a8"
            ],
            [
             0.3333333333333333,
             "#9c179e"
            ],
            [
             0.4444444444444444,
             "#bd3786"
            ],
            [
             0.5555555555555556,
             "#d8576b"
            ],
            [
             0.6666666666666666,
             "#ed7953"
            ],
            [
             0.7777777777777778,
             "#fb9f3a"
            ],
            [
             0.8888888888888888,
             "#fdca26"
            ],
            [
             1,
             "#f0f921"
            ]
           ],
           "sequentialminus": [
            [
             0,
             "#0d0887"
            ],
            [
             0.1111111111111111,
             "#46039f"
            ],
            [
             0.2222222222222222,
             "#7201a8"
            ],
            [
             0.3333333333333333,
             "#9c179e"
            ],
            [
             0.4444444444444444,
             "#bd3786"
            ],
            [
             0.5555555555555556,
             "#d8576b"
            ],
            [
             0.6666666666666666,
             "#ed7953"
            ],
            [
             0.7777777777777778,
             "#fb9f3a"
            ],
            [
             0.8888888888888888,
             "#fdca26"
            ],
            [
             1,
             "#f0f921"
            ]
           ]
          },
          "colorway": [
           "#636efa",
           "#EF553B",
           "#00cc96",
           "#ab63fa",
           "#FFA15A",
           "#19d3f3",
           "#FF6692",
           "#B6E880",
           "#FF97FF",
           "#FECB52"
          ],
          "font": {
           "color": "#2a3f5f"
          },
          "geo": {
           "bgcolor": "white",
           "lakecolor": "white",
           "landcolor": "white",
           "showlakes": true,
           "showland": true,
           "subunitcolor": "#C8D4E3"
          },
          "hoverlabel": {
           "align": "left"
          },
          "hovermode": "closest",
          "mapbox": {
           "style": "light"
          },
          "paper_bgcolor": "white",
          "plot_bgcolor": "white",
          "polar": {
           "angularaxis": {
            "gridcolor": "#EBF0F8",
            "linecolor": "#EBF0F8",
            "ticks": ""
           },
           "bgcolor": "white",
           "radialaxis": {
            "gridcolor": "#EBF0F8",
            "linecolor": "#EBF0F8",
            "ticks": ""
           }
          },
          "scene": {
           "xaxis": {
            "backgroundcolor": "white",
            "gridcolor": "#DFE8F3",
            "gridwidth": 2,
            "linecolor": "#EBF0F8",
            "showbackground": true,
            "ticks": "",
            "zerolinecolor": "#EBF0F8"
           },
           "yaxis": {
            "backgroundcolor": "white",
            "gridcolor": "#DFE8F3",
            "gridwidth": 2,
            "linecolor": "#EBF0F8",
            "showbackground": true,
            "ticks": "",
            "zerolinecolor": "#EBF0F8"
           },
           "zaxis": {
            "backgroundcolor": "white",
            "gridcolor": "#DFE8F3",
            "gridwidth": 2,
            "linecolor": "#EBF0F8",
            "showbackground": true,
            "ticks": "",
            "zerolinecolor": "#EBF0F8"
           }
          },
          "shapedefaults": {
           "line": {
            "color": "#2a3f5f"
           }
          },
          "ternary": {
           "aaxis": {
            "gridcolor": "#DFE8F3",
            "linecolor": "#A2B1C6",
            "ticks": ""
           },
           "baxis": {
            "gridcolor": "#DFE8F3",
            "linecolor": "#A2B1C6",
            "ticks": ""
           },
           "bgcolor": "white",
           "caxis": {
            "gridcolor": "#DFE8F3",
            "linecolor": "#A2B1C6",
            "ticks": ""
           }
          },
          "title": {
           "x": 0.05
          },
          "xaxis": {
           "automargin": true,
           "gridcolor": "#EBF0F8",
           "linecolor": "#EBF0F8",
           "ticks": "",
           "title": {
            "standoff": 15
           },
           "zerolinecolor": "#EBF0F8",
           "zerolinewidth": 2
          },
          "yaxis": {
           "automargin": true,
           "gridcolor": "#EBF0F8",
           "linecolor": "#EBF0F8",
           "ticks": "",
           "title": {
            "standoff": 15
           },
           "zerolinecolor": "#EBF0F8",
           "zerolinewidth": 2
          }
         }
        },
        "title": {
         "text": "Distance Covered Over Time"
        },
        "xaxis": {
         "anchor": "y",
         "domain": [
          0,
          1
         ],
         "title": {
          "text": "Time"
         }
        },
        "yaxis": {
         "anchor": "x",
         "domain": [
          0,
          1
         ],
         "title": {
          "text": "Distance"
         }
        }
       }
      },
      "text/html": [
       "<div>                            <div id=\"5ba51221-0deb-4328-b363-ca38ed619b7f\" class=\"plotly-graph-div\" style=\"height:525px; width:100%;\"></div>            <script type=\"text/javascript\">                require([\"plotly\"], function(Plotly) {                    window.PLOTLYENV=window.PLOTLYENV || {};                                    if (document.getElementById(\"5ba51221-0deb-4328-b363-ca38ed619b7f\")) {                    Plotly.newPlot(                        \"5ba51221-0deb-4328-b363-ca38ed619b7f\",                        [{\"hovertemplate\":\"Time=%{x}<br>Distance=%{y}<extra></extra>\",\"legendgroup\":\"\",\"line\":{\"color\":\"#636efa\",\"dash\":\"solid\"},\"marker\":{\"symbol\":\"circle\"},\"mode\":\"lines\",\"name\":\"\",\"orientation\":\"v\",\"showlegend\":false,\"x\":[\"16:01:23 \",\"16:18:37 \",\"16:31:38 \",\"16:45:37 \",\"17:10:30 \",\"18:14:45 \",\"19:02:31 \",\"19:10:51 \",\"19:20:57 \",\"21:04:23 \",\"21:25:23 \",\"00:32:15 \",\"01:20:54 \",\"08:22:57 \",\"10:34:49 \",\"10:52:38 \",\"13:04:47 \",\"13:42:14 \",\"13:42:14 \",\"13:55:27 \",\"14:14:39 \",\"14:52:20 \",\"14:57:40 \",\"15:15:35 \",\"15:23:52 \",\"15:40:24 \",\"15:45:00 \",\"16:13:03 \",\"16:59:35 \",\"17:06:48 \",\"17:17:33 \",\"17:27:35 \",\"18:02:17 \",\"18:11:29 \",\"18:19:35 \",\"18:29:34 \",\"19:00:43 \",\"19:07:33 \",\"19:15:01 \",\"19:25:32 \",\"23:29:50 \",\"09:15:52 \",\"16:51:23 \",\"17:01:33 \",\"17:23:21 \",\"19:00:57 \",\"20:11:46 \",\"20:52:19 \",\"22:53:29 \",\"14:20:45 \",\"16:26:41 \",\"16:51:38 \",\"19:02:12 \",\"20:11:48 \",\"22:12:26 \",\"13:11:57 \",\"15:14:00 \",\"15:38:12 \",\"17:08:09 \",\"18:46:46 \",\"18:58:27 \",\"19:10:59 \",\"19:27:00 \",\"23:24:27 \",\"07:07:48 \",\"15:53:25 \",\"16:08:01 \",\"17:24:18 \",\"19:12:48 \",\"19:28:30 \",\"21:10:46 \",\"21:23:31 \",\"21:34:56 \",\"22:16:26 \",\"23:19:50 \",\"08:58:35 \",\"13:27:30 \",\"13:48:15 \",\"14:10:38 \",\"18:32:19 \",\"18:42:59 \",\"20:36:57 \",\"21:23:57 \",\"11:44:10 \",\"11:52:21 \",\"19:44:18 \",\"20:15:46 \",\"20:30:22 \",\"21:03:51 \",\"22:59:31 \",\"22:59:35 \",\"22:59:36 \",\"22:59:46 \",\"22:59:49 \",\"23:10:35 \",\"01:13:15 \",\"01:31:53 \",\"09:22:39 \",\"13:11:20 \",\"13:21:19 \",\"13:31:19 \",\"13:43:01 \",\"14:05:27 \",\"17:48:37 \",\"17:58:50 \",\"18:08:49 \",\"19:09:25 \",\"19:26:54 \",\"19:37:06 \",\"19:47:06 \",\"19:57:23 \",\"20:07:33 \",\"21:14:20 \",\"21:58:14 \",\"12:22:40 \",\"14:12:11 \",\"17:09:16 \",\"18:17:50 \",\"19:40:16 \",\"19:43:17 \",\"20:19:18 \",\"20:29:18 \",\"20:42:52 \",\"23:06:23 \",\"23:21:50 \",\"14:47:58 \",\"15:27:44 \",\"16:55:16 \",\"16:58:56 \",\"17:13:05 \",\"17:27:34 \",\"17:44:36 \",\"17:55:55 \",\"18:11:50 \",\"18:23:45 \",\"18:34:38 \",\"23:05:40 \",\"00:08:20 \",\"08:45:13 \",\"10:26:24 \",\"11:00:51 \",\"12:57:00 \",\"14:24:46 \",\"15:05:42 \",\"16:04:23 \",\"16:33:18 \",\"16:49:49 \",\"17:09:06 \",\"17:47:07 \"],\"xaxis\":\"x\",\"y\":[0.02543,0.40041,0.00996,0.00901,0.00904,0.0056,0.36089,0.09493,0.01074,0.01526,0.0072,0.01855,0.01026,0.01276,0.14214,0.03036,0.08541,0.60459,0.08607,0.37101,0.27507,0.17774,0.53206,0.59911,0.06556,0.29817,0.07109,0.01634,0.31219,0.26924,0.31676,0.44806,0.36479,0.3112,0.26146,0.25999,0.25378,0.47598,0.15439,0.07679,0.0069,0.00879,0.47259,0.03906,0.01873,0.00584,0.0042,0.03888,0.01828,0.05595,0.00414,0.03425,0.00046,0.14723,0.01037,0.04892,0.06624,0.09116,0.02279,0.35053,0.04182,0.03719,0.05559,0.01248,0.0167,0.0629,0.01104,0.35164,0.13039,0.0214,0.05477,0.0421,0.02487,0.02653,0.01402,0.01767,0.16143,0.01326,0.0056,0.0345,0.0069,0.01167,0.01028,0.07606,0.00138,0.05233,0.2903,0.30205,0.00836,0.219,0.21388,0.0024,0.00624,0.00138,0.05934,0.00639,0.00588,0.007,0.12805,0.09966,0.36296,0.02891,0.08142,0.15826,0.20287,0.02905,0.21209,0.12802,0.19971,0.14844,0.1783,0.18377,0.0367,0.00432,0.00856,0.00657,0.02752,0.24187,0.65131,0.4686,0.6934,0.53742,0.08264,0.04274,0.0168,0.01356,0.01013,0.31879,0.70118,0.10203,0.1733,0.17382,0.69055,0.33979,0.27446,0.13535,0.01136,0.02504,0.0685,0.00207,0.01585,0.19228,0.18943,0.10281,0.05872,0.02039,0.65379,0.42356,0.67835],\"yaxis\":\"y\",\"type\":\"scatter\"}],                        {\"template\":{\"data\":{\"histogram2dcontour\":[{\"type\":\"histogram2dcontour\",\"colorbar\":{\"outlinewidth\":0,\"ticks\":\"\"},\"colorscale\":[[0.0,\"#0d0887\"],[0.1111111111111111,\"#46039f\"],[0.2222222222222222,\"#7201a8\"],[0.3333333333333333,\"#9c179e\"],[0.4444444444444444,\"#bd3786\"],[0.5555555555555556,\"#d8576b\"],[0.6666666666666666,\"#ed7953\"],[0.7777777777777778,\"#fb9f3a\"],[0.8888888888888888,\"#fdca26\"],[1.0,\"#f0f921\"]]}],\"choropleth\":[{\"type\":\"choropleth\",\"colorbar\":{\"outlinewidth\":0,\"ticks\":\"\"}}],\"histogram2d\":[{\"type\":\"histogram2d\",\"colorbar\":{\"outlinewidth\":0,\"ticks\":\"\"},\"colorscale\":[[0.0,\"#0d0887\"],[0.1111111111111111,\"#46039f\"],[0.2222222222222222,\"#7201a8\"],[0.3333333333333333,\"#9c179e\"],[0.4444444444444444,\"#bd3786\"],[0.5555555555555556,\"#d8576b\"],[0.6666666666666666,\"#ed7953\"],[0.7777777777777778,\"#fb9f3a\"],[0.8888888888888888,\"#fdca26\"],[1.0,\"#f0f921\"]]}],\"heatmap\":[{\"type\":\"heatmap\",\"colorbar\":{\"outlinewidth\":0,\"ticks\":\"\"},\"colorscale\":[[0.0,\"#0d0887\"],[0.1111111111111111,\"#46039f\"],[0.2222222222222222,\"#7201a8\"],[0.3333333333333333,\"#9c179e\"],[0.4444444444444444,\"#bd3786\"],[0.5555555555555556,\"#d8576b\"],[0.6666666666666666,\"#ed7953\"],[0.7777777777777778,\"#fb9f3a\"],[0.8888888888888888,\"#fdca26\"],[1.0,\"#f0f921\"]]}],\"heatmapgl\":[{\"type\":\"heatmapgl\",\"colorbar\":{\"outlinewidth\":0,\"ticks\":\"\"},\"colorscale\":[[0.0,\"#0d0887\"],[0.1111111111111111,\"#46039f\"],[0.2222222222222222,\"#7201a8\"],[0.3333333333333333,\"#9c179e\"],[0.4444444444444444,\"#bd3786\"],[0.5555555555555556,\"#d8576b\"],[0.6666666666666666,\"#ed7953\"],[0.7777777777777778,\"#fb9f3a\"],[0.8888888888888888,\"#fdca26\"],[1.0,\"#f0f921\"]]}],\"contourcarpet\":[{\"type\":\"contourcarpet\",\"colorbar\":{\"outlinewidth\":0,\"ticks\":\"\"}}],\"contour\":[{\"type\":\"contour\",\"colorbar\":{\"outlinewidth\":0,\"ticks\":\"\"},\"colorscale\":[[0.0,\"#0d0887\"],[0.1111111111111111,\"#46039f\"],[0.2222222222222222,\"#7201a8\"],[0.3333333333333333,\"#9c179e\"],[0.4444444444444444,\"#bd3786\"],[0.5555555555555556,\"#d8576b\"],[0.6666666666666666,\"#ed7953\"],[0.7777777777777778,\"#fb9f3a\"],[0.8888888888888888,\"#fdca26\"],[1.0,\"#f0f921\"]]}],\"surface\":[{\"type\":\"surface\",\"colorbar\":{\"outlinewidth\":0,\"ticks\":\"\"},\"colorscale\":[[0.0,\"#0d0887\"],[0.1111111111111111,\"#46039f\"],[0.2222222222222222,\"#7201a8\"],[0.3333333333333333,\"#9c179e\"],[0.4444444444444444,\"#bd3786\"],[0.5555555555555556,\"#d8576b\"],[0.6666666666666666,\"#ed7953\"],[0.7777777777777778,\"#fb9f3a\"],[0.8888888888888888,\"#fdca26\"],[1.0,\"#f0f921\"]]}],\"mesh3d\":[{\"type\":\"mesh3d\",\"colorbar\":{\"outlinewidth\":0,\"ticks\":\"\"}}],\"scatter\":[{\"fillpattern\":{\"fillmode\":\"overlay\",\"size\":10,\"solidity\":0.2},\"type\":\"scatter\"}],\"parcoords\":[{\"type\":\"parcoords\",\"line\":{\"colorbar\":{\"outlinewidth\":0,\"ticks\":\"\"}}}],\"scatterpolargl\":[{\"type\":\"scatterpolargl\",\"marker\":{\"colorbar\":{\"outlinewidth\":0,\"ticks\":\"\"}}}],\"bar\":[{\"error_x\":{\"color\":\"#2a3f5f\"},\"error_y\":{\"color\":\"#2a3f5f\"},\"marker\":{\"line\":{\"color\":\"white\",\"width\":0.5},\"pattern\":{\"fillmode\":\"overlay\",\"size\":10,\"solidity\":0.2}},\"type\":\"bar\"}],\"scattergeo\":[{\"type\":\"scattergeo\",\"marker\":{\"colorbar\":{\"outlinewidth\":0,\"ticks\":\"\"}}}],\"scatterpolar\":[{\"type\":\"scatterpolar\",\"marker\":{\"colorbar\":{\"outlinewidth\":0,\"ticks\":\"\"}}}],\"histogram\":[{\"marker\":{\"pattern\":{\"fillmode\":\"overlay\",\"size\":10,\"solidity\":0.2}},\"type\":\"histogram\"}],\"scattergl\":[{\"type\":\"scattergl\",\"marker\":{\"colorbar\":{\"outlinewidth\":0,\"ticks\":\"\"}}}],\"scatter3d\":[{\"type\":\"scatter3d\",\"line\":{\"colorbar\":{\"outlinewidth\":0,\"ticks\":\"\"}},\"marker\":{\"colorbar\":{\"outlinewidth\":0,\"ticks\":\"\"}}}],\"scattermapbox\":[{\"type\":\"scattermapbox\",\"marker\":{\"colorbar\":{\"outlinewidth\":0,\"ticks\":\"\"}}}],\"scatterternary\":[{\"type\":\"scatterternary\",\"marker\":{\"colorbar\":{\"outlinewidth\":0,\"ticks\":\"\"}}}],\"scattercarpet\":[{\"type\":\"scattercarpet\",\"marker\":{\"colorbar\":{\"outlinewidth\":0,\"ticks\":\"\"}}}],\"carpet\":[{\"aaxis\":{\"endlinecolor\":\"#2a3f5f\",\"gridcolor\":\"#C8D4E3\",\"linecolor\":\"#C8D4E3\",\"minorgridcolor\":\"#C8D4E3\",\"startlinecolor\":\"#2a3f5f\"},\"baxis\":{\"endlinecolor\":\"#2a3f5f\",\"gridcolor\":\"#C8D4E3\",\"linecolor\":\"#C8D4E3\",\"minorgridcolor\":\"#C8D4E3\",\"startlinecolor\":\"#2a3f5f\"},\"type\":\"carpet\"}],\"table\":[{\"cells\":{\"fill\":{\"color\":\"#EBF0F8\"},\"line\":{\"color\":\"white\"}},\"header\":{\"fill\":{\"color\":\"#C8D4E3\"},\"line\":{\"color\":\"white\"}},\"type\":\"table\"}],\"barpolar\":[{\"marker\":{\"line\":{\"color\":\"white\",\"width\":0.5},\"pattern\":{\"fillmode\":\"overlay\",\"size\":10,\"solidity\":0.2}},\"type\":\"barpolar\"}],\"pie\":[{\"automargin\":true,\"type\":\"pie\"}]},\"layout\":{\"autotypenumbers\":\"strict\",\"colorway\":[\"#636efa\",\"#EF553B\",\"#00cc96\",\"#ab63fa\",\"#FFA15A\",\"#19d3f3\",\"#FF6692\",\"#B6E880\",\"#FF97FF\",\"#FECB52\"],\"font\":{\"color\":\"#2a3f5f\"},\"hovermode\":\"closest\",\"hoverlabel\":{\"align\":\"left\"},\"paper_bgcolor\":\"white\",\"plot_bgcolor\":\"white\",\"polar\":{\"bgcolor\":\"white\",\"angularaxis\":{\"gridcolor\":\"#EBF0F8\",\"linecolor\":\"#EBF0F8\",\"ticks\":\"\"},\"radialaxis\":{\"gridcolor\":\"#EBF0F8\",\"linecolor\":\"#EBF0F8\",\"ticks\":\"\"}},\"ternary\":{\"bgcolor\":\"white\",\"aaxis\":{\"gridcolor\":\"#DFE8F3\",\"linecolor\":\"#A2B1C6\",\"ticks\":\"\"},\"baxis\":{\"gridcolor\":\"#DFE8F3\",\"linecolor\":\"#A2B1C6\",\"ticks\":\"\"},\"caxis\":{\"gridcolor\":\"#DFE8F3\",\"linecolor\":\"#A2B1C6\",\"ticks\":\"\"}},\"coloraxis\":{\"colorbar\":{\"outlinewidth\":0,\"ticks\":\"\"}},\"colorscale\":{\"sequential\":[[0.0,\"#0d0887\"],[0.1111111111111111,\"#46039f\"],[0.2222222222222222,\"#7201a8\"],[0.3333333333333333,\"#9c179e\"],[0.4444444444444444,\"#bd3786\"],[0.5555555555555556,\"#d8576b\"],[0.6666666666666666,\"#ed7953\"],[0.7777777777777778,\"#fb9f3a\"],[0.8888888888888888,\"#fdca26\"],[1.0,\"#f0f921\"]],\"sequentialminus\":[[0.0,\"#0d0887\"],[0.1111111111111111,\"#46039f\"],[0.2222222222222222,\"#7201a8\"],[0.3333333333333333,\"#9c179e\"],[0.4444444444444444,\"#bd3786\"],[0.5555555555555556,\"#d8576b\"],[0.6666666666666666,\"#ed7953\"],[0.7777777777777778,\"#fb9f3a\"],[0.8888888888888888,\"#fdca26\"],[1.0,\"#f0f921\"]],\"diverging\":[[0,\"#8e0152\"],[0.1,\"#c51b7d\"],[0.2,\"#de77ae\"],[0.3,\"#f1b6da\"],[0.4,\"#fde0ef\"],[0.5,\"#f7f7f7\"],[0.6,\"#e6f5d0\"],[0.7,\"#b8e186\"],[0.8,\"#7fbc41\"],[0.9,\"#4d9221\"],[1,\"#276419\"]]},\"xaxis\":{\"gridcolor\":\"#EBF0F8\",\"linecolor\":\"#EBF0F8\",\"ticks\":\"\",\"title\":{\"standoff\":15},\"zerolinecolor\":\"#EBF0F8\",\"automargin\":true,\"zerolinewidth\":2},\"yaxis\":{\"gridcolor\":\"#EBF0F8\",\"linecolor\":\"#EBF0F8\",\"ticks\":\"\",\"title\":{\"standoff\":15},\"zerolinecolor\":\"#EBF0F8\",\"automargin\":true,\"zerolinewidth\":2},\"scene\":{\"xaxis\":{\"backgroundcolor\":\"white\",\"gridcolor\":\"#DFE8F3\",\"linecolor\":\"#EBF0F8\",\"showbackground\":true,\"ticks\":\"\",\"zerolinecolor\":\"#EBF0F8\",\"gridwidth\":2},\"yaxis\":{\"backgroundcolor\":\"white\",\"gridcolor\":\"#DFE8F3\",\"linecolor\":\"#EBF0F8\",\"showbackground\":true,\"ticks\":\"\",\"zerolinecolor\":\"#EBF0F8\",\"gridwidth\":2},\"zaxis\":{\"backgroundcolor\":\"white\",\"gridcolor\":\"#DFE8F3\",\"linecolor\":\"#EBF0F8\",\"showbackground\":true,\"ticks\":\"\",\"zerolinecolor\":\"#EBF0F8\",\"gridwidth\":2}},\"shapedefaults\":{\"line\":{\"color\":\"#2a3f5f\"}},\"annotationdefaults\":{\"arrowcolor\":\"#2a3f5f\",\"arrowhead\":0,\"arrowwidth\":1},\"geo\":{\"bgcolor\":\"white\",\"landcolor\":\"white\",\"subunitcolor\":\"#C8D4E3\",\"showland\":true,\"showlakes\":true,\"lakecolor\":\"white\"},\"title\":{\"x\":0.05},\"mapbox\":{\"style\":\"light\"}}},\"xaxis\":{\"anchor\":\"y\",\"domain\":[0.0,1.0],\"title\":{\"text\":\"Time\"}},\"yaxis\":{\"anchor\":\"x\",\"domain\":[0.0,1.0],\"title\":{\"text\":\"Distance\"}},\"legend\":{\"tracegroupgap\":0},\"title\":{\"text\":\"Distance Covered Over Time\"}},                        {\"responsive\": true}                    ).then(function(){\n",
       "                            \n",
       "var gd = document.getElementById('5ba51221-0deb-4328-b363-ca38ed619b7f');\n",
       "var x = new MutationObserver(function (mutations, observer) {{\n",
       "        var display = window.getComputedStyle(gd).display;\n",
       "        if (!display || display === 'none') {{\n",
       "            console.log([gd, 'removed!']);\n",
       "            Plotly.purge(gd);\n",
       "            observer.disconnect();\n",
       "        }}\n",
       "}});\n",
       "\n",
       "// Listen for the removal of the full notebook cells\n",
       "var notebookContainer = gd.closest('#notebook-container');\n",
       "if (notebookContainer) {{\n",
       "    x.observe(notebookContainer, {childList: true});\n",
       "}}\n",
       "\n",
       "// Listen for the clearing of the current output cell\n",
       "var outputEl = gd.closest('.output');\n",
       "if (outputEl) {{\n",
       "    x.observe(outputEl, {childList: true});\n",
       "}}\n",
       "\n",
       "                        })                };                });            </script>        </div>"
      ]
     },
     "metadata": {},
     "output_type": "display_data"
    }
   ],
   "source": [
    "fig2 = px.line(data, x=\"Time\",\n",
    "               y=\"Distance\",\n",
    "               title=\"Distance Covered Over Time\")\n",
    "fig2.show()"
   ]
  },
  {
   "cell_type": "markdown",
   "id": "bbfdab08",
   "metadata": {},
   "source": [
    "# Energy Burned Over Time :"
   ]
  },
  {
   "cell_type": "code",
   "execution_count": 27,
   "id": "4eaf0ad2",
   "metadata": {},
   "outputs": [
    {
     "data": {
      "application/vnd.plotly.v1+json": {
       "config": {
        "plotlyServerURL": "https://plot.ly"
       },
       "data": [
        {
         "hovertemplate": "Time=%{x}<br>Energy Burned=%{y}<extra></extra>",
         "legendgroup": "",
         "line": {
          "color": "#636efa",
          "dash": "solid"
         },
         "marker": {
          "symbol": "circle"
         },
         "mode": "lines",
         "name": "",
         "orientation": "v",
         "showlegend": false,
         "type": "scatter",
         "x": [
          "16:01:23 ",
          "16:18:37 ",
          "16:31:38 ",
          "16:45:37 ",
          "17:10:30 ",
          "18:14:45 ",
          "19:02:31 ",
          "19:10:51 ",
          "19:20:57 ",
          "21:04:23 ",
          "21:25:23 ",
          "00:32:15 ",
          "01:20:54 ",
          "08:22:57 ",
          "10:34:49 ",
          "10:52:38 ",
          "13:04:47 ",
          "13:42:14 ",
          "13:42:14 ",
          "13:55:27 ",
          "14:14:39 ",
          "14:52:20 ",
          "14:57:40 ",
          "15:15:35 ",
          "15:23:52 ",
          "15:40:24 ",
          "15:45:00 ",
          "16:13:03 ",
          "16:59:35 ",
          "17:06:48 ",
          "17:17:33 ",
          "17:27:35 ",
          "18:02:17 ",
          "18:11:29 ",
          "18:19:35 ",
          "18:29:34 ",
          "19:00:43 ",
          "19:07:33 ",
          "19:15:01 ",
          "19:25:32 ",
          "23:29:50 ",
          "09:15:52 ",
          "16:51:23 ",
          "17:01:33 ",
          "17:23:21 ",
          "19:00:57 ",
          "20:11:46 ",
          "20:52:19 ",
          "22:53:29 ",
          "14:20:45 ",
          "16:26:41 ",
          "16:51:38 ",
          "19:02:12 ",
          "20:11:48 ",
          "22:12:26 ",
          "13:11:57 ",
          "15:14:00 ",
          "15:38:12 ",
          "17:08:09 ",
          "18:46:46 ",
          "18:58:27 ",
          "19:10:59 ",
          "19:27:00 ",
          "23:24:27 ",
          "07:07:48 ",
          "15:53:25 ",
          "16:08:01 ",
          "17:24:18 ",
          "19:12:48 ",
          "19:28:30 ",
          "21:10:46 ",
          "21:23:31 ",
          "21:34:56 ",
          "22:16:26 ",
          "23:19:50 ",
          "08:58:35 ",
          "13:27:30 ",
          "13:48:15 ",
          "14:10:38 ",
          "18:32:19 ",
          "18:42:59 ",
          "20:36:57 ",
          "21:23:57 ",
          "11:44:10 ",
          "11:52:21 ",
          "19:44:18 ",
          "20:15:46 ",
          "20:30:22 ",
          "21:03:51 ",
          "22:59:31 ",
          "22:59:35 ",
          "22:59:36 ",
          "22:59:46 ",
          "22:59:49 ",
          "23:10:35 ",
          "01:13:15 ",
          "01:31:53 ",
          "09:22:39 ",
          "13:11:20 ",
          "13:21:19 ",
          "13:31:19 ",
          "13:43:01 ",
          "14:05:27 ",
          "17:48:37 ",
          "17:58:50 ",
          "18:08:49 ",
          "19:09:25 ",
          "19:26:54 ",
          "19:37:06 ",
          "19:47:06 ",
          "19:57:23 ",
          "20:07:33 ",
          "21:14:20 ",
          "21:58:14 ",
          "12:22:40 ",
          "14:12:11 ",
          "17:09:16 ",
          "18:17:50 ",
          "19:40:16 ",
          "19:43:17 ",
          "20:19:18 ",
          "20:29:18 ",
          "20:42:52 ",
          "23:06:23 ",
          "23:21:50 ",
          "14:47:58 ",
          "15:27:44 ",
          "16:55:16 ",
          "16:58:56 ",
          "17:13:05 ",
          "17:27:34 ",
          "17:44:36 ",
          "17:55:55 ",
          "18:11:50 ",
          "18:23:45 ",
          "18:34:38 ",
          "23:05:40 ",
          "00:08:20 ",
          "08:45:13 ",
          "10:26:24 ",
          "11:00:51 ",
          "12:57:00 ",
          "14:24:46 ",
          "15:05:42 ",
          "16:04:23 ",
          "16:33:18 ",
          "16:49:49 ",
          "17:09:06 ",
          "17:47:07 "
         ],
         "xaxis": "x",
         "y": [
          14.62,
          14.722,
          14.603,
          14.811,
          15.153,
          14.958,
          13.709,
          14.86,
          16.804,
          14.564,
          13.13,
          13.693,
          14.177,
          14.395,
          10.861,
          14.851,
          14.124,
          14.17,
          12.49,
          15.871,
          15.384,
          20.497,
          14.519,
          14.422,
          14.652,
          14.793,
          16.204,
          12.064,
          31.105,
          17.051,
          13.758,
          15.203,
          15.006,
          14.777,
          20.057,
          11.351,
          10.345,
          15.203,
          14.934,
          14.918,
          13.872,
          14.395,
          14.928,
          13.585,
          13.76,
          14.052,
          15.445,
          14.389,
          13.87,
          13.804,
          14.914,
          13.831,
          14.796,
          13.722,
          20.545,
          15.109,
          16.841,
          14.808,
          14.922,
          14.564,
          14.191,
          16.621,
          14.218,
          14.268,
          15.38,
          13.198,
          14.754,
          14.374,
          13.904,
          23.127,
          15.023,
          51.5,
          0.225,
          41.889,
          0.171,
          60.514,
          18.976,
          0.215,
          60.514,
          14.759,
          15.501,
          15.86,
          2.914,
          25.559,
          15.22,
          15.081,
          13.04,
          9.172,
          13.074,
          13.257,
          13.844,
          12.621,
          13.991,
          15.038,
          18.35,
          0.179,
          7.012,
          32.929,
          0.207,
          16.388,
          19.404,
          15.441,
          14.352,
          12.023,
          15.253,
          12.021,
          28.277,
          0.221,
          23.835,
          0.179,
          25.71,
          1.912,
          28.389,
          0.179,
          13.339,
          7.867,
          12.616,
          7.732,
          23.688,
          0.179,
          20.359,
          15.27,
          0.315,
          4.044,
          40.197,
          14.768,
          15.663,
          12.988,
          5.592,
          12.996,
          23.428,
          0.221,
          16.43,
          11.196,
          15.54,
          0.179,
          3.505,
          0.179,
          4.267,
          0.179,
          0.179,
          1.326,
          0.201,
          16.44,
          13.162,
          4.135,
          31.416,
          13.25,
          14.131
         ],
         "yaxis": "y"
        }
       ],
       "layout": {
        "legend": {
         "tracegroupgap": 0
        },
        "template": {
         "data": {
          "bar": [
           {
            "error_x": {
             "color": "#2a3f5f"
            },
            "error_y": {
             "color": "#2a3f5f"
            },
            "marker": {
             "line": {
              "color": "white",
              "width": 0.5
             },
             "pattern": {
              "fillmode": "overlay",
              "size": 10,
              "solidity": 0.2
             }
            },
            "type": "bar"
           }
          ],
          "barpolar": [
           {
            "marker": {
             "line": {
              "color": "white",
              "width": 0.5
             },
             "pattern": {
              "fillmode": "overlay",
              "size": 10,
              "solidity": 0.2
             }
            },
            "type": "barpolar"
           }
          ],
          "carpet": [
           {
            "aaxis": {
             "endlinecolor": "#2a3f5f",
             "gridcolor": "#C8D4E3",
             "linecolor": "#C8D4E3",
             "minorgridcolor": "#C8D4E3",
             "startlinecolor": "#2a3f5f"
            },
            "baxis": {
             "endlinecolor": "#2a3f5f",
             "gridcolor": "#C8D4E3",
             "linecolor": "#C8D4E3",
             "minorgridcolor": "#C8D4E3",
             "startlinecolor": "#2a3f5f"
            },
            "type": "carpet"
           }
          ],
          "choropleth": [
           {
            "colorbar": {
             "outlinewidth": 0,
             "ticks": ""
            },
            "type": "choropleth"
           }
          ],
          "contour": [
           {
            "colorbar": {
             "outlinewidth": 0,
             "ticks": ""
            },
            "colorscale": [
             [
              0,
              "#0d0887"
             ],
             [
              0.1111111111111111,
              "#46039f"
             ],
             [
              0.2222222222222222,
              "#7201a8"
             ],
             [
              0.3333333333333333,
              "#9c179e"
             ],
             [
              0.4444444444444444,
              "#bd3786"
             ],
             [
              0.5555555555555556,
              "#d8576b"
             ],
             [
              0.6666666666666666,
              "#ed7953"
             ],
             [
              0.7777777777777778,
              "#fb9f3a"
             ],
             [
              0.8888888888888888,
              "#fdca26"
             ],
             [
              1,
              "#f0f921"
             ]
            ],
            "type": "contour"
           }
          ],
          "contourcarpet": [
           {
            "colorbar": {
             "outlinewidth": 0,
             "ticks": ""
            },
            "type": "contourcarpet"
           }
          ],
          "heatmap": [
           {
            "colorbar": {
             "outlinewidth": 0,
             "ticks": ""
            },
            "colorscale": [
             [
              0,
              "#0d0887"
             ],
             [
              0.1111111111111111,
              "#46039f"
             ],
             [
              0.2222222222222222,
              "#7201a8"
             ],
             [
              0.3333333333333333,
              "#9c179e"
             ],
             [
              0.4444444444444444,
              "#bd3786"
             ],
             [
              0.5555555555555556,
              "#d8576b"
             ],
             [
              0.6666666666666666,
              "#ed7953"
             ],
             [
              0.7777777777777778,
              "#fb9f3a"
             ],
             [
              0.8888888888888888,
              "#fdca26"
             ],
             [
              1,
              "#f0f921"
             ]
            ],
            "type": "heatmap"
           }
          ],
          "heatmapgl": [
           {
            "colorbar": {
             "outlinewidth": 0,
             "ticks": ""
            },
            "colorscale": [
             [
              0,
              "#0d0887"
             ],
             [
              0.1111111111111111,
              "#46039f"
             ],
             [
              0.2222222222222222,
              "#7201a8"
             ],
             [
              0.3333333333333333,
              "#9c179e"
             ],
             [
              0.4444444444444444,
              "#bd3786"
             ],
             [
              0.5555555555555556,
              "#d8576b"
             ],
             [
              0.6666666666666666,
              "#ed7953"
             ],
             [
              0.7777777777777778,
              "#fb9f3a"
             ],
             [
              0.8888888888888888,
              "#fdca26"
             ],
             [
              1,
              "#f0f921"
             ]
            ],
            "type": "heatmapgl"
           }
          ],
          "histogram": [
           {
            "marker": {
             "pattern": {
              "fillmode": "overlay",
              "size": 10,
              "solidity": 0.2
             }
            },
            "type": "histogram"
           }
          ],
          "histogram2d": [
           {
            "colorbar": {
             "outlinewidth": 0,
             "ticks": ""
            },
            "colorscale": [
             [
              0,
              "#0d0887"
             ],
             [
              0.1111111111111111,
              "#46039f"
             ],
             [
              0.2222222222222222,
              "#7201a8"
             ],
             [
              0.3333333333333333,
              "#9c179e"
             ],
             [
              0.4444444444444444,
              "#bd3786"
             ],
             [
              0.5555555555555556,
              "#d8576b"
             ],
             [
              0.6666666666666666,
              "#ed7953"
             ],
             [
              0.7777777777777778,
              "#fb9f3a"
             ],
             [
              0.8888888888888888,
              "#fdca26"
             ],
             [
              1,
              "#f0f921"
             ]
            ],
            "type": "histogram2d"
           }
          ],
          "histogram2dcontour": [
           {
            "colorbar": {
             "outlinewidth": 0,
             "ticks": ""
            },
            "colorscale": [
             [
              0,
              "#0d0887"
             ],
             [
              0.1111111111111111,
              "#46039f"
             ],
             [
              0.2222222222222222,
              "#7201a8"
             ],
             [
              0.3333333333333333,
              "#9c179e"
             ],
             [
              0.4444444444444444,
              "#bd3786"
             ],
             [
              0.5555555555555556,
              "#d8576b"
             ],
             [
              0.6666666666666666,
              "#ed7953"
             ],
             [
              0.7777777777777778,
              "#fb9f3a"
             ],
             [
              0.8888888888888888,
              "#fdca26"
             ],
             [
              1,
              "#f0f921"
             ]
            ],
            "type": "histogram2dcontour"
           }
          ],
          "mesh3d": [
           {
            "colorbar": {
             "outlinewidth": 0,
             "ticks": ""
            },
            "type": "mesh3d"
           }
          ],
          "parcoords": [
           {
            "line": {
             "colorbar": {
              "outlinewidth": 0,
              "ticks": ""
             }
            },
            "type": "parcoords"
           }
          ],
          "pie": [
           {
            "automargin": true,
            "type": "pie"
           }
          ],
          "scatter": [
           {
            "fillpattern": {
             "fillmode": "overlay",
             "size": 10,
             "solidity": 0.2
            },
            "type": "scatter"
           }
          ],
          "scatter3d": [
           {
            "line": {
             "colorbar": {
              "outlinewidth": 0,
              "ticks": ""
             }
            },
            "marker": {
             "colorbar": {
              "outlinewidth": 0,
              "ticks": ""
             }
            },
            "type": "scatter3d"
           }
          ],
          "scattercarpet": [
           {
            "marker": {
             "colorbar": {
              "outlinewidth": 0,
              "ticks": ""
             }
            },
            "type": "scattercarpet"
           }
          ],
          "scattergeo": [
           {
            "marker": {
             "colorbar": {
              "outlinewidth": 0,
              "ticks": ""
             }
            },
            "type": "scattergeo"
           }
          ],
          "scattergl": [
           {
            "marker": {
             "colorbar": {
              "outlinewidth": 0,
              "ticks": ""
             }
            },
            "type": "scattergl"
           }
          ],
          "scattermapbox": [
           {
            "marker": {
             "colorbar": {
              "outlinewidth": 0,
              "ticks": ""
             }
            },
            "type": "scattermapbox"
           }
          ],
          "scatterpolar": [
           {
            "marker": {
             "colorbar": {
              "outlinewidth": 0,
              "ticks": ""
             }
            },
            "type": "scatterpolar"
           }
          ],
          "scatterpolargl": [
           {
            "marker": {
             "colorbar": {
              "outlinewidth": 0,
              "ticks": ""
             }
            },
            "type": "scatterpolargl"
           }
          ],
          "scatterternary": [
           {
            "marker": {
             "colorbar": {
              "outlinewidth": 0,
              "ticks": ""
             }
            },
            "type": "scatterternary"
           }
          ],
          "surface": [
           {
            "colorbar": {
             "outlinewidth": 0,
             "ticks": ""
            },
            "colorscale": [
             [
              0,
              "#0d0887"
             ],
             [
              0.1111111111111111,
              "#46039f"
             ],
             [
              0.2222222222222222,
              "#7201a8"
             ],
             [
              0.3333333333333333,
              "#9c179e"
             ],
             [
              0.4444444444444444,
              "#bd3786"
             ],
             [
              0.5555555555555556,
              "#d8576b"
             ],
             [
              0.6666666666666666,
              "#ed7953"
             ],
             [
              0.7777777777777778,
              "#fb9f3a"
             ],
             [
              0.8888888888888888,
              "#fdca26"
             ],
             [
              1,
              "#f0f921"
             ]
            ],
            "type": "surface"
           }
          ],
          "table": [
           {
            "cells": {
             "fill": {
              "color": "#EBF0F8"
             },
             "line": {
              "color": "white"
             }
            },
            "header": {
             "fill": {
              "color": "#C8D4E3"
             },
             "line": {
              "color": "white"
             }
            },
            "type": "table"
           }
          ]
         },
         "layout": {
          "annotationdefaults": {
           "arrowcolor": "#2a3f5f",
           "arrowhead": 0,
           "arrowwidth": 1
          },
          "autotypenumbers": "strict",
          "coloraxis": {
           "colorbar": {
            "outlinewidth": 0,
            "ticks": ""
           }
          },
          "colorscale": {
           "diverging": [
            [
             0,
             "#8e0152"
            ],
            [
             0.1,
             "#c51b7d"
            ],
            [
             0.2,
             "#de77ae"
            ],
            [
             0.3,
             "#f1b6da"
            ],
            [
             0.4,
             "#fde0ef"
            ],
            [
             0.5,
             "#f7f7f7"
            ],
            [
             0.6,
             "#e6f5d0"
            ],
            [
             0.7,
             "#b8e186"
            ],
            [
             0.8,
             "#7fbc41"
            ],
            [
             0.9,
             "#4d9221"
            ],
            [
             1,
             "#276419"
            ]
           ],
           "sequential": [
            [
             0,
             "#0d0887"
            ],
            [
             0.1111111111111111,
             "#46039f"
            ],
            [
             0.2222222222222222,
             "#7201a8"
            ],
            [
             0.3333333333333333,
             "#9c179e"
            ],
            [
             0.4444444444444444,
             "#bd3786"
            ],
            [
             0.5555555555555556,
             "#d8576b"
            ],
            [
             0.6666666666666666,
             "#ed7953"
            ],
            [
             0.7777777777777778,
             "#fb9f3a"
            ],
            [
             0.8888888888888888,
             "#fdca26"
            ],
            [
             1,
             "#f0f921"
            ]
           ],
           "sequentialminus": [
            [
             0,
             "#0d0887"
            ],
            [
             0.1111111111111111,
             "#46039f"
            ],
            [
             0.2222222222222222,
             "#7201a8"
            ],
            [
             0.3333333333333333,
             "#9c179e"
            ],
            [
             0.4444444444444444,
             "#bd3786"
            ],
            [
             0.5555555555555556,
             "#d8576b"
            ],
            [
             0.6666666666666666,
             "#ed7953"
            ],
            [
             0.7777777777777778,
             "#fb9f3a"
            ],
            [
             0.8888888888888888,
             "#fdca26"
            ],
            [
             1,
             "#f0f921"
            ]
           ]
          },
          "colorway": [
           "#636efa",
           "#EF553B",
           "#00cc96",
           "#ab63fa",
           "#FFA15A",
           "#19d3f3",
           "#FF6692",
           "#B6E880",
           "#FF97FF",
           "#FECB52"
          ],
          "font": {
           "color": "#2a3f5f"
          },
          "geo": {
           "bgcolor": "white",
           "lakecolor": "white",
           "landcolor": "white",
           "showlakes": true,
           "showland": true,
           "subunitcolor": "#C8D4E3"
          },
          "hoverlabel": {
           "align": "left"
          },
          "hovermode": "closest",
          "mapbox": {
           "style": "light"
          },
          "paper_bgcolor": "white",
          "plot_bgcolor": "white",
          "polar": {
           "angularaxis": {
            "gridcolor": "#EBF0F8",
            "linecolor": "#EBF0F8",
            "ticks": ""
           },
           "bgcolor": "white",
           "radialaxis": {
            "gridcolor": "#EBF0F8",
            "linecolor": "#EBF0F8",
            "ticks": ""
           }
          },
          "scene": {
           "xaxis": {
            "backgroundcolor": "white",
            "gridcolor": "#DFE8F3",
            "gridwidth": 2,
            "linecolor": "#EBF0F8",
            "showbackground": true,
            "ticks": "",
            "zerolinecolor": "#EBF0F8"
           },
           "yaxis": {
            "backgroundcolor": "white",
            "gridcolor": "#DFE8F3",
            "gridwidth": 2,
            "linecolor": "#EBF0F8",
            "showbackground": true,
            "ticks": "",
            "zerolinecolor": "#EBF0F8"
           },
           "zaxis": {
            "backgroundcolor": "white",
            "gridcolor": "#DFE8F3",
            "gridwidth": 2,
            "linecolor": "#EBF0F8",
            "showbackground": true,
            "ticks": "",
            "zerolinecolor": "#EBF0F8"
           }
          },
          "shapedefaults": {
           "line": {
            "color": "#2a3f5f"
           }
          },
          "ternary": {
           "aaxis": {
            "gridcolor": "#DFE8F3",
            "linecolor": "#A2B1C6",
            "ticks": ""
           },
           "baxis": {
            "gridcolor": "#DFE8F3",
            "linecolor": "#A2B1C6",
            "ticks": ""
           },
           "bgcolor": "white",
           "caxis": {
            "gridcolor": "#DFE8F3",
            "linecolor": "#A2B1C6",
            "ticks": ""
           }
          },
          "title": {
           "x": 0.05
          },
          "xaxis": {
           "automargin": true,
           "gridcolor": "#EBF0F8",
           "linecolor": "#EBF0F8",
           "ticks": "",
           "title": {
            "standoff": 15
           },
           "zerolinecolor": "#EBF0F8",
           "zerolinewidth": 2
          },
          "yaxis": {
           "automargin": true,
           "gridcolor": "#EBF0F8",
           "linecolor": "#EBF0F8",
           "ticks": "",
           "title": {
            "standoff": 15
           },
           "zerolinecolor": "#EBF0F8",
           "zerolinewidth": 2
          }
         }
        },
        "title": {
         "text": "Energy Burned Over Time"
        },
        "xaxis": {
         "anchor": "y",
         "domain": [
          0,
          1
         ],
         "title": {
          "text": "Time"
         }
        },
        "yaxis": {
         "anchor": "x",
         "domain": [
          0,
          1
         ],
         "title": {
          "text": "Energy Burned"
         }
        }
       }
      },
      "text/html": [
       "<div>                            <div id=\"d559abd0-94c3-4abc-aec0-b3db961fd3b3\" class=\"plotly-graph-div\" style=\"height:525px; width:100%;\"></div>            <script type=\"text/javascript\">                require([\"plotly\"], function(Plotly) {                    window.PLOTLYENV=window.PLOTLYENV || {};                                    if (document.getElementById(\"d559abd0-94c3-4abc-aec0-b3db961fd3b3\")) {                    Plotly.newPlot(                        \"d559abd0-94c3-4abc-aec0-b3db961fd3b3\",                        [{\"hovertemplate\":\"Time=%{x}<br>Energy Burned=%{y}<extra></extra>\",\"legendgroup\":\"\",\"line\":{\"color\":\"#636efa\",\"dash\":\"solid\"},\"marker\":{\"symbol\":\"circle\"},\"mode\":\"lines\",\"name\":\"\",\"orientation\":\"v\",\"showlegend\":false,\"x\":[\"16:01:23 \",\"16:18:37 \",\"16:31:38 \",\"16:45:37 \",\"17:10:30 \",\"18:14:45 \",\"19:02:31 \",\"19:10:51 \",\"19:20:57 \",\"21:04:23 \",\"21:25:23 \",\"00:32:15 \",\"01:20:54 \",\"08:22:57 \",\"10:34:49 \",\"10:52:38 \",\"13:04:47 \",\"13:42:14 \",\"13:42:14 \",\"13:55:27 \",\"14:14:39 \",\"14:52:20 \",\"14:57:40 \",\"15:15:35 \",\"15:23:52 \",\"15:40:24 \",\"15:45:00 \",\"16:13:03 \",\"16:59:35 \",\"17:06:48 \",\"17:17:33 \",\"17:27:35 \",\"18:02:17 \",\"18:11:29 \",\"18:19:35 \",\"18:29:34 \",\"19:00:43 \",\"19:07:33 \",\"19:15:01 \",\"19:25:32 \",\"23:29:50 \",\"09:15:52 \",\"16:51:23 \",\"17:01:33 \",\"17:23:21 \",\"19:00:57 \",\"20:11:46 \",\"20:52:19 \",\"22:53:29 \",\"14:20:45 \",\"16:26:41 \",\"16:51:38 \",\"19:02:12 \",\"20:11:48 \",\"22:12:26 \",\"13:11:57 \",\"15:14:00 \",\"15:38:12 \",\"17:08:09 \",\"18:46:46 \",\"18:58:27 \",\"19:10:59 \",\"19:27:00 \",\"23:24:27 \",\"07:07:48 \",\"15:53:25 \",\"16:08:01 \",\"17:24:18 \",\"19:12:48 \",\"19:28:30 \",\"21:10:46 \",\"21:23:31 \",\"21:34:56 \",\"22:16:26 \",\"23:19:50 \",\"08:58:35 \",\"13:27:30 \",\"13:48:15 \",\"14:10:38 \",\"18:32:19 \",\"18:42:59 \",\"20:36:57 \",\"21:23:57 \",\"11:44:10 \",\"11:52:21 \",\"19:44:18 \",\"20:15:46 \",\"20:30:22 \",\"21:03:51 \",\"22:59:31 \",\"22:59:35 \",\"22:59:36 \",\"22:59:46 \",\"22:59:49 \",\"23:10:35 \",\"01:13:15 \",\"01:31:53 \",\"09:22:39 \",\"13:11:20 \",\"13:21:19 \",\"13:31:19 \",\"13:43:01 \",\"14:05:27 \",\"17:48:37 \",\"17:58:50 \",\"18:08:49 \",\"19:09:25 \",\"19:26:54 \",\"19:37:06 \",\"19:47:06 \",\"19:57:23 \",\"20:07:33 \",\"21:14:20 \",\"21:58:14 \",\"12:22:40 \",\"14:12:11 \",\"17:09:16 \",\"18:17:50 \",\"19:40:16 \",\"19:43:17 \",\"20:19:18 \",\"20:29:18 \",\"20:42:52 \",\"23:06:23 \",\"23:21:50 \",\"14:47:58 \",\"15:27:44 \",\"16:55:16 \",\"16:58:56 \",\"17:13:05 \",\"17:27:34 \",\"17:44:36 \",\"17:55:55 \",\"18:11:50 \",\"18:23:45 \",\"18:34:38 \",\"23:05:40 \",\"00:08:20 \",\"08:45:13 \",\"10:26:24 \",\"11:00:51 \",\"12:57:00 \",\"14:24:46 \",\"15:05:42 \",\"16:04:23 \",\"16:33:18 \",\"16:49:49 \",\"17:09:06 \",\"17:47:07 \"],\"xaxis\":\"x\",\"y\":[14.62,14.722,14.603,14.811,15.153,14.958,13.709,14.86,16.804,14.564,13.13,13.693,14.177,14.395,10.861,14.851,14.124,14.17,12.49,15.871,15.384,20.497,14.519,14.422,14.652,14.793,16.204,12.064,31.105,17.051,13.758,15.203,15.006,14.777,20.057,11.351,10.345,15.203,14.934,14.918,13.872,14.395,14.928,13.585,13.76,14.052,15.445,14.389,13.87,13.804,14.914,13.831,14.796,13.722,20.545,15.109,16.841,14.808,14.922,14.564,14.191,16.621,14.218,14.268,15.38,13.198,14.754,14.374,13.904,23.127,15.023,51.5,0.225,41.889,0.171,60.514,18.976,0.215,60.514,14.759,15.501,15.86,2.914,25.559,15.22,15.081,13.04,9.172,13.074,13.257,13.844,12.621,13.991,15.038,18.35,0.179,7.012,32.929,0.207,16.388,19.404,15.441,14.352,12.023,15.253,12.021,28.277,0.221,23.835,0.179,25.71,1.912,28.389,0.179,13.339,7.867,12.616,7.732,23.688,0.179,20.359,15.27,0.315,4.044,40.197,14.768,15.663,12.988,5.592,12.996,23.428,0.221,16.43,11.196,15.54,0.179,3.505,0.179,4.267,0.179,0.179,1.326,0.201,16.44,13.162,4.135,31.416,13.25,14.131],\"yaxis\":\"y\",\"type\":\"scatter\"}],                        {\"template\":{\"data\":{\"histogram2dcontour\":[{\"type\":\"histogram2dcontour\",\"colorbar\":{\"outlinewidth\":0,\"ticks\":\"\"},\"colorscale\":[[0.0,\"#0d0887\"],[0.1111111111111111,\"#46039f\"],[0.2222222222222222,\"#7201a8\"],[0.3333333333333333,\"#9c179e\"],[0.4444444444444444,\"#bd3786\"],[0.5555555555555556,\"#d8576b\"],[0.6666666666666666,\"#ed7953\"],[0.7777777777777778,\"#fb9f3a\"],[0.8888888888888888,\"#fdca26\"],[1.0,\"#f0f921\"]]}],\"choropleth\":[{\"type\":\"choropleth\",\"colorbar\":{\"outlinewidth\":0,\"ticks\":\"\"}}],\"histogram2d\":[{\"type\":\"histogram2d\",\"colorbar\":{\"outlinewidth\":0,\"ticks\":\"\"},\"colorscale\":[[0.0,\"#0d0887\"],[0.1111111111111111,\"#46039f\"],[0.2222222222222222,\"#7201a8\"],[0.3333333333333333,\"#9c179e\"],[0.4444444444444444,\"#bd3786\"],[0.5555555555555556,\"#d8576b\"],[0.6666666666666666,\"#ed7953\"],[0.7777777777777778,\"#fb9f3a\"],[0.8888888888888888,\"#fdca26\"],[1.0,\"#f0f921\"]]}],\"heatmap\":[{\"type\":\"heatmap\",\"colorbar\":{\"outlinewidth\":0,\"ticks\":\"\"},\"colorscale\":[[0.0,\"#0d0887\"],[0.1111111111111111,\"#46039f\"],[0.2222222222222222,\"#7201a8\"],[0.3333333333333333,\"#9c179e\"],[0.4444444444444444,\"#bd3786\"],[0.5555555555555556,\"#d8576b\"],[0.6666666666666666,\"#ed7953\"],[0.7777777777777778,\"#fb9f3a\"],[0.8888888888888888,\"#fdca26\"],[1.0,\"#f0f921\"]]}],\"heatmapgl\":[{\"type\":\"heatmapgl\",\"colorbar\":{\"outlinewidth\":0,\"ticks\":\"\"},\"colorscale\":[[0.0,\"#0d0887\"],[0.1111111111111111,\"#46039f\"],[0.2222222222222222,\"#7201a8\"],[0.3333333333333333,\"#9c179e\"],[0.4444444444444444,\"#bd3786\"],[0.5555555555555556,\"#d8576b\"],[0.6666666666666666,\"#ed7953\"],[0.7777777777777778,\"#fb9f3a\"],[0.8888888888888888,\"#fdca26\"],[1.0,\"#f0f921\"]]}],\"contourcarpet\":[{\"type\":\"contourcarpet\",\"colorbar\":{\"outlinewidth\":0,\"ticks\":\"\"}}],\"contour\":[{\"type\":\"contour\",\"colorbar\":{\"outlinewidth\":0,\"ticks\":\"\"},\"colorscale\":[[0.0,\"#0d0887\"],[0.1111111111111111,\"#46039f\"],[0.2222222222222222,\"#7201a8\"],[0.3333333333333333,\"#9c179e\"],[0.4444444444444444,\"#bd3786\"],[0.5555555555555556,\"#d8576b\"],[0.6666666666666666,\"#ed7953\"],[0.7777777777777778,\"#fb9f3a\"],[0.8888888888888888,\"#fdca26\"],[1.0,\"#f0f921\"]]}],\"surface\":[{\"type\":\"surface\",\"colorbar\":{\"outlinewidth\":0,\"ticks\":\"\"},\"colorscale\":[[0.0,\"#0d0887\"],[0.1111111111111111,\"#46039f\"],[0.2222222222222222,\"#7201a8\"],[0.3333333333333333,\"#9c179e\"],[0.4444444444444444,\"#bd3786\"],[0.5555555555555556,\"#d8576b\"],[0.6666666666666666,\"#ed7953\"],[0.7777777777777778,\"#fb9f3a\"],[0.8888888888888888,\"#fdca26\"],[1.0,\"#f0f921\"]]}],\"mesh3d\":[{\"type\":\"mesh3d\",\"colorbar\":{\"outlinewidth\":0,\"ticks\":\"\"}}],\"scatter\":[{\"fillpattern\":{\"fillmode\":\"overlay\",\"size\":10,\"solidity\":0.2},\"type\":\"scatter\"}],\"parcoords\":[{\"type\":\"parcoords\",\"line\":{\"colorbar\":{\"outlinewidth\":0,\"ticks\":\"\"}}}],\"scatterpolargl\":[{\"type\":\"scatterpolargl\",\"marker\":{\"colorbar\":{\"outlinewidth\":0,\"ticks\":\"\"}}}],\"bar\":[{\"error_x\":{\"color\":\"#2a3f5f\"},\"error_y\":{\"color\":\"#2a3f5f\"},\"marker\":{\"line\":{\"color\":\"white\",\"width\":0.5},\"pattern\":{\"fillmode\":\"overlay\",\"size\":10,\"solidity\":0.2}},\"type\":\"bar\"}],\"scattergeo\":[{\"type\":\"scattergeo\",\"marker\":{\"colorbar\":{\"outlinewidth\":0,\"ticks\":\"\"}}}],\"scatterpolar\":[{\"type\":\"scatterpolar\",\"marker\":{\"colorbar\":{\"outlinewidth\":0,\"ticks\":\"\"}}}],\"histogram\":[{\"marker\":{\"pattern\":{\"fillmode\":\"overlay\",\"size\":10,\"solidity\":0.2}},\"type\":\"histogram\"}],\"scattergl\":[{\"type\":\"scattergl\",\"marker\":{\"colorbar\":{\"outlinewidth\":0,\"ticks\":\"\"}}}],\"scatter3d\":[{\"type\":\"scatter3d\",\"line\":{\"colorbar\":{\"outlinewidth\":0,\"ticks\":\"\"}},\"marker\":{\"colorbar\":{\"outlinewidth\":0,\"ticks\":\"\"}}}],\"scattermapbox\":[{\"type\":\"scattermapbox\",\"marker\":{\"colorbar\":{\"outlinewidth\":0,\"ticks\":\"\"}}}],\"scatterternary\":[{\"type\":\"scatterternary\",\"marker\":{\"colorbar\":{\"outlinewidth\":0,\"ticks\":\"\"}}}],\"scattercarpet\":[{\"type\":\"scattercarpet\",\"marker\":{\"colorbar\":{\"outlinewidth\":0,\"ticks\":\"\"}}}],\"carpet\":[{\"aaxis\":{\"endlinecolor\":\"#2a3f5f\",\"gridcolor\":\"#C8D4E3\",\"linecolor\":\"#C8D4E3\",\"minorgridcolor\":\"#C8D4E3\",\"startlinecolor\":\"#2a3f5f\"},\"baxis\":{\"endlinecolor\":\"#2a3f5f\",\"gridcolor\":\"#C8D4E3\",\"linecolor\":\"#C8D4E3\",\"minorgridcolor\":\"#C8D4E3\",\"startlinecolor\":\"#2a3f5f\"},\"type\":\"carpet\"}],\"table\":[{\"cells\":{\"fill\":{\"color\":\"#EBF0F8\"},\"line\":{\"color\":\"white\"}},\"header\":{\"fill\":{\"color\":\"#C8D4E3\"},\"line\":{\"color\":\"white\"}},\"type\":\"table\"}],\"barpolar\":[{\"marker\":{\"line\":{\"color\":\"white\",\"width\":0.5},\"pattern\":{\"fillmode\":\"overlay\",\"size\":10,\"solidity\":0.2}},\"type\":\"barpolar\"}],\"pie\":[{\"automargin\":true,\"type\":\"pie\"}]},\"layout\":{\"autotypenumbers\":\"strict\",\"colorway\":[\"#636efa\",\"#EF553B\",\"#00cc96\",\"#ab63fa\",\"#FFA15A\",\"#19d3f3\",\"#FF6692\",\"#B6E880\",\"#FF97FF\",\"#FECB52\"],\"font\":{\"color\":\"#2a3f5f\"},\"hovermode\":\"closest\",\"hoverlabel\":{\"align\":\"left\"},\"paper_bgcolor\":\"white\",\"plot_bgcolor\":\"white\",\"polar\":{\"bgcolor\":\"white\",\"angularaxis\":{\"gridcolor\":\"#EBF0F8\",\"linecolor\":\"#EBF0F8\",\"ticks\":\"\"},\"radialaxis\":{\"gridcolor\":\"#EBF0F8\",\"linecolor\":\"#EBF0F8\",\"ticks\":\"\"}},\"ternary\":{\"bgcolor\":\"white\",\"aaxis\":{\"gridcolor\":\"#DFE8F3\",\"linecolor\":\"#A2B1C6\",\"ticks\":\"\"},\"baxis\":{\"gridcolor\":\"#DFE8F3\",\"linecolor\":\"#A2B1C6\",\"ticks\":\"\"},\"caxis\":{\"gridcolor\":\"#DFE8F3\",\"linecolor\":\"#A2B1C6\",\"ticks\":\"\"}},\"coloraxis\":{\"colorbar\":{\"outlinewidth\":0,\"ticks\":\"\"}},\"colorscale\":{\"sequential\":[[0.0,\"#0d0887\"],[0.1111111111111111,\"#46039f\"],[0.2222222222222222,\"#7201a8\"],[0.3333333333333333,\"#9c179e\"],[0.4444444444444444,\"#bd3786\"],[0.5555555555555556,\"#d8576b\"],[0.6666666666666666,\"#ed7953\"],[0.7777777777777778,\"#fb9f3a\"],[0.8888888888888888,\"#fdca26\"],[1.0,\"#f0f921\"]],\"sequentialminus\":[[0.0,\"#0d0887\"],[0.1111111111111111,\"#46039f\"],[0.2222222222222222,\"#7201a8\"],[0.3333333333333333,\"#9c179e\"],[0.4444444444444444,\"#bd3786\"],[0.5555555555555556,\"#d8576b\"],[0.6666666666666666,\"#ed7953\"],[0.7777777777777778,\"#fb9f3a\"],[0.8888888888888888,\"#fdca26\"],[1.0,\"#f0f921\"]],\"diverging\":[[0,\"#8e0152\"],[0.1,\"#c51b7d\"],[0.2,\"#de77ae\"],[0.3,\"#f1b6da\"],[0.4,\"#fde0ef\"],[0.5,\"#f7f7f7\"],[0.6,\"#e6f5d0\"],[0.7,\"#b8e186\"],[0.8,\"#7fbc41\"],[0.9,\"#4d9221\"],[1,\"#276419\"]]},\"xaxis\":{\"gridcolor\":\"#EBF0F8\",\"linecolor\":\"#EBF0F8\",\"ticks\":\"\",\"title\":{\"standoff\":15},\"zerolinecolor\":\"#EBF0F8\",\"automargin\":true,\"zerolinewidth\":2},\"yaxis\":{\"gridcolor\":\"#EBF0F8\",\"linecolor\":\"#EBF0F8\",\"ticks\":\"\",\"title\":{\"standoff\":15},\"zerolinecolor\":\"#EBF0F8\",\"automargin\":true,\"zerolinewidth\":2},\"scene\":{\"xaxis\":{\"backgroundcolor\":\"white\",\"gridcolor\":\"#DFE8F3\",\"linecolor\":\"#EBF0F8\",\"showbackground\":true,\"ticks\":\"\",\"zerolinecolor\":\"#EBF0F8\",\"gridwidth\":2},\"yaxis\":{\"backgroundcolor\":\"white\",\"gridcolor\":\"#DFE8F3\",\"linecolor\":\"#EBF0F8\",\"showbackground\":true,\"ticks\":\"\",\"zerolinecolor\":\"#EBF0F8\",\"gridwidth\":2},\"zaxis\":{\"backgroundcolor\":\"white\",\"gridcolor\":\"#DFE8F3\",\"linecolor\":\"#EBF0F8\",\"showbackground\":true,\"ticks\":\"\",\"zerolinecolor\":\"#EBF0F8\",\"gridwidth\":2}},\"shapedefaults\":{\"line\":{\"color\":\"#2a3f5f\"}},\"annotationdefaults\":{\"arrowcolor\":\"#2a3f5f\",\"arrowhead\":0,\"arrowwidth\":1},\"geo\":{\"bgcolor\":\"white\",\"landcolor\":\"white\",\"subunitcolor\":\"#C8D4E3\",\"showland\":true,\"showlakes\":true,\"lakecolor\":\"white\"},\"title\":{\"x\":0.05},\"mapbox\":{\"style\":\"light\"}}},\"xaxis\":{\"anchor\":\"y\",\"domain\":[0.0,1.0],\"title\":{\"text\":\"Time\"}},\"yaxis\":{\"anchor\":\"x\",\"domain\":[0.0,1.0],\"title\":{\"text\":\"Energy Burned\"}},\"legend\":{\"tracegroupgap\":0},\"title\":{\"text\":\"Energy Burned Over Time\"}},                        {\"responsive\": true}                    ).then(function(){\n",
       "                            \n",
       "var gd = document.getElementById('d559abd0-94c3-4abc-aec0-b3db961fd3b3');\n",
       "var x = new MutationObserver(function (mutations, observer) {{\n",
       "        var display = window.getComputedStyle(gd).display;\n",
       "        if (!display || display === 'none') {{\n",
       "            console.log([gd, 'removed!']);\n",
       "            Plotly.purge(gd);\n",
       "            observer.disconnect();\n",
       "        }}\n",
       "}});\n",
       "\n",
       "// Listen for the removal of the full notebook cells\n",
       "var notebookContainer = gd.closest('#notebook-container');\n",
       "if (notebookContainer) {{\n",
       "    x.observe(notebookContainer, {childList: true});\n",
       "}}\n",
       "\n",
       "// Listen for the clearing of the current output cell\n",
       "var outputEl = gd.closest('.output');\n",
       "if (outputEl) {{\n",
       "    x.observe(outputEl, {childList: true});\n",
       "}}\n",
       "\n",
       "                        })                };                });            </script>        </div>"
      ]
     },
     "metadata": {},
     "output_type": "display_data"
    }
   ],
   "source": [
    "fig3 = px.line(data, x=\"Time\",\n",
    "               y=\"Energy Burned\",\n",
    "               title=\"Energy Burned Over Time\")\n",
    "fig3.show()"
   ]
  },
  {
   "cell_type": "markdown",
   "id": "023d5eff",
   "metadata": {},
   "source": [
    "# Walking Speed Over Time :"
   ]
  },
  {
   "cell_type": "code",
   "execution_count": 30,
   "id": "0e758907",
   "metadata": {},
   "outputs": [
    {
     "data": {
      "application/vnd.plotly.v1+json": {
       "config": {
        "plotlyServerURL": "https://plot.ly"
       },
       "data": [
        {
         "hovertemplate": "Time=%{x}<br>Walking Speed=%{y}<extra></extra>",
         "legendgroup": "",
         "line": {
          "color": "#636efa",
          "dash": "solid"
         },
         "marker": {
          "symbol": "circle"
         },
         "mode": "lines",
         "name": "",
         "orientation": "v",
         "showlegend": false,
         "type": "scatter",
         "x": [
          "16:01:23 ",
          "16:18:37 ",
          "16:31:38 ",
          "16:45:37 ",
          "17:10:30 ",
          "18:14:45 ",
          "19:02:31 ",
          "19:10:51 ",
          "19:20:57 ",
          "21:04:23 ",
          "21:25:23 ",
          "00:32:15 ",
          "01:20:54 ",
          "08:22:57 ",
          "10:34:49 ",
          "10:52:38 ",
          "13:04:47 ",
          "13:42:14 ",
          "13:42:14 ",
          "13:55:27 ",
          "14:14:39 ",
          "14:52:20 ",
          "14:57:40 ",
          "15:15:35 ",
          "15:23:52 ",
          "15:40:24 ",
          "15:45:00 ",
          "16:13:03 ",
          "16:59:35 ",
          "17:06:48 ",
          "17:17:33 ",
          "17:27:35 ",
          "18:02:17 ",
          "18:11:29 ",
          "18:19:35 ",
          "18:29:34 ",
          "19:00:43 ",
          "19:07:33 ",
          "19:15:01 ",
          "19:25:32 ",
          "23:29:50 ",
          "09:15:52 ",
          "16:51:23 ",
          "17:01:33 ",
          "17:23:21 ",
          "19:00:57 ",
          "20:11:46 ",
          "20:52:19 ",
          "22:53:29 ",
          "14:20:45 ",
          "16:26:41 ",
          "16:51:38 ",
          "19:02:12 ",
          "20:11:48 ",
          "22:12:26 ",
          "13:11:57 ",
          "15:14:00 ",
          "15:38:12 ",
          "17:08:09 ",
          "18:46:46 ",
          "18:58:27 ",
          "19:10:59 ",
          "19:27:00 ",
          "23:24:27 ",
          "07:07:48 ",
          "15:53:25 ",
          "16:08:01 ",
          "17:24:18 ",
          "19:12:48 ",
          "19:28:30 ",
          "21:10:46 ",
          "21:23:31 ",
          "21:34:56 ",
          "22:16:26 ",
          "23:19:50 ",
          "08:58:35 ",
          "13:27:30 ",
          "13:48:15 ",
          "14:10:38 ",
          "18:32:19 ",
          "18:42:59 ",
          "20:36:57 ",
          "21:23:57 ",
          "11:44:10 ",
          "11:52:21 ",
          "19:44:18 ",
          "20:15:46 ",
          "20:30:22 ",
          "21:03:51 ",
          "22:59:31 ",
          "22:59:35 ",
          "22:59:36 ",
          "22:59:46 ",
          "22:59:49 ",
          "23:10:35 ",
          "01:13:15 ",
          "01:31:53 ",
          "09:22:39 ",
          "13:11:20 ",
          "13:21:19 ",
          "13:31:19 ",
          "13:43:01 ",
          "14:05:27 ",
          "17:48:37 ",
          "17:58:50 ",
          "18:08:49 ",
          "19:09:25 ",
          "19:26:54 ",
          "19:37:06 ",
          "19:47:06 ",
          "19:57:23 ",
          "20:07:33 ",
          "21:14:20 ",
          "21:58:14 ",
          "12:22:40 ",
          "14:12:11 ",
          "17:09:16 ",
          "18:17:50 ",
          "19:40:16 ",
          "19:43:17 ",
          "20:19:18 ",
          "20:29:18 ",
          "20:42:52 ",
          "23:06:23 ",
          "23:21:50 ",
          "14:47:58 ",
          "15:27:44 ",
          "16:55:16 ",
          "16:58:56 ",
          "17:13:05 ",
          "17:27:34 ",
          "17:44:36 ",
          "17:55:55 ",
          "18:11:50 ",
          "18:23:45 ",
          "18:34:38 ",
          "23:05:40 ",
          "00:08:20 ",
          "08:45:13 ",
          "10:26:24 ",
          "11:00:51 ",
          "12:57:00 ",
          "14:24:46 ",
          "15:05:42 ",
          "16:04:23 ",
          "16:33:18 ",
          "16:49:49 ",
          "17:09:06 ",
          "17:47:07 "
         ],
         "xaxis": "x",
         "y": [
          3.06,
          3.852,
          3.996,
          5.04,
          5.184,
          5.04,
          4.464,
          4.788,
          4.068,
          3.816,
          4.572,
          4.896,
          1.728,
          5.148,
          4.968,
          5.184,
          4.572,
          3.456,
          2.304,
          2.376,
          2.016,
          4.968,
          4.392,
          4.644,
          1.692,
          3.528,
          4.104,
          3.708,
          4.068,
          4.14,
          3.708,
          3.168,
          2.268,
          3.348,
          3.492,
          3.348,
          2.88,
          2.7,
          2.844,
          3.276,
          2.16,
          3.348,
          3.528,
          4.212,
          4.212,
          3.6,
          3.744,
          3.42,
          4.032,
          4.428,
          4.356,
          4.104,
          4.14,
          3.816,
          2.772,
          2.628,
          3.456,
          3.42,
          3.816,
          3.24,
          3.384,
          2.124,
          5.004,
          4.608,
          5.148,
          2.628,
          2.592,
          2.34,
          2.052,
          2.448,
          3.132,
          3.204,
          2.592,
          3.888,
          4.464,
          4.752,
          3.924,
          2.988,
          2.88,
          5.4,
          5.292,
          5.364,
          5.004,
          4.788,
          4.824,
          3.708,
          4.824,
          5.004,
          5.04,
          4.86,
          5.076,
          5.22,
          5.148,
          5.004,
          5.328,
          5.076,
          5.148,
          5.004,
          3.42,
          1.8,
          2.016,
          2.016,
          4.86,
          5.112,
          5.04,
          4.176,
          3.06,
          3.312,
          5.58,
          5.472,
          5.22,
          5.328,
          3.852,
          4.968,
          4.572,
          4.464,
          5.076,
          5.076,
          3.564,
          4.68,
          4.428,
          4.536,
          4.212,
          3.852,
          4.32,
          4.536,
          4.284,
          4.212,
          4.644,
          3.924,
          1.944,
          1.548,
          1.8,
          3.312,
          3.528,
          3.456,
          4.428,
          4.788,
          3.312,
          4.608,
          4.536,
          1.836,
          3.492,
          5.436,
          5.364,
          5.4,
          5.292,
          4.86,
          5.04
         ],
         "yaxis": "y"
        }
       ],
       "layout": {
        "legend": {
         "tracegroupgap": 0
        },
        "template": {
         "data": {
          "bar": [
           {
            "error_x": {
             "color": "#2a3f5f"
            },
            "error_y": {
             "color": "#2a3f5f"
            },
            "marker": {
             "line": {
              "color": "white",
              "width": 0.5
             },
             "pattern": {
              "fillmode": "overlay",
              "size": 10,
              "solidity": 0.2
             }
            },
            "type": "bar"
           }
          ],
          "barpolar": [
           {
            "marker": {
             "line": {
              "color": "white",
              "width": 0.5
             },
             "pattern": {
              "fillmode": "overlay",
              "size": 10,
              "solidity": 0.2
             }
            },
            "type": "barpolar"
           }
          ],
          "carpet": [
           {
            "aaxis": {
             "endlinecolor": "#2a3f5f",
             "gridcolor": "#C8D4E3",
             "linecolor": "#C8D4E3",
             "minorgridcolor": "#C8D4E3",
             "startlinecolor": "#2a3f5f"
            },
            "baxis": {
             "endlinecolor": "#2a3f5f",
             "gridcolor": "#C8D4E3",
             "linecolor": "#C8D4E3",
             "minorgridcolor": "#C8D4E3",
             "startlinecolor": "#2a3f5f"
            },
            "type": "carpet"
           }
          ],
          "choropleth": [
           {
            "colorbar": {
             "outlinewidth": 0,
             "ticks": ""
            },
            "type": "choropleth"
           }
          ],
          "contour": [
           {
            "colorbar": {
             "outlinewidth": 0,
             "ticks": ""
            },
            "colorscale": [
             [
              0,
              "#0d0887"
             ],
             [
              0.1111111111111111,
              "#46039f"
             ],
             [
              0.2222222222222222,
              "#7201a8"
             ],
             [
              0.3333333333333333,
              "#9c179e"
             ],
             [
              0.4444444444444444,
              "#bd3786"
             ],
             [
              0.5555555555555556,
              "#d8576b"
             ],
             [
              0.6666666666666666,
              "#ed7953"
             ],
             [
              0.7777777777777778,
              "#fb9f3a"
             ],
             [
              0.8888888888888888,
              "#fdca26"
             ],
             [
              1,
              "#f0f921"
             ]
            ],
            "type": "contour"
           }
          ],
          "contourcarpet": [
           {
            "colorbar": {
             "outlinewidth": 0,
             "ticks": ""
            },
            "type": "contourcarpet"
           }
          ],
          "heatmap": [
           {
            "colorbar": {
             "outlinewidth": 0,
             "ticks": ""
            },
            "colorscale": [
             [
              0,
              "#0d0887"
             ],
             [
              0.1111111111111111,
              "#46039f"
             ],
             [
              0.2222222222222222,
              "#7201a8"
             ],
             [
              0.3333333333333333,
              "#9c179e"
             ],
             [
              0.4444444444444444,
              "#bd3786"
             ],
             [
              0.5555555555555556,
              "#d8576b"
             ],
             [
              0.6666666666666666,
              "#ed7953"
             ],
             [
              0.7777777777777778,
              "#fb9f3a"
             ],
             [
              0.8888888888888888,
              "#fdca26"
             ],
             [
              1,
              "#f0f921"
             ]
            ],
            "type": "heatmap"
           }
          ],
          "heatmapgl": [
           {
            "colorbar": {
             "outlinewidth": 0,
             "ticks": ""
            },
            "colorscale": [
             [
              0,
              "#0d0887"
             ],
             [
              0.1111111111111111,
              "#46039f"
             ],
             [
              0.2222222222222222,
              "#7201a8"
             ],
             [
              0.3333333333333333,
              "#9c179e"
             ],
             [
              0.4444444444444444,
              "#bd3786"
             ],
             [
              0.5555555555555556,
              "#d8576b"
             ],
             [
              0.6666666666666666,
              "#ed7953"
             ],
             [
              0.7777777777777778,
              "#fb9f3a"
             ],
             [
              0.8888888888888888,
              "#fdca26"
             ],
             [
              1,
              "#f0f921"
             ]
            ],
            "type": "heatmapgl"
           }
          ],
          "histogram": [
           {
            "marker": {
             "pattern": {
              "fillmode": "overlay",
              "size": 10,
              "solidity": 0.2
             }
            },
            "type": "histogram"
           }
          ],
          "histogram2d": [
           {
            "colorbar": {
             "outlinewidth": 0,
             "ticks": ""
            },
            "colorscale": [
             [
              0,
              "#0d0887"
             ],
             [
              0.1111111111111111,
              "#46039f"
             ],
             [
              0.2222222222222222,
              "#7201a8"
             ],
             [
              0.3333333333333333,
              "#9c179e"
             ],
             [
              0.4444444444444444,
              "#bd3786"
             ],
             [
              0.5555555555555556,
              "#d8576b"
             ],
             [
              0.6666666666666666,
              "#ed7953"
             ],
             [
              0.7777777777777778,
              "#fb9f3a"
             ],
             [
              0.8888888888888888,
              "#fdca26"
             ],
             [
              1,
              "#f0f921"
             ]
            ],
            "type": "histogram2d"
           }
          ],
          "histogram2dcontour": [
           {
            "colorbar": {
             "outlinewidth": 0,
             "ticks": ""
            },
            "colorscale": [
             [
              0,
              "#0d0887"
             ],
             [
              0.1111111111111111,
              "#46039f"
             ],
             [
              0.2222222222222222,
              "#7201a8"
             ],
             [
              0.3333333333333333,
              "#9c179e"
             ],
             [
              0.4444444444444444,
              "#bd3786"
             ],
             [
              0.5555555555555556,
              "#d8576b"
             ],
             [
              0.6666666666666666,
              "#ed7953"
             ],
             [
              0.7777777777777778,
              "#fb9f3a"
             ],
             [
              0.8888888888888888,
              "#fdca26"
             ],
             [
              1,
              "#f0f921"
             ]
            ],
            "type": "histogram2dcontour"
           }
          ],
          "mesh3d": [
           {
            "colorbar": {
             "outlinewidth": 0,
             "ticks": ""
            },
            "type": "mesh3d"
           }
          ],
          "parcoords": [
           {
            "line": {
             "colorbar": {
              "outlinewidth": 0,
              "ticks": ""
             }
            },
            "type": "parcoords"
           }
          ],
          "pie": [
           {
            "automargin": true,
            "type": "pie"
           }
          ],
          "scatter": [
           {
            "fillpattern": {
             "fillmode": "overlay",
             "size": 10,
             "solidity": 0.2
            },
            "type": "scatter"
           }
          ],
          "scatter3d": [
           {
            "line": {
             "colorbar": {
              "outlinewidth": 0,
              "ticks": ""
             }
            },
            "marker": {
             "colorbar": {
              "outlinewidth": 0,
              "ticks": ""
             }
            },
            "type": "scatter3d"
           }
          ],
          "scattercarpet": [
           {
            "marker": {
             "colorbar": {
              "outlinewidth": 0,
              "ticks": ""
             }
            },
            "type": "scattercarpet"
           }
          ],
          "scattergeo": [
           {
            "marker": {
             "colorbar": {
              "outlinewidth": 0,
              "ticks": ""
             }
            },
            "type": "scattergeo"
           }
          ],
          "scattergl": [
           {
            "marker": {
             "colorbar": {
              "outlinewidth": 0,
              "ticks": ""
             }
            },
            "type": "scattergl"
           }
          ],
          "scattermapbox": [
           {
            "marker": {
             "colorbar": {
              "outlinewidth": 0,
              "ticks": ""
             }
            },
            "type": "scattermapbox"
           }
          ],
          "scatterpolar": [
           {
            "marker": {
             "colorbar": {
              "outlinewidth": 0,
              "ticks": ""
             }
            },
            "type": "scatterpolar"
           }
          ],
          "scatterpolargl": [
           {
            "marker": {
             "colorbar": {
              "outlinewidth": 0,
              "ticks": ""
             }
            },
            "type": "scatterpolargl"
           }
          ],
          "scatterternary": [
           {
            "marker": {
             "colorbar": {
              "outlinewidth": 0,
              "ticks": ""
             }
            },
            "type": "scatterternary"
           }
          ],
          "surface": [
           {
            "colorbar": {
             "outlinewidth": 0,
             "ticks": ""
            },
            "colorscale": [
             [
              0,
              "#0d0887"
             ],
             [
              0.1111111111111111,
              "#46039f"
             ],
             [
              0.2222222222222222,
              "#7201a8"
             ],
             [
              0.3333333333333333,
              "#9c179e"
             ],
             [
              0.4444444444444444,
              "#bd3786"
             ],
             [
              0.5555555555555556,
              "#d8576b"
             ],
             [
              0.6666666666666666,
              "#ed7953"
             ],
             [
              0.7777777777777778,
              "#fb9f3a"
             ],
             [
              0.8888888888888888,
              "#fdca26"
             ],
             [
              1,
              "#f0f921"
             ]
            ],
            "type": "surface"
           }
          ],
          "table": [
           {
            "cells": {
             "fill": {
              "color": "#EBF0F8"
             },
             "line": {
              "color": "white"
             }
            },
            "header": {
             "fill": {
              "color": "#C8D4E3"
             },
             "line": {
              "color": "white"
             }
            },
            "type": "table"
           }
          ]
         },
         "layout": {
          "annotationdefaults": {
           "arrowcolor": "#2a3f5f",
           "arrowhead": 0,
           "arrowwidth": 1
          },
          "autotypenumbers": "strict",
          "coloraxis": {
           "colorbar": {
            "outlinewidth": 0,
            "ticks": ""
           }
          },
          "colorscale": {
           "diverging": [
            [
             0,
             "#8e0152"
            ],
            [
             0.1,
             "#c51b7d"
            ],
            [
             0.2,
             "#de77ae"
            ],
            [
             0.3,
             "#f1b6da"
            ],
            [
             0.4,
             "#fde0ef"
            ],
            [
             0.5,
             "#f7f7f7"
            ],
            [
             0.6,
             "#e6f5d0"
            ],
            [
             0.7,
             "#b8e186"
            ],
            [
             0.8,
             "#7fbc41"
            ],
            [
             0.9,
             "#4d9221"
            ],
            [
             1,
             "#276419"
            ]
           ],
           "sequential": [
            [
             0,
             "#0d0887"
            ],
            [
             0.1111111111111111,
             "#46039f"
            ],
            [
             0.2222222222222222,
             "#7201a8"
            ],
            [
             0.3333333333333333,
             "#9c179e"
            ],
            [
             0.4444444444444444,
             "#bd3786"
            ],
            [
             0.5555555555555556,
             "#d8576b"
            ],
            [
             0.6666666666666666,
             "#ed7953"
            ],
            [
             0.7777777777777778,
             "#fb9f3a"
            ],
            [
             0.8888888888888888,
             "#fdca26"
            ],
            [
             1,
             "#f0f921"
            ]
           ],
           "sequentialminus": [
            [
             0,
             "#0d0887"
            ],
            [
             0.1111111111111111,
             "#46039f"
            ],
            [
             0.2222222222222222,
             "#7201a8"
            ],
            [
             0.3333333333333333,
             "#9c179e"
            ],
            [
             0.4444444444444444,
             "#bd3786"
            ],
            [
             0.5555555555555556,
             "#d8576b"
            ],
            [
             0.6666666666666666,
             "#ed7953"
            ],
            [
             0.7777777777777778,
             "#fb9f3a"
            ],
            [
             0.8888888888888888,
             "#fdca26"
            ],
            [
             1,
             "#f0f921"
            ]
           ]
          },
          "colorway": [
           "#636efa",
           "#EF553B",
           "#00cc96",
           "#ab63fa",
           "#FFA15A",
           "#19d3f3",
           "#FF6692",
           "#B6E880",
           "#FF97FF",
           "#FECB52"
          ],
          "font": {
           "color": "#2a3f5f"
          },
          "geo": {
           "bgcolor": "white",
           "lakecolor": "white",
           "landcolor": "white",
           "showlakes": true,
           "showland": true,
           "subunitcolor": "#C8D4E3"
          },
          "hoverlabel": {
           "align": "left"
          },
          "hovermode": "closest",
          "mapbox": {
           "style": "light"
          },
          "paper_bgcolor": "white",
          "plot_bgcolor": "white",
          "polar": {
           "angularaxis": {
            "gridcolor": "#EBF0F8",
            "linecolor": "#EBF0F8",
            "ticks": ""
           },
           "bgcolor": "white",
           "radialaxis": {
            "gridcolor": "#EBF0F8",
            "linecolor": "#EBF0F8",
            "ticks": ""
           }
          },
          "scene": {
           "xaxis": {
            "backgroundcolor": "white",
            "gridcolor": "#DFE8F3",
            "gridwidth": 2,
            "linecolor": "#EBF0F8",
            "showbackground": true,
            "ticks": "",
            "zerolinecolor": "#EBF0F8"
           },
           "yaxis": {
            "backgroundcolor": "white",
            "gridcolor": "#DFE8F3",
            "gridwidth": 2,
            "linecolor": "#EBF0F8",
            "showbackground": true,
            "ticks": "",
            "zerolinecolor": "#EBF0F8"
           },
           "zaxis": {
            "backgroundcolor": "white",
            "gridcolor": "#DFE8F3",
            "gridwidth": 2,
            "linecolor": "#EBF0F8",
            "showbackground": true,
            "ticks": "",
            "zerolinecolor": "#EBF0F8"
           }
          },
          "shapedefaults": {
           "line": {
            "color": "#2a3f5f"
           }
          },
          "ternary": {
           "aaxis": {
            "gridcolor": "#DFE8F3",
            "linecolor": "#A2B1C6",
            "ticks": ""
           },
           "baxis": {
            "gridcolor": "#DFE8F3",
            "linecolor": "#A2B1C6",
            "ticks": ""
           },
           "bgcolor": "white",
           "caxis": {
            "gridcolor": "#DFE8F3",
            "linecolor": "#A2B1C6",
            "ticks": ""
           }
          },
          "title": {
           "x": 0.05
          },
          "xaxis": {
           "automargin": true,
           "gridcolor": "#EBF0F8",
           "linecolor": "#EBF0F8",
           "ticks": "",
           "title": {
            "standoff": 15
           },
           "zerolinecolor": "#EBF0F8",
           "zerolinewidth": 2
          },
          "yaxis": {
           "automargin": true,
           "gridcolor": "#EBF0F8",
           "linecolor": "#EBF0F8",
           "ticks": "",
           "title": {
            "standoff": 15
           },
           "zerolinecolor": "#EBF0F8",
           "zerolinewidth": 2
          }
         }
        },
        "title": {
         "text": "Walking Speed Over Time"
        },
        "xaxis": {
         "anchor": "y",
         "domain": [
          0,
          1
         ],
         "title": {
          "text": "Time"
         }
        },
        "yaxis": {
         "anchor": "x",
         "domain": [
          0,
          1
         ],
         "title": {
          "text": "Walking Speed"
         }
        }
       }
      },
      "text/html": [
       "<div>                            <div id=\"77baa94f-1e28-46d8-83ab-fa57631289b9\" class=\"plotly-graph-div\" style=\"height:525px; width:100%;\"></div>            <script type=\"text/javascript\">                require([\"plotly\"], function(Plotly) {                    window.PLOTLYENV=window.PLOTLYENV || {};                                    if (document.getElementById(\"77baa94f-1e28-46d8-83ab-fa57631289b9\")) {                    Plotly.newPlot(                        \"77baa94f-1e28-46d8-83ab-fa57631289b9\",                        [{\"hovertemplate\":\"Time=%{x}<br>Walking Speed=%{y}<extra></extra>\",\"legendgroup\":\"\",\"line\":{\"color\":\"#636efa\",\"dash\":\"solid\"},\"marker\":{\"symbol\":\"circle\"},\"mode\":\"lines\",\"name\":\"\",\"orientation\":\"v\",\"showlegend\":false,\"x\":[\"16:01:23 \",\"16:18:37 \",\"16:31:38 \",\"16:45:37 \",\"17:10:30 \",\"18:14:45 \",\"19:02:31 \",\"19:10:51 \",\"19:20:57 \",\"21:04:23 \",\"21:25:23 \",\"00:32:15 \",\"01:20:54 \",\"08:22:57 \",\"10:34:49 \",\"10:52:38 \",\"13:04:47 \",\"13:42:14 \",\"13:42:14 \",\"13:55:27 \",\"14:14:39 \",\"14:52:20 \",\"14:57:40 \",\"15:15:35 \",\"15:23:52 \",\"15:40:24 \",\"15:45:00 \",\"16:13:03 \",\"16:59:35 \",\"17:06:48 \",\"17:17:33 \",\"17:27:35 \",\"18:02:17 \",\"18:11:29 \",\"18:19:35 \",\"18:29:34 \",\"19:00:43 \",\"19:07:33 \",\"19:15:01 \",\"19:25:32 \",\"23:29:50 \",\"09:15:52 \",\"16:51:23 \",\"17:01:33 \",\"17:23:21 \",\"19:00:57 \",\"20:11:46 \",\"20:52:19 \",\"22:53:29 \",\"14:20:45 \",\"16:26:41 \",\"16:51:38 \",\"19:02:12 \",\"20:11:48 \",\"22:12:26 \",\"13:11:57 \",\"15:14:00 \",\"15:38:12 \",\"17:08:09 \",\"18:46:46 \",\"18:58:27 \",\"19:10:59 \",\"19:27:00 \",\"23:24:27 \",\"07:07:48 \",\"15:53:25 \",\"16:08:01 \",\"17:24:18 \",\"19:12:48 \",\"19:28:30 \",\"21:10:46 \",\"21:23:31 \",\"21:34:56 \",\"22:16:26 \",\"23:19:50 \",\"08:58:35 \",\"13:27:30 \",\"13:48:15 \",\"14:10:38 \",\"18:32:19 \",\"18:42:59 \",\"20:36:57 \",\"21:23:57 \",\"11:44:10 \",\"11:52:21 \",\"19:44:18 \",\"20:15:46 \",\"20:30:22 \",\"21:03:51 \",\"22:59:31 \",\"22:59:35 \",\"22:59:36 \",\"22:59:46 \",\"22:59:49 \",\"23:10:35 \",\"01:13:15 \",\"01:31:53 \",\"09:22:39 \",\"13:11:20 \",\"13:21:19 \",\"13:31:19 \",\"13:43:01 \",\"14:05:27 \",\"17:48:37 \",\"17:58:50 \",\"18:08:49 \",\"19:09:25 \",\"19:26:54 \",\"19:37:06 \",\"19:47:06 \",\"19:57:23 \",\"20:07:33 \",\"21:14:20 \",\"21:58:14 \",\"12:22:40 \",\"14:12:11 \",\"17:09:16 \",\"18:17:50 \",\"19:40:16 \",\"19:43:17 \",\"20:19:18 \",\"20:29:18 \",\"20:42:52 \",\"23:06:23 \",\"23:21:50 \",\"14:47:58 \",\"15:27:44 \",\"16:55:16 \",\"16:58:56 \",\"17:13:05 \",\"17:27:34 \",\"17:44:36 \",\"17:55:55 \",\"18:11:50 \",\"18:23:45 \",\"18:34:38 \",\"23:05:40 \",\"00:08:20 \",\"08:45:13 \",\"10:26:24 \",\"11:00:51 \",\"12:57:00 \",\"14:24:46 \",\"15:05:42 \",\"16:04:23 \",\"16:33:18 \",\"16:49:49 \",\"17:09:06 \",\"17:47:07 \"],\"xaxis\":\"x\",\"y\":[3.06,3.852,3.996,5.04,5.184,5.04,4.464,4.788,4.068,3.816,4.572,4.896,1.728,5.148,4.968,5.184,4.572,3.456,2.304,2.376,2.016,4.968,4.392,4.644,1.692,3.528,4.104,3.708,4.068,4.14,3.708,3.168,2.268,3.348,3.492,3.348,2.88,2.7,2.844,3.276,2.16,3.348,3.528,4.212,4.212,3.6,3.744,3.42,4.032,4.428,4.356,4.104,4.14,3.816,2.772,2.628,3.456,3.42,3.816,3.24,3.384,2.124,5.004,4.608,5.148,2.628,2.592,2.34,2.052,2.448,3.132,3.204,2.592,3.888,4.464,4.752,3.924,2.988,2.88,5.4,5.292,5.364,5.004,4.788,4.824,3.708,4.824,5.004,5.04,4.86,5.076,5.22,5.148,5.004,5.328,5.076,5.148,5.004,3.42,1.8,2.016,2.016,4.86,5.112,5.04,4.176,3.06,3.312,5.58,5.472,5.22,5.328,3.852,4.968,4.572,4.464,5.076,5.076,3.564,4.68,4.428,4.536,4.212,3.852,4.32,4.536,4.284,4.212,4.644,3.924,1.944,1.548,1.8,3.312,3.528,3.456,4.428,4.788,3.312,4.608,4.536,1.836,3.492,5.436,5.364,5.4,5.292,4.86,5.04],\"yaxis\":\"y\",\"type\":\"scatter\"}],                        {\"template\":{\"data\":{\"histogram2dcontour\":[{\"type\":\"histogram2dcontour\",\"colorbar\":{\"outlinewidth\":0,\"ticks\":\"\"},\"colorscale\":[[0.0,\"#0d0887\"],[0.1111111111111111,\"#46039f\"],[0.2222222222222222,\"#7201a8\"],[0.3333333333333333,\"#9c179e\"],[0.4444444444444444,\"#bd3786\"],[0.5555555555555556,\"#d8576b\"],[0.6666666666666666,\"#ed7953\"],[0.7777777777777778,\"#fb9f3a\"],[0.8888888888888888,\"#fdca26\"],[1.0,\"#f0f921\"]]}],\"choropleth\":[{\"type\":\"choropleth\",\"colorbar\":{\"outlinewidth\":0,\"ticks\":\"\"}}],\"histogram2d\":[{\"type\":\"histogram2d\",\"colorbar\":{\"outlinewidth\":0,\"ticks\":\"\"},\"colorscale\":[[0.0,\"#0d0887\"],[0.1111111111111111,\"#46039f\"],[0.2222222222222222,\"#7201a8\"],[0.3333333333333333,\"#9c179e\"],[0.4444444444444444,\"#bd3786\"],[0.5555555555555556,\"#d8576b\"],[0.6666666666666666,\"#ed7953\"],[0.7777777777777778,\"#fb9f3a\"],[0.8888888888888888,\"#fdca26\"],[1.0,\"#f0f921\"]]}],\"heatmap\":[{\"type\":\"heatmap\",\"colorbar\":{\"outlinewidth\":0,\"ticks\":\"\"},\"colorscale\":[[0.0,\"#0d0887\"],[0.1111111111111111,\"#46039f\"],[0.2222222222222222,\"#7201a8\"],[0.3333333333333333,\"#9c179e\"],[0.4444444444444444,\"#bd3786\"],[0.5555555555555556,\"#d8576b\"],[0.6666666666666666,\"#ed7953\"],[0.7777777777777778,\"#fb9f3a\"],[0.8888888888888888,\"#fdca26\"],[1.0,\"#f0f921\"]]}],\"heatmapgl\":[{\"type\":\"heatmapgl\",\"colorbar\":{\"outlinewidth\":0,\"ticks\":\"\"},\"colorscale\":[[0.0,\"#0d0887\"],[0.1111111111111111,\"#46039f\"],[0.2222222222222222,\"#7201a8\"],[0.3333333333333333,\"#9c179e\"],[0.4444444444444444,\"#bd3786\"],[0.5555555555555556,\"#d8576b\"],[0.6666666666666666,\"#ed7953\"],[0.7777777777777778,\"#fb9f3a\"],[0.8888888888888888,\"#fdca26\"],[1.0,\"#f0f921\"]]}],\"contourcarpet\":[{\"type\":\"contourcarpet\",\"colorbar\":{\"outlinewidth\":0,\"ticks\":\"\"}}],\"contour\":[{\"type\":\"contour\",\"colorbar\":{\"outlinewidth\":0,\"ticks\":\"\"},\"colorscale\":[[0.0,\"#0d0887\"],[0.1111111111111111,\"#46039f\"],[0.2222222222222222,\"#7201a8\"],[0.3333333333333333,\"#9c179e\"],[0.4444444444444444,\"#bd3786\"],[0.5555555555555556,\"#d8576b\"],[0.6666666666666666,\"#ed7953\"],[0.7777777777777778,\"#fb9f3a\"],[0.8888888888888888,\"#fdca26\"],[1.0,\"#f0f921\"]]}],\"surface\":[{\"type\":\"surface\",\"colorbar\":{\"outlinewidth\":0,\"ticks\":\"\"},\"colorscale\":[[0.0,\"#0d0887\"],[0.1111111111111111,\"#46039f\"],[0.2222222222222222,\"#7201a8\"],[0.3333333333333333,\"#9c179e\"],[0.4444444444444444,\"#bd3786\"],[0.5555555555555556,\"#d8576b\"],[0.6666666666666666,\"#ed7953\"],[0.7777777777777778,\"#fb9f3a\"],[0.8888888888888888,\"#fdca26\"],[1.0,\"#f0f921\"]]}],\"mesh3d\":[{\"type\":\"mesh3d\",\"colorbar\":{\"outlinewidth\":0,\"ticks\":\"\"}}],\"scatter\":[{\"fillpattern\":{\"fillmode\":\"overlay\",\"size\":10,\"solidity\":0.2},\"type\":\"scatter\"}],\"parcoords\":[{\"type\":\"parcoords\",\"line\":{\"colorbar\":{\"outlinewidth\":0,\"ticks\":\"\"}}}],\"scatterpolargl\":[{\"type\":\"scatterpolargl\",\"marker\":{\"colorbar\":{\"outlinewidth\":0,\"ticks\":\"\"}}}],\"bar\":[{\"error_x\":{\"color\":\"#2a3f5f\"},\"error_y\":{\"color\":\"#2a3f5f\"},\"marker\":{\"line\":{\"color\":\"white\",\"width\":0.5},\"pattern\":{\"fillmode\":\"overlay\",\"size\":10,\"solidity\":0.2}},\"type\":\"bar\"}],\"scattergeo\":[{\"type\":\"scattergeo\",\"marker\":{\"colorbar\":{\"outlinewidth\":0,\"ticks\":\"\"}}}],\"scatterpolar\":[{\"type\":\"scatterpolar\",\"marker\":{\"colorbar\":{\"outlinewidth\":0,\"ticks\":\"\"}}}],\"histogram\":[{\"marker\":{\"pattern\":{\"fillmode\":\"overlay\",\"size\":10,\"solidity\":0.2}},\"type\":\"histogram\"}],\"scattergl\":[{\"type\":\"scattergl\",\"marker\":{\"colorbar\":{\"outlinewidth\":0,\"ticks\":\"\"}}}],\"scatter3d\":[{\"type\":\"scatter3d\",\"line\":{\"colorbar\":{\"outlinewidth\":0,\"ticks\":\"\"}},\"marker\":{\"colorbar\":{\"outlinewidth\":0,\"ticks\":\"\"}}}],\"scattermapbox\":[{\"type\":\"scattermapbox\",\"marker\":{\"colorbar\":{\"outlinewidth\":0,\"ticks\":\"\"}}}],\"scatterternary\":[{\"type\":\"scatterternary\",\"marker\":{\"colorbar\":{\"outlinewidth\":0,\"ticks\":\"\"}}}],\"scattercarpet\":[{\"type\":\"scattercarpet\",\"marker\":{\"colorbar\":{\"outlinewidth\":0,\"ticks\":\"\"}}}],\"carpet\":[{\"aaxis\":{\"endlinecolor\":\"#2a3f5f\",\"gridcolor\":\"#C8D4E3\",\"linecolor\":\"#C8D4E3\",\"minorgridcolor\":\"#C8D4E3\",\"startlinecolor\":\"#2a3f5f\"},\"baxis\":{\"endlinecolor\":\"#2a3f5f\",\"gridcolor\":\"#C8D4E3\",\"linecolor\":\"#C8D4E3\",\"minorgridcolor\":\"#C8D4E3\",\"startlinecolor\":\"#2a3f5f\"},\"type\":\"carpet\"}],\"table\":[{\"cells\":{\"fill\":{\"color\":\"#EBF0F8\"},\"line\":{\"color\":\"white\"}},\"header\":{\"fill\":{\"color\":\"#C8D4E3\"},\"line\":{\"color\":\"white\"}},\"type\":\"table\"}],\"barpolar\":[{\"marker\":{\"line\":{\"color\":\"white\",\"width\":0.5},\"pattern\":{\"fillmode\":\"overlay\",\"size\":10,\"solidity\":0.2}},\"type\":\"barpolar\"}],\"pie\":[{\"automargin\":true,\"type\":\"pie\"}]},\"layout\":{\"autotypenumbers\":\"strict\",\"colorway\":[\"#636efa\",\"#EF553B\",\"#00cc96\",\"#ab63fa\",\"#FFA15A\",\"#19d3f3\",\"#FF6692\",\"#B6E880\",\"#FF97FF\",\"#FECB52\"],\"font\":{\"color\":\"#2a3f5f\"},\"hovermode\":\"closest\",\"hoverlabel\":{\"align\":\"left\"},\"paper_bgcolor\":\"white\",\"plot_bgcolor\":\"white\",\"polar\":{\"bgcolor\":\"white\",\"angularaxis\":{\"gridcolor\":\"#EBF0F8\",\"linecolor\":\"#EBF0F8\",\"ticks\":\"\"},\"radialaxis\":{\"gridcolor\":\"#EBF0F8\",\"linecolor\":\"#EBF0F8\",\"ticks\":\"\"}},\"ternary\":{\"bgcolor\":\"white\",\"aaxis\":{\"gridcolor\":\"#DFE8F3\",\"linecolor\":\"#A2B1C6\",\"ticks\":\"\"},\"baxis\":{\"gridcolor\":\"#DFE8F3\",\"linecolor\":\"#A2B1C6\",\"ticks\":\"\"},\"caxis\":{\"gridcolor\":\"#DFE8F3\",\"linecolor\":\"#A2B1C6\",\"ticks\":\"\"}},\"coloraxis\":{\"colorbar\":{\"outlinewidth\":0,\"ticks\":\"\"}},\"colorscale\":{\"sequential\":[[0.0,\"#0d0887\"],[0.1111111111111111,\"#46039f\"],[0.2222222222222222,\"#7201a8\"],[0.3333333333333333,\"#9c179e\"],[0.4444444444444444,\"#bd3786\"],[0.5555555555555556,\"#d8576b\"],[0.6666666666666666,\"#ed7953\"],[0.7777777777777778,\"#fb9f3a\"],[0.8888888888888888,\"#fdca26\"],[1.0,\"#f0f921\"]],\"sequentialminus\":[[0.0,\"#0d0887\"],[0.1111111111111111,\"#46039f\"],[0.2222222222222222,\"#7201a8\"],[0.3333333333333333,\"#9c179e\"],[0.4444444444444444,\"#bd3786\"],[0.5555555555555556,\"#d8576b\"],[0.6666666666666666,\"#ed7953\"],[0.7777777777777778,\"#fb9f3a\"],[0.8888888888888888,\"#fdca26\"],[1.0,\"#f0f921\"]],\"diverging\":[[0,\"#8e0152\"],[0.1,\"#c51b7d\"],[0.2,\"#de77ae\"],[0.3,\"#f1b6da\"],[0.4,\"#fde0ef\"],[0.5,\"#f7f7f7\"],[0.6,\"#e6f5d0\"],[0.7,\"#b8e186\"],[0.8,\"#7fbc41\"],[0.9,\"#4d9221\"],[1,\"#276419\"]]},\"xaxis\":{\"gridcolor\":\"#EBF0F8\",\"linecolor\":\"#EBF0F8\",\"ticks\":\"\",\"title\":{\"standoff\":15},\"zerolinecolor\":\"#EBF0F8\",\"automargin\":true,\"zerolinewidth\":2},\"yaxis\":{\"gridcolor\":\"#EBF0F8\",\"linecolor\":\"#EBF0F8\",\"ticks\":\"\",\"title\":{\"standoff\":15},\"zerolinecolor\":\"#EBF0F8\",\"automargin\":true,\"zerolinewidth\":2},\"scene\":{\"xaxis\":{\"backgroundcolor\":\"white\",\"gridcolor\":\"#DFE8F3\",\"linecolor\":\"#EBF0F8\",\"showbackground\":true,\"ticks\":\"\",\"zerolinecolor\":\"#EBF0F8\",\"gridwidth\":2},\"yaxis\":{\"backgroundcolor\":\"white\",\"gridcolor\":\"#DFE8F3\",\"linecolor\":\"#EBF0F8\",\"showbackground\":true,\"ticks\":\"\",\"zerolinecolor\":\"#EBF0F8\",\"gridwidth\":2},\"zaxis\":{\"backgroundcolor\":\"white\",\"gridcolor\":\"#DFE8F3\",\"linecolor\":\"#EBF0F8\",\"showbackground\":true,\"ticks\":\"\",\"zerolinecolor\":\"#EBF0F8\",\"gridwidth\":2}},\"shapedefaults\":{\"line\":{\"color\":\"#2a3f5f\"}},\"annotationdefaults\":{\"arrowcolor\":\"#2a3f5f\",\"arrowhead\":0,\"arrowwidth\":1},\"geo\":{\"bgcolor\":\"white\",\"landcolor\":\"white\",\"subunitcolor\":\"#C8D4E3\",\"showland\":true,\"showlakes\":true,\"lakecolor\":\"white\"},\"title\":{\"x\":0.05},\"mapbox\":{\"style\":\"light\"}}},\"xaxis\":{\"anchor\":\"y\",\"domain\":[0.0,1.0],\"title\":{\"text\":\"Time\"}},\"yaxis\":{\"anchor\":\"x\",\"domain\":[0.0,1.0],\"title\":{\"text\":\"Walking Speed\"}},\"legend\":{\"tracegroupgap\":0},\"title\":{\"text\":\"Walking Speed Over Time\"}},                        {\"responsive\": true}                    ).then(function(){\n",
       "                            \n",
       "var gd = document.getElementById('77baa94f-1e28-46d8-83ab-fa57631289b9');\n",
       "var x = new MutationObserver(function (mutations, observer) {{\n",
       "        var display = window.getComputedStyle(gd).display;\n",
       "        if (!display || display === 'none') {{\n",
       "            console.log([gd, 'removed!']);\n",
       "            Plotly.purge(gd);\n",
       "            observer.disconnect();\n",
       "        }}\n",
       "}});\n",
       "\n",
       "// Listen for the removal of the full notebook cells\n",
       "var notebookContainer = gd.closest('#notebook-container');\n",
       "if (notebookContainer) {{\n",
       "    x.observe(notebookContainer, {childList: true});\n",
       "}}\n",
       "\n",
       "// Listen for the clearing of the current output cell\n",
       "var outputEl = gd.closest('.output');\n",
       "if (outputEl) {{\n",
       "    x.observe(outputEl, {childList: true});\n",
       "}}\n",
       "\n",
       "                        })                };                });            </script>        </div>"
      ]
     },
     "metadata": {},
     "output_type": "display_data"
    }
   ],
   "source": [
    "fig4 = px.line(data, x=\"Time\",\n",
    "               y=\"Walking Speed\",\n",
    "               title=\"Walking Speed Over Time\")\n",
    "fig4.show()"
   ]
  },
  {
   "cell_type": "markdown",
   "id": "67eea3be",
   "metadata": {},
   "source": [
    "# Calculate Average Step Count per Day : "
   ]
  },
  {
   "cell_type": "code",
   "execution_count": 32,
   "id": "d2323226",
   "metadata": {},
   "outputs": [
    {
     "data": {
      "text/html": [
       "<div>\n",
       "<style scoped>\n",
       "    .dataframe tbody tr th:only-of-type {\n",
       "        vertical-align: middle;\n",
       "    }\n",
       "\n",
       "    .dataframe tbody tr th {\n",
       "        vertical-align: top;\n",
       "    }\n",
       "\n",
       "    .dataframe thead th {\n",
       "        text-align: right;\n",
       "    }\n",
       "</style>\n",
       "<table border=\"1\" class=\"dataframe\">\n",
       "  <thead>\n",
       "    <tr style=\"text-align: right;\">\n",
       "      <th></th>\n",
       "      <th>Date</th>\n",
       "      <th>Time</th>\n",
       "      <th>Step Count</th>\n",
       "      <th>Distance</th>\n",
       "      <th>Energy Burned</th>\n",
       "      <th>Flights Climbed</th>\n",
       "      <th>Walking Double Support Percentage</th>\n",
       "      <th>Walking Speed</th>\n",
       "    </tr>\n",
       "  </thead>\n",
       "  <tbody>\n",
       "    <tr>\n",
       "      <th>0</th>\n",
       "      <td>2023-03-21</td>\n",
       "      <td>16:01:23</td>\n",
       "      <td>46</td>\n",
       "      <td>0.02543</td>\n",
       "      <td>14.620</td>\n",
       "      <td>3</td>\n",
       "      <td>0.304</td>\n",
       "      <td>3.060</td>\n",
       "    </tr>\n",
       "    <tr>\n",
       "      <th>1</th>\n",
       "      <td>2023-03-21</td>\n",
       "      <td>16:18:37</td>\n",
       "      <td>645</td>\n",
       "      <td>0.40041</td>\n",
       "      <td>14.722</td>\n",
       "      <td>3</td>\n",
       "      <td>0.309</td>\n",
       "      <td>3.852</td>\n",
       "    </tr>\n",
       "    <tr>\n",
       "      <th>2</th>\n",
       "      <td>2023-03-21</td>\n",
       "      <td>16:31:38</td>\n",
       "      <td>14</td>\n",
       "      <td>0.00996</td>\n",
       "      <td>14.603</td>\n",
       "      <td>4</td>\n",
       "      <td>0.278</td>\n",
       "      <td>3.996</td>\n",
       "    </tr>\n",
       "    <tr>\n",
       "      <th>3</th>\n",
       "      <td>2023-03-21</td>\n",
       "      <td>16:45:37</td>\n",
       "      <td>13</td>\n",
       "      <td>0.00901</td>\n",
       "      <td>14.811</td>\n",
       "      <td>3</td>\n",
       "      <td>0.278</td>\n",
       "      <td>5.040</td>\n",
       "    </tr>\n",
       "    <tr>\n",
       "      <th>4</th>\n",
       "      <td>2023-03-21</td>\n",
       "      <td>17:10:30</td>\n",
       "      <td>17</td>\n",
       "      <td>0.00904</td>\n",
       "      <td>15.153</td>\n",
       "      <td>3</td>\n",
       "      <td>0.281</td>\n",
       "      <td>5.184</td>\n",
       "    </tr>\n",
       "  </tbody>\n",
       "</table>\n",
       "</div>"
      ],
      "text/plain": [
       "         Date       Time  Step Count  Distance  Energy Burned  \\\n",
       "0  2023-03-21  16:01:23           46   0.02543         14.620   \n",
       "1  2023-03-21  16:18:37          645   0.40041         14.722   \n",
       "2  2023-03-21  16:31:38           14   0.00996         14.603   \n",
       "3  2023-03-21  16:45:37           13   0.00901         14.811   \n",
       "4  2023-03-21  17:10:30           17   0.00904         15.153   \n",
       "\n",
       "   Flights Climbed  Walking Double Support Percentage  Walking Speed  \n",
       "0                3                              0.304          3.060  \n",
       "1                3                              0.309          3.852  \n",
       "2                4                              0.278          3.996  \n",
       "3                3                              0.278          5.040  \n",
       "4                3                              0.281          5.184  "
      ]
     },
     "execution_count": 32,
     "metadata": {},
     "output_type": "execute_result"
    }
   ],
   "source": [
    "data.head()"
   ]
  },
  {
   "cell_type": "code",
   "execution_count": 36,
   "id": "4204ed19",
   "metadata": {},
   "outputs": [],
   "source": [
    "avg_step = data.groupby('Date')[\"Step Count\"].mean().reset_index()"
   ]
  },
  {
   "cell_type": "code",
   "execution_count": 37,
   "id": "1a111854",
   "metadata": {},
   "outputs": [
    {
     "data": {
      "text/html": [
       "<div>\n",
       "<style scoped>\n",
       "    .dataframe tbody tr th:only-of-type {\n",
       "        vertical-align: middle;\n",
       "    }\n",
       "\n",
       "    .dataframe tbody tr th {\n",
       "        vertical-align: top;\n",
       "    }\n",
       "\n",
       "    .dataframe thead th {\n",
       "        text-align: right;\n",
       "    }\n",
       "</style>\n",
       "<table border=\"1\" class=\"dataframe\">\n",
       "  <thead>\n",
       "    <tr style=\"text-align: right;\">\n",
       "      <th></th>\n",
       "      <th>Date</th>\n",
       "      <th>Step Count</th>\n",
       "    </tr>\n",
       "  </thead>\n",
       "  <tbody>\n",
       "    <tr>\n",
       "      <th>0</th>\n",
       "      <td>2023-03-21</td>\n",
       "      <td>137.636364</td>\n",
       "    </tr>\n",
       "    <tr>\n",
       "      <th>1</th>\n",
       "      <td>2023-03-22</td>\n",
       "      <td>354.233333</td>\n",
       "    </tr>\n",
       "    <tr>\n",
       "      <th>2</th>\n",
       "      <td>2023-03-23</td>\n",
       "      <td>109.125000</td>\n",
       "    </tr>\n",
       "    <tr>\n",
       "      <th>3</th>\n",
       "      <td>2023-03-24</td>\n",
       "      <td>64.666667</td>\n",
       "    </tr>\n",
       "    <tr>\n",
       "      <th>4</th>\n",
       "      <td>2023-03-25</td>\n",
       "      <td>117.000000</td>\n",
       "    </tr>\n",
       "    <tr>\n",
       "      <th>5</th>\n",
       "      <td>2023-03-26</td>\n",
       "      <td>101.000000</td>\n",
       "    </tr>\n",
       "    <tr>\n",
       "      <th>6</th>\n",
       "      <td>2023-03-27</td>\n",
       "      <td>48.875000</td>\n",
       "    </tr>\n",
       "    <tr>\n",
       "      <th>7</th>\n",
       "      <td>2023-03-28</td>\n",
       "      <td>163.750000</td>\n",
       "    </tr>\n",
       "    <tr>\n",
       "      <th>8</th>\n",
       "      <td>2023-03-29</td>\n",
       "      <td>169.578947</td>\n",
       "    </tr>\n",
       "    <tr>\n",
       "      <th>9</th>\n",
       "      <td>2023-03-30</td>\n",
       "      <td>384.181818</td>\n",
       "    </tr>\n",
       "    <tr>\n",
       "      <th>10</th>\n",
       "      <td>2023-03-31</td>\n",
       "      <td>372.166667</td>\n",
       "    </tr>\n",
       "    <tr>\n",
       "      <th>11</th>\n",
       "      <td>2023-04-01</td>\n",
       "      <td>306.916667</td>\n",
       "    </tr>\n",
       "  </tbody>\n",
       "</table>\n",
       "</div>"
      ],
      "text/plain": [
       "          Date  Step Count\n",
       "0   2023-03-21  137.636364\n",
       "1   2023-03-22  354.233333\n",
       "2   2023-03-23  109.125000\n",
       "3   2023-03-24   64.666667\n",
       "4   2023-03-25  117.000000\n",
       "5   2023-03-26  101.000000\n",
       "6   2023-03-27   48.875000\n",
       "7   2023-03-28  163.750000\n",
       "8   2023-03-29  169.578947\n",
       "9   2023-03-30  384.181818\n",
       "10  2023-03-31  372.166667\n",
       "11  2023-04-01  306.916667"
      ]
     },
     "execution_count": 37,
     "metadata": {},
     "output_type": "execute_result"
    }
   ],
   "source": [
    "avg_step"
   ]
  },
  {
   "cell_type": "code",
   "execution_count": 42,
   "id": "b5cae6f0",
   "metadata": {},
   "outputs": [
    {
     "data": {
      "image/png": "[encoded data removed]",
      "text/plain": [
       "<Figure size 640x480 with 1 Axes>"
      ]
     },
     "metadata": {},
     "output_type": "display_data"
    }
   ],
   "source": [
    "sns.barplot(avg_step, x = 'Date', y = \"Step Count\")\n",
    "plt.xticks(rotation = 45)\n",
    "plt.show()"
   ]
  },
  {
   "cell_type": "markdown",
   "id": "7722daf0",
   "metadata": {},
   "source": [
    "# Calculate Walking Efficiency : "
   ]
  },
  {
   "cell_type": "code",
   "execution_count": 44,
   "id": "a0c4ac66",
   "metadata": {},
   "outputs": [
    {
     "data": {
      "application/vnd.plotly.v1+json": {
       "config": {
        "plotlyServerURL": "https://plot.ly"
       },
       "data": [
        {
         "hovertemplate": "Time=%{x}<br>Walking Eff.=%{y}<extra></extra>",
         "legendgroup": "",
         "line": {
          "color": "#636efa",
          "dash": "solid"
         },
         "marker": {
          "symbol": "circle"
         },
         "mode": "lines",
         "name": "",
         "orientation": "v",
         "showlegend": false,
         "type": "scatter",
         "x": [
          "16:01:23 ",
          "16:18:37 ",
          "16:31:38 ",
          "16:45:37 ",
          "17:10:30 ",
          "18:14:45 ",
          "19:02:31 ",
          "19:10:51 ",
          "19:20:57 ",
          "21:04:23 ",
          "21:25:23 ",
          "00:32:15 ",
          "01:20:54 ",
          "08:22:57 ",
          "10:34:49 ",
          "10:52:38 ",
          "13:04:47 ",
          "13:42:14 ",
          "13:42:14 ",
          "13:55:27 ",
          "14:14:39 ",
          "14:52:20 ",
          "14:57:40 ",
          "15:15:35 ",
          "15:23:52 ",
          "15:40:24 ",
          "15:45:00 ",
          "16:13:03 ",
          "16:59:35 ",
          "17:06:48 ",
          "17:17:33 ",
          "17:27:35 ",
          "18:02:17 ",
          "18:11:29 ",
          "18:19:35 ",
          "18:29:34 ",
          "19:00:43 ",
          "19:07:33 ",
          "19:15:01 ",
          "19:25:32 ",
          "23:29:50 ",
          "09:15:52 ",
          "16:51:23 ",
          "17:01:33 ",
          "17:23:21 ",
          "19:00:57 ",
          "20:11:46 ",
          "20:52:19 ",
          "22:53:29 ",
          "14:20:45 ",
          "16:26:41 ",
          "16:51:38 ",
          "19:02:12 ",
          "20:11:48 ",
          "22:12:26 ",
          "13:11:57 ",
          "15:14:00 ",
          "15:38:12 ",
          "17:08:09 ",
          "18:46:46 ",
          "18:58:27 ",
          "19:10:59 ",
          "19:27:00 ",
          "23:24:27 ",
          "07:07:48 ",
          "15:53:25 ",
          "16:08:01 ",
          "17:24:18 ",
          "19:12:48 ",
          "19:28:30 ",
          "21:10:46 ",
          "21:23:31 ",
          "21:34:56 ",
          "22:16:26 ",
          "23:19:50 ",
          "08:58:35 ",
          "13:27:30 ",
          "13:48:15 ",
          "14:10:38 ",
          "18:32:19 ",
          "18:42:59 ",
          "20:36:57 ",
          "21:23:57 ",
          "11:44:10 ",
          "11:52:21 ",
          "19:44:18 ",
          "20:15:46 ",
          "20:30:22 ",
          "21:03:51 ",
          "22:59:31 ",
          "22:59:35 ",
          "22:59:36 ",
          "22:59:46 ",
          "22:59:49 ",
          "23:10:35 ",
          "01:13:15 ",
          "01:31:53 ",
          "09:22:39 ",
          "13:11:20 ",
          "13:21:19 ",
          "13:31:19 ",
          "13:43:01 ",
          "14:05:27 ",
          "17:48:37 ",
          "17:58:50 ",
          "18:08:49 ",
          "19:09:25 ",
          "19:26:54 ",
          "19:37:06 ",
          "19:47:06 ",
          "19:57:23 ",
          "20:07:33 ",
          "21:14:20 ",
          "21:58:14 ",
          "12:22:40 ",
          "14:12:11 ",
          "17:09:16 ",
          "18:17:50 ",
          "19:40:16 ",
          "19:43:17 ",
          "20:19:18 ",
          "20:29:18 ",
          "20:42:52 ",
          "23:06:23 ",
          "23:21:50 ",
          "14:47:58 ",
          "15:27:44 ",
          "16:55:16 ",
          "16:58:56 ",
          "17:13:05 ",
          "17:27:34 ",
          "17:44:36 ",
          "17:55:55 ",
          "18:11:50 ",
          "18:23:45 ",
          "18:34:38 ",
          "23:05:40 ",
          "00:08:20 ",
          "08:45:13 ",
          "10:26:24 ",
          "11:00:51 ",
          "12:57:00 ",
          "14:24:46 ",
          "15:05:42 ",
          "16:04:23 ",
          "16:33:18 ",
          "16:49:49 ",
          "17:09:06 ",
          "17:47:07 "
         ],
         "xaxis": "x",
         "y": [
          0.0005528260869565218,
          0.0006207906976744185,
          0.0007114285714285714,
          0.0006930769230769231,
          0.0005317647058823529,
          0.0007,
          0.0006398758865248227,
          0.0006204575163398693,
          0.00067125,
          0.0006936363636363636,
          0.00045,
          0.0005013513513513514,
          0.0007328571428571428,
          0.00058,
          0.00069,
          0.0006900000000000001,
          0.0007000819672131148,
          0.0007206078665077472,
          0.0007294067796610169,
          0.0006288305084745763,
          0.0006472235294117647,
          0.0006836153846153846,
          0.0006349164677804295,
          0.0006247236704900939,
          0.000736629213483146,
          0.0006317161016949152,
          0.0006076068376068376,
          0.0005446666666666667,
          0.0006345325203252033,
          0.0006246867749419953,
          0.0006309960159362549,
          0.0006328531073446328,
          0.0006214480408858603,
          0.0006274193548387097,
          0.0006619240506329114,
          0.000648354114713217,
          0.0006608854166666667,
          0.0029563975155279506,
          0.00020976902173913044,
          0.0005407746478873239,
          0.00069,
          0.0005170588235294117,
          0.0007001333333333334,
          0.000673448275862069,
          0.0006937037037037038,
          0.00073,
          0.0007,
          0.0006942857142857142,
          0.0007030769230769231,
          0.0006907407407407408,
          0.00069,
          0.0006850000000000001,
          0.00046,
          0.0006238559322033899,
          0.0007407142857142857,
          0.0006271794871794871,
          0.00069,
          0.0006906060606060606,
          0.0006906060606060606,
          0.0006954960317460318,
          0.000697,
          0.0006887037037037037,
          0.0007219480519480519,
          0.0006568421052631579,
          0.0006958333333333334,
          0.0006912087912087912,
          0.00069,
          0.0007018762475049901,
          0.0006898941798941799,
          0.0006903225806451612,
          0.0006520238095238095,
          0.0005539473684210526,
          0.0006065853658536585,
          0.0007170270270270271,
          0.0006676190476190476,
          0.0006796153846153846,
          0.0006726249999999999,
          0.000663,
          0.0007,
          0.0006900000000000001,
          0.00069,
          0.0005304545454545454,
          0.0006853333333333333,
          0.0006914545454545454,
          0.00069,
          0.0006624050632911393,
          0.0006394273127753304,
          0.0006495698924731182,
          0.0007599999999999999,
          0.0006,
          0.0005673209549071618,
          0.00047999999999999996,
          0.0006933333333333333,
          0.00069,
          0.00069,
          0.00071,
          0.0004523076923076923,
          0.0007,
          0.0006921621621621621,
          0.0006920833333333333,
          0.0006900380228136882,
          0.0006284782608695652,
          0.0006900000000000001,
          0.0006880869565217392,
          0.0006923890784982935,
          0.0006916666666666666,
          0.0006388253012048193,
          0.000692,
          0.0006886551724137931,
          0.0006904186046511627,
          0.0006910852713178295,
          0.0006908646616541353,
          0.0006796296296296297,
          0.00072,
          0.0007133333333333333,
          0.0007300000000000001,
          0.000671219512195122,
          0.0006930372492836676,
          0.0006646020408163265,
          0.0006454545454545455,
          0.0006510798122065728,
          0.0006467148014440433,
          0.0006558730158730159,
          0.0006893548387096774,
          0.000672,
          0.0006163636363636364,
          0.0006753333333333333,
          0.000657298969072165,
          0.0006703441682600383,
          0.0006416981132075472,
          0.0006665384615384616,
          0.0007008870967741936,
          0.0006382162661737524,
          0.0006257642725598526,
          0.0006983715012722646,
          0.0006870558375634518,
          0.00071,
          0.0006955555555555556,
          0.000691919191919192,
          0.00069,
          0.0005112903225806451,
          0.0006992,
          0.0006863405797101449,
          0.00069,
          0.0006749425287356322,
          0.000551081081081081,
          0.0006747058823529412,
          0.0006618125,
          0.0006275208140610546
         ],
         "yaxis": "y"
        }
       ],
       "layout": {
        "legend": {
         "tracegroupgap": 0
        },
        "template": {
         "data": {
          "bar": [
           {
            "error_x": {
             "color": "#2a3f5f"
            },
            "error_y": {
             "color": "#2a3f5f"
            },
            "marker": {
             "line": {
              "color": "white",
              "width": 0.5
             },
             "pattern": {
              "fillmode": "overlay",
              "size": 10,
              "solidity": 0.2
             }
            },
            "type": "bar"
           }
          ],
          "barpolar": [
           {
            "marker": {
             "line": {
              "color": "white",
              "width": 0.5
             },
             "pattern": {
              "fillmode": "overlay",
              "size": 10,
              "solidity": 0.2
             }
            },
            "type": "barpolar"
           }
          ],
          "carpet": [
           {
            "aaxis": {
             "endlinecolor": "#2a3f5f",
             "gridcolor": "#C8D4E3",
             "linecolor": "#C8D4E3",
             "minorgridcolor": "#C8D4E3",
             "startlinecolor": "#2a3f5f"
            },
            "baxis": {
             "endlinecolor": "#2a3f5f",
             "gridcolor": "#C8D4E3",
             "linecolor": "#C8D4E3",
             "minorgridcolor": "#C8D4E3",
             "startlinecolor": "#2a3f5f"
            },
            "type": "carpet"
           }
          ],
          "choropleth": [
           {
            "colorbar": {
             "outlinewidth": 0,
             "ticks": ""
            },
            "type": "choropleth"
           }
          ],
          "contour": [
           {
            "colorbar": {
             "outlinewidth": 0,
             "ticks": ""
            },
            "colorscale": [
             [
              0,
              "#0d0887"
             ],
             [
              0.1111111111111111,
              "#46039f"
             ],
             [
              0.2222222222222222,
              "#7201a8"
             ],
             [
              0.3333333333333333,
              "#9c179e"
             ],
             [
              0.4444444444444444,
              "#bd3786"
             ],
             [
              0.5555555555555556,
              "#d8576b"
             ],
             [
              0.6666666666666666,
              "#ed7953"
             ],
             [
              0.7777777777777778,
              "#fb9f3a"
             ],
             [
              0.8888888888888888,
              "#fdca26"
             ],
             [
              1,
              "#f0f921"
             ]
            ],
            "type": "contour"
           }
          ],
          "contourcarpet": [
           {
            "colorbar": {
             "outlinewidth": 0,
             "ticks": ""
            },
            "type": "contourcarpet"
           }
          ],
          "heatmap": [
           {
            "colorbar": {
             "outlinewidth": 0,
             "ticks": ""
            },
            "colorscale": [
             [
              0,
              "#0d0887"
             ],
             [
              0.1111111111111111,
              "#46039f"
             ],
             [
              0.2222222222222222,
              "#7201a8"
             ],
             [
              0.3333333333333333,
              "#9c179e"
             ],
             [
              0.4444444444444444,
              "#bd3786"
             ],
             [
              0.5555555555555556,
              "#d8576b"
             ],
             [
              0.6666666666666666,
              "#ed7953"
             ],
             [
              0.7777777777777778,
              "#fb9f3a"
             ],
             [
              0.8888888888888888,
              "#fdca26"
             ],
             [
              1,
              "#f0f921"
             ]
            ],
            "type": "heatmap"
           }
          ],
          "heatmapgl": [
           {
            "colorbar": {
             "outlinewidth": 0,
             "ticks": ""
            },
            "colorscale": [
             [
              0,
              "#0d0887"
             ],
             [
              0.1111111111111111,
              "#46039f"
             ],
             [
              0.2222222222222222,
              "#7201a8"
             ],
             [
              0.3333333333333333,
              "#9c179e"
             ],
             [
              0.4444444444444444,
              "#bd3786"
             ],
             [
              0.5555555555555556,
              "#d8576b"
             ],
             [
              0.6666666666666666,
              "#ed7953"
             ],
             [
              0.7777777777777778,
              "#fb9f3a"
             ],
             [
              0.8888888888888888,
              "#fdca26"
             ],
             [
              1,
              "#f0f921"
             ]
            ],
            "type": "heatmapgl"
           }
          ],
          "histogram": [
           {
            "marker": {
             "pattern": {
              "fillmode": "overlay",
              "size": 10,
              "solidity": 0.2
             }
            },
            "type": "histogram"
           }
          ],
          "histogram2d": [
           {
            "colorbar": {
             "outlinewidth": 0,
             "ticks": ""
            },
            "colorscale": [
             [
              0,
              "#0d0887"
             ],
             [
              0.1111111111111111,
              "#46039f"
             ],
             [
              0.2222222222222222,
              "#7201a8"
             ],
             [
              0.3333333333333333,
              "#9c179e"
             ],
             [
              0.4444444444444444,
              "#bd3786"
             ],
             [
              0.5555555555555556,
              "#d8576b"
             ],
             [
              0.6666666666666666,
              "#ed7953"
             ],
             [
              0.7777777777777778,
              "#fb9f3a"
             ],
             [
              0.8888888888888888,
              "#fdca26"
             ],
             [
              1,
              "#f0f921"
             ]
            ],
            "type": "histogram2d"
           }
          ],
          "histogram2dcontour": [
           {
            "colorbar": {
             "outlinewidth": 0,
             "ticks": ""
            },
            "colorscale": [
             [
              0,
              "#0d0887"
             ],
             [
              0.1111111111111111,
              "#46039f"
             ],
             [
              0.2222222222222222,
              "#7201a8"
             ],
             [
              0.3333333333333333,
              "#9c179e"
             ],
             [
              0.4444444444444444,
              "#bd3786"
             ],
             [
              0.5555555555555556,
              "#d8576b"
             ],
             [
              0.6666666666666666,
              "#ed7953"
             ],
             [
              0.7777777777777778,
              "#fb9f3a"
             ],
             [
              0.8888888888888888,
              "#fdca26"
             ],
             [
              1,
              "#f0f921"
             ]
            ],
            "type": "histogram2dcontour"
           }
          ],
          "mesh3d": [
           {
            "colorbar": {
             "outlinewidth": 0,
             "ticks": ""
            },
            "type": "mesh3d"
           }
          ],
          "parcoords": [
           {
            "line": {
             "colorbar": {
              "outlinewidth": 0,
              "ticks": ""
             }
            },
            "type": "parcoords"
           }
          ],
          "pie": [
           {
            "automargin": true,
            "type": "pie"
           }
          ],
          "scatter": [
           {
            "fillpattern": {
             "fillmode": "overlay",
             "size": 10,
             "solidity": 0.2
            },
            "type": "scatter"
           }
          ],
          "scatter3d": [
           {
            "line": {
             "colorbar": {
              "outlinewidth": 0,
              "ticks": ""
             }
            },
            "marker": {
             "colorbar": {
              "outlinewidth": 0,
              "ticks": ""
             }
            },
            "type": "scatter3d"
           }
          ],
          "scattercarpet": [
           {
            "marker": {
             "colorbar": {
              "outlinewidth": 0,
              "ticks": ""
             }
            },
            "type": "scattercarpet"
           }
          ],
          "scattergeo": [
           {
            "marker": {
             "colorbar": {
              "outlinewidth": 0,
              "ticks": ""
             }
            },
            "type": "scattergeo"
           }
          ],
          "scattergl": [
           {
            "marker": {
             "colorbar": {
              "outlinewidth": 0,
              "ticks": ""
             }
            },
            "type": "scattergl"
           }
          ],
          "scattermapbox": [
           {
            "marker": {
             "colorbar": {
              "outlinewidth": 0,
              "ticks": ""
             }
            },
            "type": "scattermapbox"
           }
          ],
          "scatterpolar": [
           {
            "marker": {
             "colorbar": {
              "outlinewidth": 0,
              "ticks": ""
             }
            },
            "type": "scatterpolar"
           }
          ],
          "scatterpolargl": [
           {
            "marker": {
             "colorbar": {
              "outlinewidth": 0,
              "ticks": ""
             }
            },
            "type": "scatterpolargl"
           }
          ],
          "scatterternary": [
           {
            "marker": {
             "colorbar": {
              "outlinewidth": 0,
              "ticks": ""
             }
            },
            "type": "scatterternary"
           }
          ],
          "surface": [
           {
            "colorbar": {
             "outlinewidth": 0,
             "ticks": ""
            },
            "colorscale": [
             [
              0,
              "#0d0887"
             ],
             [
              0.1111111111111111,
              "#46039f"
             ],
             [
              0.2222222222222222,
              "#7201a8"
             ],
             [
              0.3333333333333333,
              "#9c179e"
             ],
             [
              0.4444444444444444,
              "#bd3786"
             ],
             [
              0.5555555555555556,
              "#d8576b"
             ],
             [
              0.6666666666666666,
              "#ed7953"
             ],
             [
              0.7777777777777778,
              "#fb9f3a"
             ],
             [
              0.8888888888888888,
              "#fdca26"
             ],
             [
              1,
              "#f0f921"
             ]
            ],
            "type": "surface"
           }
          ],
          "table": [
           {
            "cells": {
             "fill": {
              "color": "#EBF0F8"
             },
             "line": {
              "color": "white"
             }
            },
            "header": {
             "fill": {
              "color": "#C8D4E3"
             },
             "line": {
              "color": "white"
             }
            },
            "type": "table"
           }
          ]
         },
         "layout": {
          "annotationdefaults": {
           "arrowcolor": "#2a3f5f",
           "arrowhead": 0,
           "arrowwidth": 1
          },
          "autotypenumbers": "strict",
          "coloraxis": {
           "colorbar": {
            "outlinewidth": 0,
            "ticks": ""
           }
          },
          "colorscale": {
           "diverging": [
            [
             0,
             "#8e0152"
            ],
            [
             0.1,
             "#c51b7d"
            ],
            [
             0.2,
             "#de77ae"
            ],
            [
             0.3,
             "#f1b6da"
            ],
            [
             0.4,
             "#fde0ef"
            ],
            [
             0.5,
             "#f7f7f7"
            ],
            [
             0.6,
             "#e6f5d0"
            ],
            [
             0.7,
             "#b8e186"
            ],
            [
             0.8,
             "#7fbc41"
            ],
            [
             0.9,
             "#4d9221"
            ],
            [
             1,
             "#276419"
            ]
           ],
           "sequential": [
            [
             0,
             "#0d0887"
            ],
            [
             0.1111111111111111,
             "#46039f"
            ],
            [
             0.2222222222222222,
             "#7201a8"
            ],
            [
             0.3333333333333333,
             "#9c179e"
            ],
            [
             0.4444444444444444,
             "#bd3786"
            ],
            [
             0.5555555555555556,
             "#d8576b"
            ],
            [
             0.6666666666666666,
             "#ed7953"
            ],
            [
             0.7777777777777778,
             "#fb9f3a"
            ],
            [
             0.8888888888888888,
             "#fdca26"
            ],
            [
             1,
             "#f0f921"
            ]
           ],
           "sequentialminus": [
            [
             0,
             "#0d0887"
            ],
            [
             0.1111111111111111,
             "#46039f"
            ],
            [
             0.2222222222222222,
             "#7201a8"
            ],
            [
             0.3333333333333333,
             "#9c179e"
            ],
            [
             0.4444444444444444,
             "#bd3786"
            ],
            [
             0.5555555555555556,
             "#d8576b"
            ],
            [
             0.6666666666666666,
             "#ed7953"
            ],
            [
             0.7777777777777778,
             "#fb9f3a"
            ],
            [
             0.8888888888888888,
             "#fdca26"
            ],
            [
             1,
             "#f0f921"
            ]
           ]
          },
          "colorway": [
           "#636efa",
           "#EF553B",
           "#00cc96",
           "#ab63fa",
           "#FFA15A",
           "#19d3f3",
           "#FF6692",
           "#B6E880",
           "#FF97FF",
           "#FECB52"
          ],
          "font": {
           "color": "#2a3f5f"
          },
          "geo": {
           "bgcolor": "white",
           "lakecolor": "white",
           "landcolor": "white",
           "showlakes": true,
           "showland": true,
           "subunitcolor": "#C8D4E3"
          },
          "hoverlabel": {
           "align": "left"
          },
          "hovermode": "closest",
          "mapbox": {
           "style": "light"
          },
          "paper_bgcolor": "white",
          "plot_bgcolor": "white",
          "polar": {
           "angularaxis": {
            "gridcolor": "#EBF0F8",
            "linecolor": "#EBF0F8",
            "ticks": ""
           },
           "bgcolor": "white",
           "radialaxis": {
            "gridcolor": "#EBF0F8",
            "linecolor": "#EBF0F8",
            "ticks": ""
           }
          },
          "scene": {
           "xaxis": {
            "backgroundcolor": "white",
            "gridcolor": "#DFE8F3",
            "gridwidth": 2,
            "linecolor": "#EBF0F8",
            "showbackground": true,
            "ticks": "",
            "zerolinecolor": "#EBF0F8"
           },
           "yaxis": {
            "backgroundcolor": "white",
            "gridcolor": "#DFE8F3",
            "gridwidth": 2,
            "linecolor": "#EBF0F8",
            "showbackground": true,
            "ticks": "",
            "zerolinecolor": "#EBF0F8"
           },
           "zaxis": {
            "backgroundcolor": "white",
            "gridcolor": "#DFE8F3",
            "gridwidth": 2,
            "linecolor": "#EBF0F8",
            "showbackground": true,
            "ticks": "",
            "zerolinecolor": "#EBF0F8"
           }
          },
          "shapedefaults": {
           "line": {
            "color": "#2a3f5f"
           }
          },
          "ternary": {
           "aaxis": {
            "gridcolor": "#DFE8F3",
            "linecolor": "#A2B1C6",
            "ticks": ""
           },
           "baxis": {
            "gridcolor": "#DFE8F3",
            "linecolor": "#A2B1C6",
            "ticks": ""
           },
           "bgcolor": "white",
           "caxis": {
            "gridcolor": "#DFE8F3",
            "linecolor": "#A2B1C6",
            "ticks": ""
           }
          },
          "title": {
           "x": 0.05
          },
          "xaxis": {
           "automargin": true,
           "gridcolor": "#EBF0F8",
           "linecolor": "#EBF0F8",
           "ticks": "",
           "title": {
            "standoff": 15
           },
           "zerolinecolor": "#EBF0F8",
           "zerolinewidth": 2
          },
          "yaxis": {
           "automargin": true,
           "gridcolor": "#EBF0F8",
           "linecolor": "#EBF0F8",
           "ticks": "",
           "title": {
            "standoff": 15
           },
           "zerolinecolor": "#EBF0F8",
           "zerolinewidth": 2
          }
         }
        },
        "title": {
         "text": "Walaking Efficiency Over Time"
        },
        "xaxis": {
         "anchor": "y",
         "domain": [
          0,
          1
         ],
         "title": {
          "text": "Time"
         }
        },
        "yaxis": {
         "anchor": "x",
         "domain": [
          0,
          1
         ],
         "title": {
          "text": "Walking Eff."
         }
        }
       }
      },
      "text/html": [
       "<div>                            <div id=\"13bf9902-7757-4583-85a0-9594bd53ebb6\" class=\"plotly-graph-div\" style=\"height:525px; width:100%;\"></div>            <script type=\"text/javascript\">                require([\"plotly\"], function(Plotly) {                    window.PLOTLYENV=window.PLOTLYENV || {};                                    if (document.getElementById(\"13bf9902-7757-4583-85a0-9594bd53ebb6\")) {                    Plotly.newPlot(                        \"13bf9902-7757-4583-85a0-9594bd53ebb6\",                        [{\"hovertemplate\":\"Time=%{x}<br>Walking Eff.=%{y}<extra></extra>\",\"legendgroup\":\"\",\"line\":{\"color\":\"#636efa\",\"dash\":\"solid\"},\"marker\":{\"symbol\":\"circle\"},\"mode\":\"lines\",\"name\":\"\",\"orientation\":\"v\",\"showlegend\":false,\"x\":[\"16:01:23 \",\"16:18:37 \",\"16:31:38 \",\"16:45:37 \",\"17:10:30 \",\"18:14:45 \",\"19:02:31 \",\"19:10:51 \",\"19:20:57 \",\"21:04:23 \",\"21:25:23 \",\"00:32:15 \",\"01:20:54 \",\"08:22:57 \",\"10:34:49 \",\"10:52:38 \",\"13:04:47 \",\"13:42:14 \",\"13:42:14 \",\"13:55:27 \",\"14:14:39 \",\"14:52:20 \",\"14:57:40 \",\"15:15:35 \",\"15:23:52 \",\"15:40:24 \",\"15:45:00 \",\"16:13:03 \",\"16:59:35 \",\"17:06:48 \",\"17:17:33 \",\"17:27:35 \",\"18:02:17 \",\"18:11:29 \",\"18:19:35 \",\"18:29:34 \",\"19:00:43 \",\"19:07:33 \",\"19:15:01 \",\"19:25:32 \",\"23:29:50 \",\"09:15:52 \",\"16:51:23 \",\"17:01:33 \",\"17:23:21 \",\"19:00:57 \",\"20:11:46 \",\"20:52:19 \",\"22:53:29 \",\"14:20:45 \",\"16:26:41 \",\"16:51:38 \",\"19:02:12 \",\"20:11:48 \",\"22:12:26 \",\"13:11:57 \",\"15:14:00 \",\"15:38:12 \",\"17:08:09 \",\"18:46:46 \",\"18:58:27 \",\"19:10:59 \",\"19:27:00 \",\"23:24:27 \",\"07:07:48 \",\"15:53:25 \",\"16:08:01 \",\"17:24:18 \",\"19:12:48 \",\"19:28:30 \",\"21:10:46 \",\"21:23:31 \",\"21:34:56 \",\"22:16:26 \",\"23:19:50 \",\"08:58:35 \",\"13:27:30 \",\"13:48:15 \",\"14:10:38 \",\"18:32:19 \",\"18:42:59 \",\"20:36:57 \",\"21:23:57 \",\"11:44:10 \",\"11:52:21 \",\"19:44:18 \",\"20:15:46 \",\"20:30:22 \",\"21:03:51 \",\"22:59:31 \",\"22:59:35 \",\"22:59:36 \",\"22:59:46 \",\"22:59:49 \",\"23:10:35 \",\"01:13:15 \",\"01:31:53 \",\"09:22:39 \",\"13:11:20 \",\"13:21:19 \",\"13:31:19 \",\"13:43:01 \",\"14:05:27 \",\"17:48:37 \",\"17:58:50 \",\"18:08:49 \",\"19:09:25 \",\"19:26:54 \",\"19:37:06 \",\"19:47:06 \",\"19:57:23 \",\"20:07:33 \",\"21:14:20 \",\"21:58:14 \",\"12:22:40 \",\"14:12:11 \",\"17:09:16 \",\"18:17:50 \",\"19:40:16 \",\"19:43:17 \",\"20:19:18 \",\"20:29:18 \",\"20:42:52 \",\"23:06:23 \",\"23:21:50 \",\"14:47:58 \",\"15:27:44 \",\"16:55:16 \",\"16:58:56 \",\"17:13:05 \",\"17:27:34 \",\"17:44:36 \",\"17:55:55 \",\"18:11:50 \",\"18:23:45 \",\"18:34:38 \",\"23:05:40 \",\"00:08:20 \",\"08:45:13 \",\"10:26:24 \",\"11:00:51 \",\"12:57:00 \",\"14:24:46 \",\"15:05:42 \",\"16:04:23 \",\"16:33:18 \",\"16:49:49 \",\"17:09:06 \",\"17:47:07 \"],\"xaxis\":\"x\",\"y\":[0.0005528260869565218,0.0006207906976744185,0.0007114285714285714,0.0006930769230769231,0.0005317647058823529,0.0007,0.0006398758865248227,0.0006204575163398693,0.00067125,0.0006936363636363636,0.00045,0.0005013513513513514,0.0007328571428571428,0.00058,0.00069,0.0006900000000000001,0.0007000819672131148,0.0007206078665077472,0.0007294067796610169,0.0006288305084745763,0.0006472235294117647,0.0006836153846153846,0.0006349164677804295,0.0006247236704900939,0.000736629213483146,0.0006317161016949152,0.0006076068376068376,0.0005446666666666667,0.0006345325203252033,0.0006246867749419953,0.0006309960159362549,0.0006328531073446328,0.0006214480408858603,0.0006274193548387097,0.0006619240506329114,0.000648354114713217,0.0006608854166666667,0.0029563975155279506,0.00020976902173913044,0.0005407746478873239,0.00069,0.0005170588235294117,0.0007001333333333334,0.000673448275862069,0.0006937037037037038,0.00073,0.0007,0.0006942857142857142,0.0007030769230769231,0.0006907407407407408,0.00069,0.0006850000000000001,0.00046,0.0006238559322033899,0.0007407142857142857,0.0006271794871794871,0.00069,0.0006906060606060606,0.0006906060606060606,0.0006954960317460318,0.000697,0.0006887037037037037,0.0007219480519480519,0.0006568421052631579,0.0006958333333333334,0.0006912087912087912,0.00069,0.0007018762475049901,0.0006898941798941799,0.0006903225806451612,0.0006520238095238095,0.0005539473684210526,0.0006065853658536585,0.0007170270270270271,0.0006676190476190476,0.0006796153846153846,0.0006726249999999999,0.000663,0.0007,0.0006900000000000001,0.00069,0.0005304545454545454,0.0006853333333333333,0.0006914545454545454,0.00069,0.0006624050632911393,0.0006394273127753304,0.0006495698924731182,0.0007599999999999999,0.0006,0.0005673209549071618,0.00047999999999999996,0.0006933333333333333,0.00069,0.00069,0.00071,0.0004523076923076923,0.0007,0.0006921621621621621,0.0006920833333333333,0.0006900380228136882,0.0006284782608695652,0.0006900000000000001,0.0006880869565217392,0.0006923890784982935,0.0006916666666666666,0.0006388253012048193,0.000692,0.0006886551724137931,0.0006904186046511627,0.0006910852713178295,0.0006908646616541353,0.0006796296296296297,0.00072,0.0007133333333333333,0.0007300000000000001,0.000671219512195122,0.0006930372492836676,0.0006646020408163265,0.0006454545454545455,0.0006510798122065728,0.0006467148014440433,0.0006558730158730159,0.0006893548387096774,0.000672,0.0006163636363636364,0.0006753333333333333,0.000657298969072165,0.0006703441682600383,0.0006416981132075472,0.0006665384615384616,0.0007008870967741936,0.0006382162661737524,0.0006257642725598526,0.0006983715012722646,0.0006870558375634518,0.00071,0.0006955555555555556,0.000691919191919192,0.00069,0.0005112903225806451,0.0006992,0.0006863405797101449,0.00069,0.0006749425287356322,0.000551081081081081,0.0006747058823529412,0.0006618125,0.0006275208140610546],\"yaxis\":\"y\",\"type\":\"scatter\"}],                        {\"template\":{\"data\":{\"histogram2dcontour\":[{\"type\":\"histogram2dcontour\",\"colorbar\":{\"outlinewidth\":0,\"ticks\":\"\"},\"colorscale\":[[0.0,\"#0d0887\"],[0.1111111111111111,\"#46039f\"],[0.2222222222222222,\"#7201a8\"],[0.3333333333333333,\"#9c179e\"],[0.4444444444444444,\"#bd3786\"],[0.5555555555555556,\"#d8576b\"],[0.6666666666666666,\"#ed7953\"],[0.7777777777777778,\"#fb9f3a\"],[0.8888888888888888,\"#fdca26\"],[1.0,\"#f0f921\"]]}],\"choropleth\":[{\"type\":\"choropleth\",\"colorbar\":{\"outlinewidth\":0,\"ticks\":\"\"}}],\"histogram2d\":[{\"type\":\"histogram2d\",\"colorbar\":{\"outlinewidth\":0,\"ticks\":\"\"},\"colorscale\":[[0.0,\"#0d0887\"],[0.1111111111111111,\"#46039f\"],[0.2222222222222222,\"#7201a8\"],[0.3333333333333333,\"#9c179e\"],[0.4444444444444444,\"#bd3786\"],[0.5555555555555556,\"#d8576b\"],[0.6666666666666666,\"#ed7953\"],[0.7777777777777778,\"#fb9f3a\"],[0.8888888888888888,\"#fdca26\"],[1.0,\"#f0f921\"]]}],\"heatmap\":[{\"type\":\"heatmap\",\"colorbar\":{\"outlinewidth\":0,\"ticks\":\"\"},\"colorscale\":[[0.0,\"#0d0887\"],[0.1111111111111111,\"#46039f\"],[0.2222222222222222,\"#7201a8\"],[0.3333333333333333,\"#9c179e\"],[0.4444444444444444,\"#bd3786\"],[0.5555555555555556,\"#d8576b\"],[0.6666666666666666,\"#ed7953\"],[0.7777777777777778,\"#fb9f3a\"],[0.8888888888888888,\"#fdca26\"],[1.0,\"#f0f921\"]]}],\"heatmapgl\":[{\"type\":\"heatmapgl\",\"colorbar\":{\"outlinewidth\":0,\"ticks\":\"\"},\"colorscale\":[[0.0,\"#0d0887\"],[0.1111111111111111,\"#46039f\"],[0.2222222222222222,\"#7201a8\"],[0.3333333333333333,\"#9c179e\"],[0.4444444444444444,\"#bd3786\"],[0.5555555555555556,\"#d8576b\"],[0.6666666666666666,\"#ed7953\"],[0.7777777777777778,\"#fb9f3a\"],[0.8888888888888888,\"#fdca26\"],[1.0,\"#f0f921\"]]}],\"contourcarpet\":[{\"type\":\"contourcarpet\",\"colorbar\":{\"outlinewidth\":0,\"ticks\":\"\"}}],\"contour\":[{\"type\":\"contour\",\"colorbar\":{\"outlinewidth\":0,\"ticks\":\"\"},\"colorscale\":[[0.0,\"#0d0887\"],[0.1111111111111111,\"#46039f\"],[0.2222222222222222,\"#7201a8\"],[0.3333333333333333,\"#9c179e\"],[0.4444444444444444,\"#bd3786\"],[0.5555555555555556,\"#d8576b\"],[0.6666666666666666,\"#ed7953\"],[0.7777777777777778,\"#fb9f3a\"],[0.8888888888888888,\"#fdca26\"],[1.0,\"#f0f921\"]]}],\"surface\":[{\"type\":\"surface\",\"colorbar\":{\"outlinewidth\":0,\"ticks\":\"\"},\"colorscale\":[[0.0,\"#0d0887\"],[0.1111111111111111,\"#46039f\"],[0.2222222222222222,\"#7201a8\"],[0.3333333333333333,\"#9c179e\"],[0.4444444444444444,\"#bd3786\"],[0.5555555555555556,\"#d8576b\"],[0.6666666666666666,\"#ed7953\"],[0.7777777777777778,\"#fb9f3a\"],[0.8888888888888888,\"#fdca26\"],[1.0,\"#f0f921\"]]}],\"mesh3d\":[{\"type\":\"mesh3d\",\"colorbar\":{\"outlinewidth\":0,\"ticks\":\"\"}}],\"scatter\":[{\"fillpattern\":{\"fillmode\":\"overlay\",\"size\":10,\"solidity\":0.2},\"type\":\"scatter\"}],\"parcoords\":[{\"type\":\"parcoords\",\"line\":{\"colorbar\":{\"outlinewidth\":0,\"ticks\":\"\"}}}],\"scatterpolargl\":[{\"type\":\"scatterpolargl\",\"marker\":{\"colorbar\":{\"outlinewidth\":0,\"ticks\":\"\"}}}],\"bar\":[{\"error_x\":{\"color\":\"#2a3f5f\"},\"error_y\":{\"color\":\"#2a3f5f\"},\"marker\":{\"line\":{\"color\":\"white\",\"width\":0.5},\"pattern\":{\"fillmode\":\"overlay\",\"size\":10,\"solidity\":0.2}},\"type\":\"bar\"}],\"scattergeo\":[{\"type\":\"scattergeo\",\"marker\":{\"colorbar\":{\"outlinewidth\":0,\"ticks\":\"\"}}}],\"scatterpolar\":[{\"type\":\"scatterpolar\",\"marker\":{\"colorbar\":{\"outlinewidth\":0,\"ticks\":\"\"}}}],\"histogram\":[{\"marker\":{\"pattern\":{\"fillmode\":\"overlay\",\"size\":10,\"solidity\":0.2}},\"type\":\"histogram\"}],\"scattergl\":[{\"type\":\"scattergl\",\"marker\":{\"colorbar\":{\"outlinewidth\":0,\"ticks\":\"\"}}}],\"scatter3d\":[{\"type\":\"scatter3d\",\"line\":{\"colorbar\":{\"outlinewidth\":0,\"ticks\":\"\"}},\"marker\":{\"colorbar\":{\"outlinewidth\":0,\"ticks\":\"\"}}}],\"scattermapbox\":[{\"type\":\"scattermapbox\",\"marker\":{\"colorbar\":{\"outlinewidth\":0,\"ticks\":\"\"}}}],\"scatterternary\":[{\"type\":\"scatterternary\",\"marker\":{\"colorbar\":{\"outlinewidth\":0,\"ticks\":\"\"}}}],\"scattercarpet\":[{\"type\":\"scattercarpet\",\"marker\":{\"colorbar\":{\"outlinewidth\":0,\"ticks\":\"\"}}}],\"carpet\":[{\"aaxis\":{\"endlinecolor\":\"#2a3f5f\",\"gridcolor\":\"#C8D4E3\",\"linecolor\":\"#C8D4E3\",\"minorgridcolor\":\"#C8D4E3\",\"startlinecolor\":\"#2a3f5f\"},\"baxis\":{\"endlinecolor\":\"#2a3f5f\",\"gridcolor\":\"#C8D4E3\",\"linecolor\":\"#C8D4E3\",\"minorgridcolor\":\"#C8D4E3\",\"startlinecolor\":\"#2a3f5f\"},\"type\":\"carpet\"}],\"table\":[{\"cells\":{\"fill\":{\"color\":\"#EBF0F8\"},\"line\":{\"color\":\"white\"}},\"header\":{\"fill\":{\"color\":\"#C8D4E3\"},\"line\":{\"color\":\"white\"}},\"type\":\"table\"}],\"barpolar\":[{\"marker\":{\"line\":{\"color\":\"white\",\"width\":0.5},\"pattern\":{\"fillmode\":\"overlay\",\"size\":10,\"solidity\":0.2}},\"type\":\"barpolar\"}],\"pie\":[{\"automargin\":true,\"type\":\"pie\"}]},\"layout\":{\"autotypenumbers\":\"strict\",\"colorway\":[\"#636efa\",\"#EF553B\",\"#00cc96\",\"#ab63fa\",\"#FFA15A\",\"#19d3f3\",\"#FF6692\",\"#B6E880\",\"#FF97FF\",\"#FECB52\"],\"font\":{\"color\":\"#2a3f5f\"},\"hovermode\":\"closest\",\"hoverlabel\":{\"align\":\"left\"},\"paper_bgcolor\":\"white\",\"plot_bgcolor\":\"white\",\"polar\":{\"bgcolor\":\"white\",\"angularaxis\":{\"gridcolor\":\"#EBF0F8\",\"linecolor\":\"#EBF0F8\",\"ticks\":\"\"},\"radialaxis\":{\"gridcolor\":\"#EBF0F8\",\"linecolor\":\"#EBF0F8\",\"ticks\":\"\"}},\"ternary\":{\"bgcolor\":\"white\",\"aaxis\":{\"gridcolor\":\"#DFE8F3\",\"linecolor\":\"#A2B1C6\",\"ticks\":\"\"},\"baxis\":{\"gridcolor\":\"#DFE8F3\",\"linecolor\":\"#A2B1C6\",\"ticks\":\"\"},\"caxis\":{\"gridcolor\":\"#DFE8F3\",\"linecolor\":\"#A2B1C6\",\"ticks\":\"\"}},\"coloraxis\":{\"colorbar\":{\"outlinewidth\":0,\"ticks\":\"\"}},\"colorscale\":{\"sequential\":[[0.0,\"#0d0887\"],[0.1111111111111111,\"#46039f\"],[0.2222222222222222,\"#7201a8\"],[0.3333333333333333,\"#9c179e\"],[0.4444444444444444,\"#bd3786\"],[0.5555555555555556,\"#d8576b\"],[0.6666666666666666,\"#ed7953\"],[0.7777777777777778,\"#fb9f3a\"],[0.8888888888888888,\"#fdca26\"],[1.0,\"#f0f921\"]],\"sequentialminus\":[[0.0,\"#0d0887\"],[0.1111111111111111,\"#46039f\"],[0.2222222222222222,\"#7201a8\"],[0.3333333333333333,\"#9c179e\"],[0.4444444444444444,\"#bd3786\"],[0.5555555555555556,\"#d8576b\"],[0.6666666666666666,\"#ed7953\"],[0.7777777777777778,\"#fb9f3a\"],[0.8888888888888888,\"#fdca26\"],[1.0,\"#f0f921\"]],\"diverging\":[[0,\"#8e0152\"],[0.1,\"#c51b7d\"],[0.2,\"#de77ae\"],[0.3,\"#f1b6da\"],[0.4,\"#fde0ef\"],[0.5,\"#f7f7f7\"],[0.6,\"#e6f5d0\"],[0.7,\"#b8e186\"],[0.8,\"#7fbc41\"],[0.9,\"#4d9221\"],[1,\"#276419\"]]},\"xaxis\":{\"gridcolor\":\"#EBF0F8\",\"linecolor\":\"#EBF0F8\",\"ticks\":\"\",\"title\":{\"standoff\":15},\"zerolinecolor\":\"#EBF0F8\",\"automargin\":true,\"zerolinewidth\":2},\"yaxis\":{\"gridcolor\":\"#EBF0F8\",\"linecolor\":\"#EBF0F8\",\"ticks\":\"\",\"title\":{\"standoff\":15},\"zerolinecolor\":\"#EBF0F8\",\"automargin\":true,\"zerolinewidth\":2},\"scene\":{\"xaxis\":{\"backgroundcolor\":\"white\",\"gridcolor\":\"#DFE8F3\",\"linecolor\":\"#EBF0F8\",\"showbackground\":true,\"ticks\":\"\",\"zerolinecolor\":\"#EBF0F8\",\"gridwidth\":2},\"yaxis\":{\"backgroundcolor\":\"white\",\"gridcolor\":\"#DFE8F3\",\"linecolor\":\"#EBF0F8\",\"showbackground\":true,\"ticks\":\"\",\"zerolinecolor\":\"#EBF0F8\",\"gridwidth\":2},\"zaxis\":{\"backgroundcolor\":\"white\",\"gridcolor\":\"#DFE8F3\",\"linecolor\":\"#EBF0F8\",\"showbackground\":true,\"ticks\":\"\",\"zerolinecolor\":\"#EBF0F8\",\"gridwidth\":2}},\"shapedefaults\":{\"line\":{\"color\":\"#2a3f5f\"}},\"annotationdefaults\":{\"arrowcolor\":\"#2a3f5f\",\"arrowhead\":0,\"arrowwidth\":1},\"geo\":{\"bgcolor\":\"white\",\"landcolor\":\"white\",\"subunitcolor\":\"#C8D4E3\",\"showland\":true,\"showlakes\":true,\"lakecolor\":\"white\"},\"title\":{\"x\":0.05},\"mapbox\":{\"style\":\"light\"}}},\"xaxis\":{\"anchor\":\"y\",\"domain\":[0.0,1.0],\"title\":{\"text\":\"Time\"}},\"yaxis\":{\"anchor\":\"x\",\"domain\":[0.0,1.0],\"title\":{\"text\":\"Walking Eff.\"}},\"legend\":{\"tracegroupgap\":0},\"title\":{\"text\":\"Walaking Efficiency Over Time\"}},                        {\"responsive\": true}                    ).then(function(){\n",
       "                            \n",
       "var gd = document.getElementById('13bf9902-7757-4583-85a0-9594bd53ebb6');\n",
       "var x = new MutationObserver(function (mutations, observer) {{\n",
       "        var display = window.getComputedStyle(gd).display;\n",
       "        if (!display || display === 'none') {{\n",
       "            console.log([gd, 'removed!']);\n",
       "            Plotly.purge(gd);\n",
       "            observer.disconnect();\n",
       "        }}\n",
       "}});\n",
       "\n",
       "// Listen for the removal of the full notebook cells\n",
       "var notebookContainer = gd.closest('#notebook-container');\n",
       "if (notebookContainer) {{\n",
       "    x.observe(notebookContainer, {childList: true});\n",
       "}}\n",
       "\n",
       "// Listen for the clearing of the current output cell\n",
       "var outputEl = gd.closest('.output');\n",
       "if (outputEl) {{\n",
       "    x.observe(outputEl, {childList: true});\n",
       "}}\n",
       "\n",
       "                        })                };                });            </script>        </div>"
      ]
     },
     "metadata": {},
     "output_type": "display_data"
    }
   ],
   "source": [
    "data[\"Walking Eff.\"] = data[\"Distance\"]/data[\"Step Count\"]\n",
    "fig5 = px.line(data,x = \"Time\", y = \"Walking Eff.\", title = \"Walaking Efficiency Over Time\")\n",
    "fig5.show()"
   ]
  },
  {
   "cell_type": "markdown",
   "id": "7d3fe478",
   "metadata": {},
   "source": [
    "# Create Time Intervals : \n"
   ]
  },
  {
   "cell_type": "code",
   "execution_count": 45,
   "id": "715255fd",
   "metadata": {},
   "outputs": [
    {
     "name": "stderr",
     "output_type": "stream",
     "text": [
      "C:\\Users\\RGM\\AppData\\Local\\Temp\\ipykernel_16288\\2894008012.py:2: UserWarning:\n",
      "\n",
      "Could not infer format, so each element will be parsed individually, falling back to `dateutil`. To ensure parsing is consistent and as-expected, please specify a format.\n",
      "\n"
     ]
    },
    {
     "data": {
      "application/vnd.plotly.v1+json": {
       "config": {
        "plotlyServerURL": "https://plot.ly"
       },
       "data": [
        {
         "hovertemplate": "Time Interval=Afternoon<br>Step Count=%{x}<br>Walking Speed=%{y}<extra></extra>",
         "legendgroup": "Afternoon",
         "marker": {
          "color": "#636efa",
          "symbol": "circle"
         },
         "mode": "markers",
         "name": "Afternoon",
         "orientation": "v",
         "showlegend": true,
         "type": "scatter",
         "x": [
          46,
          645,
          14,
          13,
          17,
          122,
          839,
          118,
          590,
          425,
          260,
          838,
          959,
          89,
          472,
          117,
          30,
          492,
          431,
          502,
          708,
          675,
          58,
          27,
          81,
          6,
          50,
          78,
          96,
          132,
          33,
          91,
          16,
          501,
          240,
          20,
          8,
          185,
          144,
          526,
          46,
          118,
          230,
          293,
          12,
          9,
          41,
          22,
          15,
          485,
          1046,
          159,
          260,
          248,
          1082,
          275,
          276,
          149,
          87,
          37,
          969,
          640,
          1081
         ],
         "xaxis": "x",
         "y": [
          3.06,
          3.852,
          3.996,
          5.04,
          5.184,
          4.572,
          3.456,
          2.304,
          2.376,
          2.016,
          4.968,
          4.392,
          4.644,
          1.692,
          3.528,
          4.104,
          3.708,
          4.068,
          4.14,
          3.708,
          3.168,
          3.528,
          4.212,
          4.212,
          4.428,
          4.356,
          4.104,
          2.628,
          3.456,
          3.42,
          3.816,
          2.628,
          2.592,
          2.34,
          3.924,
          2.988,
          2.88,
          3.42,
          1.8,
          2.016,
          2.016,
          4.86,
          5.112,
          5.04,
          4.572,
          4.464,
          5.076,
          4.536,
          4.284,
          4.212,
          4.644,
          3.924,
          1.944,
          1.548,
          1.8,
          1.836,
          3.492,
          5.436,
          5.364,
          5.4,
          5.292,
          4.86,
          5.04
         ],
         "yaxis": "y"
        },
        {
         "hovertemplate": "<b>OLS trendline</b><br>Walking Speed = -1.70101e-05 * Step Count + 3.74265<br>R<sup>2</sup>=0.000023<br><br>Time Interval=Afternoon<br>Step Count=%{x}<br>Walking Speed=%{y} <b>(trend)</b><extra></extra>",
         "legendgroup": "Afternoon",
         "marker": {
          "color": "#636efa",
          "symbol": "circle"
         },
         "mode": "lines",
         "name": "Afternoon",
         "showlegend": false,
         "type": "scatter",
         "x": [
          6,
          8,
          9,
          12,
          13,
          14,
          15,
          16,
          17,
          20,
          22,
          27,
          30,
          33,
          37,
          41,
          46,
          46,
          50,
          58,
          78,
          81,
          87,
          89,
          91,
          96,
          117,
          118,
          118,
          122,
          132,
          144,
          149,
          159,
          185,
          230,
          240,
          248,
          260,
          260,
          275,
          276,
          293,
          425,
          431,
          472,
          485,
          492,
          501,
          502,
          526,
          590,
          640,
          645,
          675,
          708,
          838,
          839,
          959,
          969,
          1046,
          1081,
          1082
         ],
         "xaxis": "x",
         "y": [
          3.7425462407752064,
          3.7425122205283534,
          3.742495210404927,
          3.742444180034648,
          3.7424271699112217,
          3.7424101597877955,
          3.742393149664369,
          3.7423761395409425,
          3.7423591294175163,
          3.7423080990472375,
          3.7422740788003845,
          3.742189028183253,
          3.7421379978129736,
          3.742086967442695,
          3.7420189269489894,
          3.741950886455284,
          3.7418658358381522,
          3.7418658358381522,
          3.741797795344447,
          3.741661714357036,
          3.741321511888509,
          3.74127048151823,
          3.741168420777672,
          3.741134400530819,
          3.7411003802839664,
          3.7410153296668347,
          3.740658117074881,
          3.740641106951455,
          3.740641106951455,
          3.7405730664577495,
          3.740402965223486,
          3.7401988437423697,
          3.740113793125238,
          3.7399436918909745,
          3.7395014286818893,
          3.7387359731277034,
          3.73856587189344,
          3.738429790906029,
          3.738225669424913,
          3.738225669424913,
          3.7379705175735176,
          3.7379535074500914,
          3.7376643353518433,
          3.735418999059565,
          3.735316938319007,
          3.7346195232585266,
          3.734398391653984,
          3.73427932079,
          3.7341262296791626,
          3.734109219555736,
          3.7337009765935036,
          3.732612328694217,
          3.7317618225228997,
          3.731676771905768,
          3.7311664682029773,
          3.730605134129908,
          3.728393818084482,
          3.7283768079610557,
          3.726335593149894,
          3.72616549191563,
          3.7248557124118014,
          3.724260358091879,
          3.7242433479684527
         ],
         "yaxis": "y"
        },
        {
         "hovertemplate": "Time Interval=Evening<br>Step Count=%{x}<br>Walking Speed=%{y}<extra></extra>",
         "legendgroup": "Evening",
         "marker": {
          "color": "#EF553B",
          "symbol": "circle"
         },
         "mode": "markers",
         "name": "Evening",
         "orientation": "v",
         "showlegend": true,
         "type": "scatter",
         "x": [
          8,
          564,
          153,
          16,
          22,
          16,
          587,
          496,
          395,
          401,
          384,
          161,
          736,
          142,
          10,
          8,
          6,
          56,
          26,
          1,
          236,
          14,
          504,
          60,
          54,
          77,
          19,
          189,
          31,
          84,
          76,
          41,
          37,
          21,
          50,
          10,
          22,
          15,
          79,
          454,
          465,
          11,
          365,
          377,
          5,
          9,
          2,
          86,
          42,
          332,
          185,
          290,
          215,
          258,
          266,
          54,
          6,
          349,
          980,
          726,
          1065,
          831,
          126,
          62,
          25,
          543,
          393,
          197,
          16
         ],
         "xaxis": "x",
         "y": [
          5.04,
          4.464,
          4.788,
          4.068,
          3.816,
          4.572,
          2.268,
          3.348,
          3.492,
          3.348,
          2.88,
          2.7,
          2.844,
          3.276,
          2.16,
          3.6,
          3.744,
          3.42,
          4.032,
          4.14,
          3.816,
          2.772,
          3.24,
          3.384,
          2.124,
          5.004,
          4.608,
          2.052,
          2.448,
          3.132,
          3.204,
          2.592,
          3.888,
          4.464,
          5.4,
          5.292,
          5.364,
          5.004,
          3.708,
          4.824,
          5.004,
          5.04,
          4.86,
          5.076,
          5.22,
          5.148,
          5.004,
          5.328,
          4.176,
          3.06,
          3.312,
          5.58,
          5.472,
          5.22,
          5.328,
          3.852,
          4.968,
          5.076,
          3.564,
          4.68,
          4.428,
          4.536,
          4.212,
          3.852,
          4.32,
          3.312,
          3.528,
          3.456,
          4.428
         ],
         "yaxis": "y"
        },
        {
         "hovertemplate": "<b>OLS trendline</b><br>Walking Speed = -0.000303736 * Step Count + 4.11271<br>R<sup>2</sup>=0.006415<br><br>Time Interval=Evening<br>Step Count=%{x}<br>Walking Speed=%{y} <b>(trend)</b><extra></extra>",
         "legendgroup": "Evening",
         "marker": {
          "color": "#EF553B",
          "symbol": "circle"
         },
         "mode": "lines",
         "name": "Evening",
         "showlegend": false,
         "type": "scatter",
         "x": [
          1,
          2,
          5,
          6,
          6,
          8,
          8,
          9,
          10,
          10,
          11,
          14,
          15,
          16,
          16,
          16,
          19,
          21,
          22,
          22,
          25,
          26,
          31,
          37,
          41,
          42,
          50,
          54,
          54,
          56,
          60,
          62,
          76,
          77,
          79,
          84,
          86,
          126,
          142,
          153,
          161,
          185,
          189,
          197,
          215,
          236,
          258,
          266,
          290,
          332,
          349,
          365,
          377,
          384,
          393,
          395,
          401,
          454,
          465,
          496,
          504,
          543,
          564,
          587,
          726,
          736,
          831,
          980,
          1065
         ],
         "xaxis": "x",
         "y": [
          4.112405328539799,
          4.112101592778778,
          4.111190385495718,
          4.110886649734697,
          4.110886649734697,
          4.110279178212656,
          4.110279178212656,
          4.109975442451637,
          4.109671706690616,
          4.109671706690616,
          4.109367970929596,
          4.108456763646535,
          4.108153027885515,
          4.107849292124495,
          4.107849292124495,
          4.107849292124495,
          4.106938084841434,
          4.106330613319393,
          4.1060268775583735,
          4.1060268775583735,
          4.105115670275312,
          4.104811934514292,
          4.1032932557091915,
          4.10147084114307,
          4.100255898098989,
          4.099952162337968,
          4.097522276249807,
          4.096307333205726,
          4.096307333205726,
          4.095699861683685,
          4.094484918639604,
          4.093877447117563,
          4.08962514646328,
          4.08932141070226,
          4.088713939180219,
          4.087195260375118,
          4.086587788853078,
          4.074438358412268,
          4.069578586235944,
          4.066237492864721,
          4.063807606776559,
          4.056517948512074,
          4.055303005467993,
          4.05287311937983,
          4.0474058756814655,
          4.041027424700041,
          4.034345237957595,
          4.031915351869434,
          4.024625693604947,
          4.011868791642097,
          4.006705283704753,
          4.001845511528429,
          3.998200682396186,
          3.9960745320690445,
          3.9933409102198625,
          3.992733438697822,
          3.9909110241317003,
          3.9748130287976275,
          3.9714719354264045,
          3.962056126834777,
          3.959626240746615,
          3.9477805460668254,
          3.9414020950854005,
          3.9344161725819347,
          3.8921969018001206,
          3.8891595441899183,
          3.860304646892995,
          3.8150480185009785,
          3.7892304788142575
         ],
         "yaxis": "y"
        },
        {
         "hovertemplate": "Time Interval=Morning<br>Step Count=%{x}<br>Walking Speed=%{y}<extra></extra>",
         "legendgroup": "Morning",
         "marker": {
          "color": "#00cc96",
          "symbol": "circle"
         },
         "mode": "markers",
         "name": "Morning",
         "orientation": "v",
         "showlegend": true,
         "type": "scatter",
         "x": [
          37,
          14,
          22,
          206,
          44,
          17,
          24,
          26,
          110,
          2,
          9,
          13,
          10,
          36,
          99,
          3,
          31
         ],
         "xaxis": "x",
         "y": [
          4.896,
          1.728,
          5.148,
          4.968,
          5.184,
          3.348,
          5.148,
          4.752,
          4.788,
          4.824,
          5.076,
          5.148,
          5.004,
          4.788,
          3.312,
          4.608,
          4.536
         ],
         "yaxis": "y"
        },
        {
         "hovertemplate": "<b>OLS trendline</b><br>Walking Speed = 0.000760925 * Step Count + 4.513<br>R<sup>2</sup>=0.001872<br><br>Time Interval=Morning<br>Step Count=%{x}<br>Walking Speed=%{y} <b>(trend)</b><extra></extra>",
         "legendgroup": "Morning",
         "marker": {
          "color": "#00cc96",
          "symbol": "circle"
         },
         "mode": "lines",
         "name": "Morning",
         "showlegend": false,
         "type": "scatter",
         "x": [
          2,
          3,
          9,
          10,
          13,
          14,
          17,
          22,
          24,
          26,
          31,
          36,
          37,
          44,
          99,
          110,
          206
         ],
         "xaxis": "x",
         "y": [
          4.514525960634252,
          4.515286885401394,
          4.5198524340042425,
          4.520613358771384,
          4.522896133072809,
          4.523657057839951,
          4.5259398321413755,
          4.529744455977084,
          4.531266305511366,
          4.532788155045649,
          4.536592778881357,
          4.5403974027170655,
          4.541158327484207,
          4.546484800854198,
          4.588335663046983,
          4.596705835485541,
          4.669754613131131
         ],
         "yaxis": "y"
        }
       ],
       "layout": {
        "legend": {
         "title": {
          "text": "Time Interval"
         },
         "tracegroupgap": 0
        },
        "template": {
         "data": {
          "bar": [
           {
            "error_x": {
             "color": "#2a3f5f"
            },
            "error_y": {
             "color": "#2a3f5f"
            },
            "marker": {
             "line": {
              "color": "white",
              "width": 0.5
             },
             "pattern": {
              "fillmode": "overlay",
              "size": 10,
              "solidity": 0.2
             }
            },
            "type": "bar"
           }
          ],
          "barpolar": [
           {
            "marker": {
             "line": {
              "color": "white",
              "width": 0.5
             },
             "pattern": {
              "fillmode": "overlay",
              "size": 10,
              "solidity": 0.2
             }
            },
            "type": "barpolar"
           }
          ],
          "carpet": [
           {
            "aaxis": {
             "endlinecolor": "#2a3f5f",
             "gridcolor": "#C8D4E3",
             "linecolor": "#C8D4E3",
             "minorgridcolor": "#C8D4E3",
             "startlinecolor": "#2a3f5f"
            },
            "baxis": {
             "endlinecolor": "#2a3f5f",
             "gridcolor": "#C8D4E3",
             "linecolor": "#C8D4E3",
             "minorgridcolor": "#C8D4E3",
             "startlinecolor": "#2a3f5f"
            },
            "type": "carpet"
           }
          ],
          "choropleth": [
           {
            "colorbar": {
             "outlinewidth": 0,
             "ticks": ""
            },
            "type": "choropleth"
           }
          ],
          "contour": [
           {
            "colorbar": {
             "outlinewidth": 0,
             "ticks": ""
            },
            "colorscale": [
             [
              0,
              "#0d0887"
             ],
             [
              0.1111111111111111,
              "#46039f"
             ],
             [
              0.2222222222222222,
              "#7201a8"
             ],
             [
              0.3333333333333333,
              "#9c179e"
             ],
             [
              0.4444444444444444,
              "#bd3786"
             ],
             [
              0.5555555555555556,
              "#d8576b"
             ],
             [
              0.6666666666666666,
              "#ed7953"
             ],
             [
              0.7777777777777778,
              "#fb9f3a"
             ],
             [
              0.8888888888888888,
              "#fdca26"
             ],
             [
              1,
              "#f0f921"
             ]
            ],
            "type": "contour"
           }
          ],
          "contourcarpet": [
           {
            "colorbar": {
             "outlinewidth": 0,
             "ticks": ""
            },
            "type": "contourcarpet"
           }
          ],
          "heatmap": [
           {
            "colorbar": {
             "outlinewidth": 0,
             "ticks": ""
            },
            "colorscale": [
             [
              0,
              "#0d0887"
             ],
             [
              0.1111111111111111,
              "#46039f"
             ],
             [
              0.2222222222222222,
              "#7201a8"
             ],
             [
              0.3333333333333333,
              "#9c179e"
             ],
             [
              0.4444444444444444,
              "#bd3786"
             ],
             [
              0.5555555555555556,
              "#d8576b"
             ],
             [
              0.6666666666666666,
              "#ed7953"
             ],
             [
              0.7777777777777778,
              "#fb9f3a"
             ],
             [
              0.8888888888888888,
              "#fdca26"
             ],
             [
              1,
              "#f0f921"
             ]
            ],
            "type": "heatmap"
           }
          ],
          "heatmapgl": [
           {
            "colorbar": {
             "outlinewidth": 0,
             "ticks": ""
            },
            "colorscale": [
             [
              0,
              "#0d0887"
             ],
             [
              0.1111111111111111,
              "#46039f"
             ],
             [
              0.2222222222222222,
              "#7201a8"
             ],
             [
              0.3333333333333333,
              "#9c179e"
             ],
             [
              0.4444444444444444,
              "#bd3786"
             ],
             [
              0.5555555555555556,
              "#d8576b"
             ],
             [
              0.6666666666666666,
              "#ed7953"
             ],
             [
              0.7777777777777778,
              "#fb9f3a"
             ],
             [
              0.8888888888888888,
              "#fdca26"
             ],
             [
              1,
              "#f0f921"
             ]
            ],
            "type": "heatmapgl"
           }
          ],
          "histogram": [
           {
            "marker": {
             "pattern": {
              "fillmode": "overlay",
              "size": 10,
              "solidity": 0.2
             }
            },
            "type": "histogram"
           }
          ],
          "histogram2d": [
           {
            "colorbar": {
             "outlinewidth": 0,
             "ticks": ""
            },
            "colorscale": [
             [
              0,
              "#0d0887"
             ],
             [
              0.1111111111111111,
              "#46039f"
             ],
             [
              0.2222222222222222,
              "#7201a8"
             ],
             [
              0.3333333333333333,
              "#9c179e"
             ],
             [
              0.4444444444444444,
              "#bd3786"
             ],
             [
              0.5555555555555556,
              "#d8576b"
             ],
             [
              0.6666666666666666,
              "#ed7953"
             ],
             [
              0.7777777777777778,
              "#fb9f3a"
             ],
             [
              0.8888888888888888,
              "#fdca26"
             ],
             [
              1,
              "#f0f921"
             ]
            ],
            "type": "histogram2d"
           }
          ],
          "histogram2dcontour": [
           {
            "colorbar": {
             "outlinewidth": 0,
             "ticks": ""
            },
            "colorscale": [
             [
              0,
              "#0d0887"
             ],
             [
              0.1111111111111111,
              "#46039f"
             ],
             [
              0.2222222222222222,
              "#7201a8"
             ],
             [
              0.3333333333333333,
              "#9c179e"
             ],
             [
              0.4444444444444444,
              "#bd3786"
             ],
             [
              0.5555555555555556,
              "#d8576b"
             ],
             [
              0.6666666666666666,
              "#ed7953"
             ],
             [
              0.7777777777777778,
              "#fb9f3a"
             ],
             [
              0.8888888888888888,
              "#fdca26"
             ],
             [
              1,
              "#f0f921"
             ]
            ],
            "type": "histogram2dcontour"
           }
          ],
          "mesh3d": [
           {
            "colorbar": {
             "outlinewidth": 0,
             "ticks": ""
            },
            "type": "mesh3d"
           }
          ],
          "parcoords": [
           {
            "line": {
             "colorbar": {
              "outlinewidth": 0,
              "ticks": ""
             }
            },
            "type": "parcoords"
           }
          ],
          "pie": [
           {
            "automargin": true,
            "type": "pie"
           }
          ],
          "scatter": [
           {
            "fillpattern": {
             "fillmode": "overlay",
             "size": 10,
             "solidity": 0.2
            },
            "type": "scatter"
           }
          ],
          "scatter3d": [
           {
            "line": {
             "colorbar": {
              "outlinewidth": 0,
              "ticks": ""
             }
            },
            "marker": {
             "colorbar": {
              "outlinewidth": 0,
              "ticks": ""
             }
            },
            "type": "scatter3d"
           }
          ],
          "scattercarpet": [
           {
            "marker": {
             "colorbar": {
              "outlinewidth": 0,
              "ticks": ""
             }
            },
            "type": "scattercarpet"
           }
          ],
          "scattergeo": [
           {
            "marker": {
             "colorbar": {
              "outlinewidth": 0,
              "ticks": ""
             }
            },
            "type": "scattergeo"
           }
          ],
          "scattergl": [
           {
            "marker": {
             "colorbar": {
              "outlinewidth": 0,
              "ticks": ""
             }
            },
            "type": "scattergl"
           }
          ],
          "scattermapbox": [
           {
            "marker": {
             "colorbar": {
              "outlinewidth": 0,
              "ticks": ""
             }
            },
            "type": "scattermapbox"
           }
          ],
          "scatterpolar": [
           {
            "marker": {
             "colorbar": {
              "outlinewidth": 0,
              "ticks": ""
             }
            },
            "type": "scatterpolar"
           }
          ],
          "scatterpolargl": [
           {
            "marker": {
             "colorbar": {
              "outlinewidth": 0,
              "ticks": ""
             }
            },
            "type": "scatterpolargl"
           }
          ],
          "scatterternary": [
           {
            "marker": {
             "colorbar": {
              "outlinewidth": 0,
              "ticks": ""
             }
            },
            "type": "scatterternary"
           }
          ],
          "surface": [
           {
            "colorbar": {
             "outlinewidth": 0,
             "ticks": ""
            },
            "colorscale": [
             [
              0,
              "#0d0887"
             ],
             [
              0.1111111111111111,
              "#46039f"
             ],
             [
              0.2222222222222222,
              "#7201a8"
             ],
             [
              0.3333333333333333,
              "#9c179e"
             ],
             [
              0.4444444444444444,
              "#bd3786"
             ],
             [
              0.5555555555555556,
              "#d8576b"
             ],
             [
              0.6666666666666666,
              "#ed7953"
             ],
             [
              0.7777777777777778,
              "#fb9f3a"
             ],
             [
              0.8888888888888888,
              "#fdca26"
             ],
             [
              1,
              "#f0f921"
             ]
            ],
            "type": "surface"
           }
          ],
          "table": [
           {
            "cells": {
             "fill": {
              "color": "#EBF0F8"
             },
             "line": {
              "color": "white"
             }
            },
            "header": {
             "fill": {
              "color": "#C8D4E3"
             },
             "line": {
              "color": "white"
             }
            },
            "type": "table"
           }
          ]
         },
         "layout": {
          "annotationdefaults": {
           "arrowcolor": "#2a3f5f",
           "arrowhead": 0,
           "arrowwidth": 1
          },
          "autotypenumbers": "strict",
          "coloraxis": {
           "colorbar": {
            "outlinewidth": 0,
            "ticks": ""
           }
          },
          "colorscale": {
           "diverging": [
            [
             0,
             "#8e0152"
            ],
            [
             0.1,
             "#c51b7d"
            ],
            [
             0.2,
             "#de77ae"
            ],
            [
             0.3,
             "#f1b6da"
            ],
            [
             0.4,
             "#fde0ef"
            ],
            [
             0.5,
             "#f7f7f7"
            ],
            [
             0.6,
             "#e6f5d0"
            ],
            [
             0.7,
             "#b8e186"
            ],
            [
             0.8,
             "#7fbc41"
            ],
            [
             0.9,
             "#4d9221"
            ],
            [
             1,
             "#276419"
            ]
           ],
           "sequential": [
            [
             0,
             "#0d0887"
            ],
            [
             0.1111111111111111,
             "#46039f"
            ],
            [
             0.2222222222222222,
             "#7201a8"
            ],
            [
             0.3333333333333333,
             "#9c179e"
            ],
            [
             0.4444444444444444,
             "#bd3786"
            ],
            [
             0.5555555555555556,
             "#d8576b"
            ],
            [
             0.6666666666666666,
             "#ed7953"
            ],
            [
             0.7777777777777778,
             "#fb9f3a"
            ],
            [
             0.8888888888888888,
             "#fdca26"
            ],
            [
             1,
             "#f0f921"
            ]
           ],
           "sequentialminus": [
            [
             0,
             "#0d0887"
            ],
            [
             0.1111111111111111,
             "#46039f"
            ],
            [
             0.2222222222222222,
             "#7201a8"
            ],
            [
             0.3333333333333333,
             "#9c179e"
            ],
            [
             0.4444444444444444,
             "#bd3786"
            ],
            [
             0.5555555555555556,
             "#d8576b"
            ],
            [
             0.6666666666666666,
             "#ed7953"
            ],
            [
             0.7777777777777778,
             "#fb9f3a"
            ],
            [
             0.8888888888888888,
             "#fdca26"
            ],
            [
             1,
             "#f0f921"
            ]
           ]
          },
          "colorway": [
           "#636efa",
           "#EF553B",
           "#00cc96",
           "#ab63fa",
           "#FFA15A",
           "#19d3f3",
           "#FF6692",
           "#B6E880",
           "#FF97FF",
           "#FECB52"
          ],
          "font": {
           "color": "#2a3f5f"
          },
          "geo": {
           "bgcolor": "white",
           "lakecolor": "white",
           "landcolor": "white",
           "showlakes": true,
           "showland": true,
           "subunitcolor": "#C8D4E3"
          },
          "hoverlabel": {
           "align": "left"
          },
          "hovermode": "closest",
          "mapbox": {
           "style": "light"
          },
          "paper_bgcolor": "white",
          "plot_bgcolor": "white",
          "polar": {
           "angularaxis": {
            "gridcolor": "#EBF0F8",
            "linecolor": "#EBF0F8",
            "ticks": ""
           },
           "bgcolor": "white",
           "radialaxis": {
            "gridcolor": "#EBF0F8",
            "linecolor": "#EBF0F8",
            "ticks": ""
           }
          },
          "scene": {
           "xaxis": {
            "backgroundcolor": "white",
            "gridcolor": "#DFE8F3",
            "gridwidth": 2,
            "linecolor": "#EBF0F8",
            "showbackground": true,
            "ticks": "",
            "zerolinecolor": "#EBF0F8"
           },
           "yaxis": {
            "backgroundcolor": "white",
            "gridcolor": "#DFE8F3",
            "gridwidth": 2,
            "linecolor": "#EBF0F8",
            "showbackground": true,
            "ticks": "",
            "zerolinecolor": "#EBF0F8"
           },
           "zaxis": {
            "backgroundcolor": "white",
            "gridcolor": "#DFE8F3",
            "gridwidth": 2,
            "linecolor": "#EBF0F8",
            "showbackground": true,
            "ticks": "",
            "zerolinecolor": "#EBF0F8"
           }
          },
          "shapedefaults": {
           "line": {
            "color": "#2a3f5f"
           }
          },
          "ternary": {
           "aaxis": {
            "gridcolor": "#DFE8F3",
            "linecolor": "#A2B1C6",
            "ticks": ""
           },
           "baxis": {
            "gridcolor": "#DFE8F3",
            "linecolor": "#A2B1C6",
            "ticks": ""
           },
           "bgcolor": "white",
           "caxis": {
            "gridcolor": "#DFE8F3",
            "linecolor": "#A2B1C6",
            "ticks": ""
           }
          },
          "title": {
           "x": 0.05
          },
          "xaxis": {
           "automargin": true,
           "gridcolor": "#EBF0F8",
           "linecolor": "#EBF0F8",
           "ticks": "",
           "title": {
            "standoff": 15
           },
           "zerolinecolor": "#EBF0F8",
           "zerolinewidth": 2
          },
          "yaxis": {
           "automargin": true,
           "gridcolor": "#EBF0F8",
           "linecolor": "#EBF0F8",
           "ticks": "",
           "title": {
            "standoff": 15
           },
           "zerolinecolor": "#EBF0F8",
           "zerolinewidth": 2
          }
         }
        },
        "title": {
         "text": "Step Count and Walking Speed Variations by Time Interval"
        },
        "xaxis": {
         "anchor": "y",
         "domain": [
          0,
          1
         ],
         "title": {
          "text": "Step Count"
         }
        },
        "yaxis": {
         "anchor": "x",
         "domain": [
          0,
          1
         ],
         "title": {
          "text": "Walking Speed"
         }
        }
       }
      },
      "text/html": [
       "<div>                            <div id=\"d42db6a2-ad8f-4c45-a18c-e3a8536970e8\" class=\"plotly-graph-div\" style=\"height:525px; width:100%;\"></div>            <script type=\"text/javascript\">                require([\"plotly\"], function(Plotly) {                    window.PLOTLYENV=window.PLOTLYENV || {};                                    if (document.getElementById(\"d42db6a2-ad8f-4c45-a18c-e3a8536970e8\")) {                    Plotly.newPlot(                        \"d42db6a2-ad8f-4c45-a18c-e3a8536970e8\",                        [{\"hovertemplate\":\"Time Interval=Afternoon<br>Step Count=%{x}<br>Walking Speed=%{y}<extra></extra>\",\"legendgroup\":\"Afternoon\",\"marker\":{\"color\":\"#636efa\",\"symbol\":\"circle\"},\"mode\":\"markers\",\"name\":\"Afternoon\",\"orientation\":\"v\",\"showlegend\":true,\"x\":[46,645,14,13,17,122,839,118,590,425,260,838,959,89,472,117,30,492,431,502,708,675,58,27,81,6,50,78,96,132,33,91,16,501,240,20,8,185,144,526,46,118,230,293,12,9,41,22,15,485,1046,159,260,248,1082,275,276,149,87,37,969,640,1081],\"xaxis\":\"x\",\"y\":[3.06,3.852,3.996,5.04,5.184,4.572,3.456,2.304,2.376,2.016,4.968,4.392,4.644,1.692,3.528,4.104,3.708,4.068,4.14,3.708,3.168,3.528,4.212,4.212,4.428,4.356,4.104,2.628,3.456,3.42,3.816,2.628,2.592,2.34,3.924,2.988,2.88,3.42,1.8,2.016,2.016,4.86,5.112,5.04,4.572,4.464,5.076,4.536,4.284,4.212,4.644,3.924,1.944,1.548,1.8,1.836,3.492,5.436,5.364,5.4,5.292,4.86,5.04],\"yaxis\":\"y\",\"type\":\"scatter\"},{\"hovertemplate\":\"<b>OLS trendline</b><br>Walking Speed = -1.70101e-05 * Step Count + 3.74265<br>R<sup>2</sup>=0.000023<br><br>Time Interval=Afternoon<br>Step Count=%{x}<br>Walking Speed=%{y} <b>(trend)</b><extra></extra>\",\"legendgroup\":\"Afternoon\",\"marker\":{\"color\":\"#636efa\",\"symbol\":\"circle\"},\"mode\":\"lines\",\"name\":\"Afternoon\",\"showlegend\":false,\"x\":[6,8,9,12,13,14,15,16,17,20,22,27,30,33,37,41,46,46,50,58,78,81,87,89,91,96,117,118,118,122,132,144,149,159,185,230,240,248,260,260,275,276,293,425,431,472,485,492,501,502,526,590,640,645,675,708,838,839,959,969,1046,1081,1082],\"xaxis\":\"x\",\"y\":[3.7425462407752064,3.7425122205283534,3.742495210404927,3.742444180034648,3.7424271699112217,3.7424101597877955,3.742393149664369,3.7423761395409425,3.7423591294175163,3.7423080990472375,3.7422740788003845,3.742189028183253,3.7421379978129736,3.742086967442695,3.7420189269489894,3.741950886455284,3.7418658358381522,3.7418658358381522,3.741797795344447,3.741661714357036,3.741321511888509,3.74127048151823,3.741168420777672,3.741134400530819,3.7411003802839664,3.7410153296668347,3.740658117074881,3.740641106951455,3.740641106951455,3.7405730664577495,3.740402965223486,3.7401988437423697,3.740113793125238,3.7399436918909745,3.7395014286818893,3.7387359731277034,3.73856587189344,3.738429790906029,3.738225669424913,3.738225669424913,3.7379705175735176,3.7379535074500914,3.7376643353518433,3.735418999059565,3.735316938319007,3.7346195232585266,3.734398391653984,3.73427932079,3.7341262296791626,3.734109219555736,3.7337009765935036,3.732612328694217,3.7317618225228997,3.731676771905768,3.7311664682029773,3.730605134129908,3.728393818084482,3.7283768079610557,3.726335593149894,3.72616549191563,3.7248557124118014,3.724260358091879,3.7242433479684527],\"yaxis\":\"y\",\"type\":\"scatter\"},{\"hovertemplate\":\"Time Interval=Evening<br>Step Count=%{x}<br>Walking Speed=%{y}<extra></extra>\",\"legendgroup\":\"Evening\",\"marker\":{\"color\":\"#EF553B\",\"symbol\":\"circle\"},\"mode\":\"markers\",\"name\":\"Evening\",\"orientation\":\"v\",\"showlegend\":true,\"x\":[8,564,153,16,22,16,587,496,395,401,384,161,736,142,10,8,6,56,26,1,236,14,504,60,54,77,19,189,31,84,76,41,37,21,50,10,22,15,79,454,465,11,365,377,5,9,2,86,42,332,185,290,215,258,266,54,6,349,980,726,1065,831,126,62,25,543,393,197,16],\"xaxis\":\"x\",\"y\":[5.04,4.464,4.788,4.068,3.816,4.572,2.268,3.348,3.492,3.348,2.88,2.7,2.844,3.276,2.16,3.6,3.744,3.42,4.032,4.14,3.816,2.772,3.24,3.384,2.124,5.004,4.608,2.052,2.448,3.132,3.204,2.592,3.888,4.464,5.4,5.292,5.364,5.004,3.708,4.824,5.004,5.04,4.86,5.076,5.22,5.148,5.004,5.328,4.176,3.06,3.312,5.58,5.472,5.22,5.328,3.852,4.968,5.076,3.564,4.68,4.428,4.536,4.212,3.852,4.32,3.312,3.528,3.456,4.428],\"yaxis\":\"y\",\"type\":\"scatter\"},{\"hovertemplate\":\"<b>OLS trendline</b><br>Walking Speed = -0.000303736 * Step Count + 4.11271<br>R<sup>2</sup>=0.006415<br><br>Time Interval=Evening<br>Step Count=%{x}<br>Walking Speed=%{y} <b>(trend)</b><extra></extra>\",\"legendgroup\":\"Evening\",\"marker\":{\"color\":\"#EF553B\",\"symbol\":\"circle\"},\"mode\":\"lines\",\"name\":\"Evening\",\"showlegend\":false,\"x\":[1,2,5,6,6,8,8,9,10,10,11,14,15,16,16,16,19,21,22,22,25,26,31,37,41,42,50,54,54,56,60,62,76,77,79,84,86,126,142,153,161,185,189,197,215,236,258,266,290,332,349,365,377,384,393,395,401,454,465,496,504,543,564,587,726,736,831,980,1065],\"xaxis\":\"x\",\"y\":[4.112405328539799,4.112101592778778,4.111190385495718,4.110886649734697,4.110886649734697,4.110279178212656,4.110279178212656,4.109975442451637,4.109671706690616,4.109671706690616,4.109367970929596,4.108456763646535,4.108153027885515,4.107849292124495,4.107849292124495,4.107849292124495,4.106938084841434,4.106330613319393,4.1060268775583735,4.1060268775583735,4.105115670275312,4.104811934514292,4.1032932557091915,4.10147084114307,4.100255898098989,4.099952162337968,4.097522276249807,4.096307333205726,4.096307333205726,4.095699861683685,4.094484918639604,4.093877447117563,4.08962514646328,4.08932141070226,4.088713939180219,4.087195260375118,4.086587788853078,4.074438358412268,4.069578586235944,4.066237492864721,4.063807606776559,4.056517948512074,4.055303005467993,4.05287311937983,4.0474058756814655,4.041027424700041,4.034345237957595,4.031915351869434,4.024625693604947,4.011868791642097,4.006705283704753,4.001845511528429,3.998200682396186,3.9960745320690445,3.9933409102198625,3.992733438697822,3.9909110241317003,3.9748130287976275,3.9714719354264045,3.962056126834777,3.959626240746615,3.9477805460668254,3.9414020950854005,3.9344161725819347,3.8921969018001206,3.8891595441899183,3.860304646892995,3.8150480185009785,3.7892304788142575],\"yaxis\":\"y\",\"type\":\"scatter\"},{\"hovertemplate\":\"Time Interval=Morning<br>Step Count=%{x}<br>Walking Speed=%{y}<extra></extra>\",\"legendgroup\":\"Morning\",\"marker\":{\"color\":\"#00cc96\",\"symbol\":\"circle\"},\"mode\":\"markers\",\"name\":\"Morning\",\"orientation\":\"v\",\"showlegend\":true,\"x\":[37,14,22,206,44,17,24,26,110,2,9,13,10,36,99,3,31],\"xaxis\":\"x\",\"y\":[4.896,1.728,5.148,4.968,5.184,3.348,5.148,4.752,4.788,4.824,5.076,5.148,5.004,4.788,3.312,4.608,4.536],\"yaxis\":\"y\",\"type\":\"scatter\"},{\"hovertemplate\":\"<b>OLS trendline</b><br>Walking Speed = 0.000760925 * Step Count + 4.513<br>R<sup>2</sup>=0.001872<br><br>Time Interval=Morning<br>Step Count=%{x}<br>Walking Speed=%{y} <b>(trend)</b><extra></extra>\",\"legendgroup\":\"Morning\",\"marker\":{\"color\":\"#00cc96\",\"symbol\":\"circle\"},\"mode\":\"lines\",\"name\":\"Morning\",\"showlegend\":false,\"x\":[2,3,9,10,13,14,17,22,24,26,31,36,37,44,99,110,206],\"xaxis\":\"x\",\"y\":[4.514525960634252,4.515286885401394,4.5198524340042425,4.520613358771384,4.522896133072809,4.523657057839951,4.5259398321413755,4.529744455977084,4.531266305511366,4.532788155045649,4.536592778881357,4.5403974027170655,4.541158327484207,4.546484800854198,4.588335663046983,4.596705835485541,4.669754613131131],\"yaxis\":\"y\",\"type\":\"scatter\"}],                        {\"template\":{\"data\":{\"histogram2dcontour\":[{\"type\":\"histogram2dcontour\",\"colorbar\":{\"outlinewidth\":0,\"ticks\":\"\"},\"colorscale\":[[0.0,\"#0d0887\"],[0.1111111111111111,\"#46039f\"],[0.2222222222222222,\"#7201a8\"],[0.3333333333333333,\"#9c179e\"],[0.4444444444444444,\"#bd3786\"],[0.5555555555555556,\"#d8576b\"],[0.6666666666666666,\"#ed7953\"],[0.7777777777777778,\"#fb9f3a\"],[0.8888888888888888,\"#fdca26\"],[1.0,\"#f0f921\"]]}],\"choropleth\":[{\"type\":\"choropleth\",\"colorbar\":{\"outlinewidth\":0,\"ticks\":\"\"}}],\"histogram2d\":[{\"type\":\"histogram2d\",\"colorbar\":{\"outlinewidth\":0,\"ticks\":\"\"},\"colorscale\":[[0.0,\"#0d0887\"],[0.1111111111111111,\"#46039f\"],[0.2222222222222222,\"#7201a8\"],[0.3333333333333333,\"#9c179e\"],[0.4444444444444444,\"#bd3786\"],[0.5555555555555556,\"#d8576b\"],[0.6666666666666666,\"#ed7953\"],[0.7777777777777778,\"#fb9f3a\"],[0.8888888888888888,\"#fdca26\"],[1.0,\"#f0f921\"]]}],\"heatmap\":[{\"type\":\"heatmap\",\"colorbar\":{\"outlinewidth\":0,\"ticks\":\"\"},\"colorscale\":[[0.0,\"#0d0887\"],[0.1111111111111111,\"#46039f\"],[0.2222222222222222,\"#7201a8\"],[0.3333333333333333,\"#9c179e\"],[0.4444444444444444,\"#bd3786\"],[0.5555555555555556,\"#d8576b\"],[0.6666666666666666,\"#ed7953\"],[0.7777777777777778,\"#fb9f3a\"],[0.8888888888888888,\"#fdca26\"],[1.0,\"#f0f921\"]]}],\"heatmapgl\":[{\"type\":\"heatmapgl\",\"colorbar\":{\"outlinewidth\":0,\"ticks\":\"\"},\"colorscale\":[[0.0,\"#0d0887\"],[0.1111111111111111,\"#46039f\"],[0.2222222222222222,\"#7201a8\"],[0.3333333333333333,\"#9c179e\"],[0.4444444444444444,\"#bd3786\"],[0.5555555555555556,\"#d8576b\"],[0.6666666666666666,\"#ed7953\"],[0.7777777777777778,\"#fb9f3a\"],[0.8888888888888888,\"#fdca26\"],[1.0,\"#f0f921\"]]}],\"contourcarpet\":[{\"type\":\"contourcarpet\",\"colorbar\":{\"outlinewidth\":0,\"ticks\":\"\"}}],\"contour\":[{\"type\":\"contour\",\"colorbar\":{\"outlinewidth\":0,\"ticks\":\"\"},\"colorscale\":[[0.0,\"#0d0887\"],[0.1111111111111111,\"#46039f\"],[0.2222222222222222,\"#7201a8\"],[0.3333333333333333,\"#9c179e\"],[0.4444444444444444,\"#bd3786\"],[0.5555555555555556,\"#d8576b\"],[0.6666666666666666,\"#ed7953\"],[0.7777777777777778,\"#fb9f3a\"],[0.8888888888888888,\"#fdca26\"],[1.0,\"#f0f921\"]]}],\"surface\":[{\"type\":\"surface\",\"colorbar\":{\"outlinewidth\":0,\"ticks\":\"\"},\"colorscale\":[[0.0,\"#0d0887\"],[0.1111111111111111,\"#46039f\"],[0.2222222222222222,\"#7201a8\"],[0.3333333333333333,\"#9c179e\"],[0.4444444444444444,\"#bd3786\"],[0.5555555555555556,\"#d8576b\"],[0.6666666666666666,\"#ed7953\"],[0.7777777777777778,\"#fb9f3a\"],[0.8888888888888888,\"#fdca26\"],[1.0,\"#f0f921\"]]}],\"mesh3d\":[{\"type\":\"mesh3d\",\"colorbar\":{\"outlinewidth\":0,\"ticks\":\"\"}}],\"scatter\":[{\"fillpattern\":{\"fillmode\":\"overlay\",\"size\":10,\"solidity\":0.2},\"type\":\"scatter\"}],\"parcoords\":[{\"type\":\"parcoords\",\"line\":{\"colorbar\":{\"outlinewidth\":0,\"ticks\":\"\"}}}],\"scatterpolargl\":[{\"type\":\"scatterpolargl\",\"marker\":{\"colorbar\":{\"outlinewidth\":0,\"ticks\":\"\"}}}],\"bar\":[{\"error_x\":{\"color\":\"#2a3f5f\"},\"error_y\":{\"color\":\"#2a3f5f\"},\"marker\":{\"line\":{\"color\":\"white\",\"width\":0.5},\"pattern\":{\"fillmode\":\"overlay\",\"size\":10,\"solidity\":0.2}},\"type\":\"bar\"}],\"scattergeo\":[{\"type\":\"scattergeo\",\"marker\":{\"colorbar\":{\"outlinewidth\":0,\"ticks\":\"\"}}}],\"scatterpolar\":[{\"type\":\"scatterpolar\",\"marker\":{\"colorbar\":{\"outlinewidth\":0,\"ticks\":\"\"}}}],\"histogram\":[{\"marker\":{\"pattern\":{\"fillmode\":\"overlay\",\"size\":10,\"solidity\":0.2}},\"type\":\"histogram\"}],\"scattergl\":[{\"type\":\"scattergl\",\"marker\":{\"colorbar\":{\"outlinewidth\":0,\"ticks\":\"\"}}}],\"scatter3d\":[{\"type\":\"scatter3d\",\"line\":{\"colorbar\":{\"outlinewidth\":0,\"ticks\":\"\"}},\"marker\":{\"colorbar\":{\"outlinewidth\":0,\"ticks\":\"\"}}}],\"scattermapbox\":[{\"type\":\"scattermapbox\",\"marker\":{\"colorbar\":{\"outlinewidth\":0,\"ticks\":\"\"}}}],\"scatterternary\":[{\"type\":\"scatterternary\",\"marker\":{\"colorbar\":{\"outlinewidth\":0,\"ticks\":\"\"}}}],\"scattercarpet\":[{\"type\":\"scattercarpet\",\"marker\":{\"colorbar\":{\"outlinewidth\":0,\"ticks\":\"\"}}}],\"carpet\":[{\"aaxis\":{\"endlinecolor\":\"#2a3f5f\",\"gridcolor\":\"#C8D4E3\",\"linecolor\":\"#C8D4E3\",\"minorgridcolor\":\"#C8D4E3\",\"startlinecolor\":\"#2a3f5f\"},\"baxis\":{\"endlinecolor\":\"#2a3f5f\",\"gridcolor\":\"#C8D4E3\",\"linecolor\":\"#C8D4E3\",\"minorgridcolor\":\"#C8D4E3\",\"startlinecolor\":\"#2a3f5f\"},\"type\":\"carpet\"}],\"table\":[{\"cells\":{\"fill\":{\"color\":\"#EBF0F8\"},\"line\":{\"color\":\"white\"}},\"header\":{\"fill\":{\"color\":\"#C8D4E3\"},\"line\":{\"color\":\"white\"}},\"type\":\"table\"}],\"barpolar\":[{\"marker\":{\"line\":{\"color\":\"white\",\"width\":0.5},\"pattern\":{\"fillmode\":\"overlay\",\"size\":10,\"solidity\":0.2}},\"type\":\"barpolar\"}],\"pie\":[{\"automargin\":true,\"type\":\"pie\"}]},\"layout\":{\"autotypenumbers\":\"strict\",\"colorway\":[\"#636efa\",\"#EF553B\",\"#00cc96\",\"#ab63fa\",\"#FFA15A\",\"#19d3f3\",\"#FF6692\",\"#B6E880\",\"#FF97FF\",\"#FECB52\"],\"font\":{\"color\":\"#2a3f5f\"},\"hovermode\":\"closest\",\"hoverlabel\":{\"align\":\"left\"},\"paper_bgcolor\":\"white\",\"plot_bgcolor\":\"white\",\"polar\":{\"bgcolor\":\"white\",\"angularaxis\":{\"gridcolor\":\"#EBF0F8\",\"linecolor\":\"#EBF0F8\",\"ticks\":\"\"},\"radialaxis\":{\"gridcolor\":\"#EBF0F8\",\"linecolor\":\"#EBF0F8\",\"ticks\":\"\"}},\"ternary\":{\"bgcolor\":\"white\",\"aaxis\":{\"gridcolor\":\"#DFE8F3\",\"linecolor\":\"#A2B1C6\",\"ticks\":\"\"},\"baxis\":{\"gridcolor\":\"#DFE8F3\",\"linecolor\":\"#A2B1C6\",\"ticks\":\"\"},\"caxis\":{\"gridcolor\":\"#DFE8F3\",\"linecolor\":\"#A2B1C6\",\"ticks\":\"\"}},\"coloraxis\":{\"colorbar\":{\"outlinewidth\":0,\"ticks\":\"\"}},\"colorscale\":{\"sequential\":[[0.0,\"#0d0887\"],[0.1111111111111111,\"#46039f\"],[0.2222222222222222,\"#7201a8\"],[0.3333333333333333,\"#9c179e\"],[0.4444444444444444,\"#bd3786\"],[0.5555555555555556,\"#d8576b\"],[0.6666666666666666,\"#ed7953\"],[0.7777777777777778,\"#fb9f3a\"],[0.8888888888888888,\"#fdca26\"],[1.0,\"#f0f921\"]],\"sequentialminus\":[[0.0,\"#0d0887\"],[0.1111111111111111,\"#46039f\"],[0.2222222222222222,\"#7201a8\"],[0.3333333333333333,\"#9c179e\"],[0.4444444444444444,\"#bd3786\"],[0.5555555555555556,\"#d8576b\"],[0.6666666666666666,\"#ed7953\"],[0.7777777777777778,\"#fb9f3a\"],[0.8888888888888888,\"#fdca26\"],[1.0,\"#f0f921\"]],\"diverging\":[[0,\"#8e0152\"],[0.1,\"#c51b7d\"],[0.2,\"#de77ae\"],[0.3,\"#f1b6da\"],[0.4,\"#fde0ef\"],[0.5,\"#f7f7f7\"],[0.6,\"#e6f5d0\"],[0.7,\"#b8e186\"],[0.8,\"#7fbc41\"],[0.9,\"#4d9221\"],[1,\"#276419\"]]},\"xaxis\":{\"gridcolor\":\"#EBF0F8\",\"linecolor\":\"#EBF0F8\",\"ticks\":\"\",\"title\":{\"standoff\":15},\"zerolinecolor\":\"#EBF0F8\",\"automargin\":true,\"zerolinewidth\":2},\"yaxis\":{\"gridcolor\":\"#EBF0F8\",\"linecolor\":\"#EBF0F8\",\"ticks\":\"\",\"title\":{\"standoff\":15},\"zerolinecolor\":\"#EBF0F8\",\"automargin\":true,\"zerolinewidth\":2},\"scene\":{\"xaxis\":{\"backgroundcolor\":\"white\",\"gridcolor\":\"#DFE8F3\",\"linecolor\":\"#EBF0F8\",\"showbackground\":true,\"ticks\":\"\",\"zerolinecolor\":\"#EBF0F8\",\"gridwidth\":2},\"yaxis\":{\"backgroundcolor\":\"white\",\"gridcolor\":\"#DFE8F3\",\"linecolor\":\"#EBF0F8\",\"showbackground\":true,\"ticks\":\"\",\"zerolinecolor\":\"#EBF0F8\",\"gridwidth\":2},\"zaxis\":{\"backgroundcolor\":\"white\",\"gridcolor\":\"#DFE8F3\",\"linecolor\":\"#EBF0F8\",\"showbackground\":true,\"ticks\":\"\",\"zerolinecolor\":\"#EBF0F8\",\"gridwidth\":2}},\"shapedefaults\":{\"line\":{\"color\":\"#2a3f5f\"}},\"annotationdefaults\":{\"arrowcolor\":\"#2a3f5f\",\"arrowhead\":0,\"arrowwidth\":1},\"geo\":{\"bgcolor\":\"white\",\"landcolor\":\"white\",\"subunitcolor\":\"#C8D4E3\",\"showland\":true,\"showlakes\":true,\"lakecolor\":\"white\"},\"title\":{\"x\":0.05},\"mapbox\":{\"style\":\"light\"}}},\"xaxis\":{\"anchor\":\"y\",\"domain\":[0.0,1.0],\"title\":{\"text\":\"Step Count\"}},\"yaxis\":{\"anchor\":\"x\",\"domain\":[0.0,1.0],\"title\":{\"text\":\"Walking Speed\"}},\"legend\":{\"title\":{\"text\":\"Time Interval\"},\"tracegroupgap\":0},\"title\":{\"text\":\"Step Count and Walking Speed Variations by Time Interval\"}},                        {\"responsive\": true}                    ).then(function(){\n",
       "                            \n",
       "var gd = document.getElementById('d42db6a2-ad8f-4c45-a18c-e3a8536970e8');\n",
       "var x = new MutationObserver(function (mutations, observer) {{\n",
       "        var display = window.getComputedStyle(gd).display;\n",
       "        if (!display || display === 'none') {{\n",
       "            console.log([gd, 'removed!']);\n",
       "            Plotly.purge(gd);\n",
       "            observer.disconnect();\n",
       "        }}\n",
       "}});\n",
       "\n",
       "// Listen for the removal of the full notebook cells\n",
       "var notebookContainer = gd.closest('#notebook-container');\n",
       "if (notebookContainer) {{\n",
       "    x.observe(notebookContainer, {childList: true});\n",
       "}}\n",
       "\n",
       "// Listen for the clearing of the current output cell\n",
       "var outputEl = gd.closest('.output');\n",
       "if (outputEl) {{\n",
       "    x.observe(outputEl, {childList: true});\n",
       "}}\n",
       "\n",
       "                        })                };                });            </script>        </div>"
      ]
     },
     "metadata": {},
     "output_type": "display_data"
    }
   ],
   "source": [
    "time_intervals = pd.cut(pd.to_datetime(data[\"Time\"]).dt.hour,\n",
    "                        bins=[0, 12, 18, 24],\n",
    "                        labels=[\"Morning\", \"Afternoon\", \"Evening\"], \n",
    "                        right=False)\n",
    "\n",
    "data[\"Time Interval\"] = time_intervals\n",
    "\n",
    "# Variations in Step Count and Walking Speed by Time Interval\n",
    "fig7 = px.scatter(data, x=\"Step Count\",\n",
    "                  y=\"Walking Speed\",\n",
    "                  color=\"Time Interval\",\n",
    "                  title=\"Step Count and Walking Speed Variations by Time Interval\",\n",
    "                  trendline='ols')\n",
    "fig7.show()"
   ]
  },
  {
   "cell_type": "code",
   "execution_count": null,
   "id": "596be6a1",
   "metadata": {},
   "outputs": [],
   "source": []
  }
 ],
 "metadata": {
  "kernelspec": {
   "display_name": "Python 3 (ipykernel)",
   "language": "python",
   "name": "python3"
  },
  "language_info": {
   "codemirror_mode": {
    "name": "ipython",
    "version": 3
   },
   "file_extension": ".py",
   "mimetype": "text/x-python",
   "name": "python",
   "nbconvert_exporter": "python",
   "pygments_lexer": "ipython3",
   "version": "3.11.5"
  }
 },
 "nbformat": 4,
 "nbformat_minor": 5
}
